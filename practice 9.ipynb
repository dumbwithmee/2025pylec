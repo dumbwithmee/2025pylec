{
 "cells": [
  {
   "metadata": {},
   "cell_type": "markdown",
   "source": "# 9주차 - 튜플, 리스트, 딕셔너리",
   "id": "1fec980096f130b3"
  },
  {
   "metadata": {
    "ExecuteTime": {
     "end_time": "2025-05-02T08:21:35.653810Z",
     "start_time": "2025-05-02T08:21:31.962664Z"
    }
   },
   "cell_type": "code",
   "source": [
    "#9-1\n",
    "scores = []\n",
    "\n",
    "print('[점수입력]')\n",
    "for i in range(3):\n",
    "    n = int(input(f'#{i+1}?'))\n",
    "    scores.append(n)\n",
    "\n",
    "print('\\n[점수출력]')\n",
    "\n",
    "print(f'입력 점수:{scores[0]},{scores[1]},{scores[2]}')\n",
    "avg = (scores[0]+scores[1]+scores[2]) / len(scores)\n",
    "print(f'평균: {avg:.1f}')\n"
   ],
   "id": "1d86ab60f22a47c3",
   "outputs": [
    {
     "name": "stdout",
     "output_type": "stream",
     "text": [
      "[점수입력]\n",
      "\n",
      "[점수출력]\n",
      "입력 점수:22,33,22\n",
      "평균: 25.7\n"
     ]
    }
   ],
   "execution_count": 7
  },
  {
   "metadata": {
    "collapsed": true,
    "ExecuteTime": {
     "end_time": "2025-05-02T08:31:51.439091Z",
     "start_time": "2025-05-02T08:31:47.626069Z"
    }
   },
   "cell_type": "code",
   "source": [
    "#9-1\n",
    "scores = []\n",
    "\n",
    "print('[점수입력]')\n",
    "for i in range(3):\n",
    "    n = int(input(f'#{i+1}?'))\n",
    "    scores.append(n)\n",
    "\n",
    "print('\\n[점수출력]')\n",
    "print(f'입력 점수:{scores[0]},{scores[1]},{scores[2]}')\n",
    "avg = (scores[0]+scores[1]+scores[2]) / len(scores)\n",
    "print(f'평균: {avg:.1f}')\n",
    "\n",
    "print('\\n[검색]')\n",
    "s = int(input(f'찾고자 하는 점수는? : '))\n",
    "if s in scores :\n",
    "    idx = scores.index(s)\n",
    "    print(f'{s}점은 {idx + 1}번 학생의 점수입니다.')\n",
    "else :\n",
    "    print(f'{s}점을 받은 학생은 없습니다.')\n",
    "\n",
    "\n"
   ],
   "id": "initial_id",
   "outputs": [
    {
     "name": "stdout",
     "output_type": "stream",
     "text": [
      "[점수입력]\n",
      "\n",
      "[점수출력]\n",
      "입력 점수:11,22,33\n",
      "평균: 22.0\n",
      "\n",
      "[검색]\n",
      "44점을 받은 학생은 없습니다.\n"
     ]
    }
   ],
   "execution_count": 13
  },
  {
   "metadata": {
    "ExecuteTime": {
     "end_time": "2025-05-02T08:40:25.383394Z",
     "start_time": "2025-05-02T08:40:21.734149Z"
    }
   },
   "cell_type": "code",
   "source": [
    "#9-4\n",
    "shopping_bag = []\n",
    "\n",
    "while True:\n",
    "    i = input('상품명? : ')\n",
    "    if i == '':\n",
    "        break\n",
    "    shopping_bag.append(i)\n",
    "    print(f'장바구니에 {shopping_bag[-1]}가(이) 담겼습니다.')\n",
    "\n",
    "print(f'\\n >>> 장바구니 보기:{shopping_bag}')\n"
   ],
   "id": "3c5deeccda7cc12a",
   "outputs": [
    {
     "name": "stdout",
     "output_type": "stream",
     "text": [
      "장바구니에 11가(이) 담겼습니다.\n",
      "장바구니에 22가(이) 담겼습니다.\n",
      "장바구니에 33가(이) 담겼습니다.\n",
      "장바구니 보기:['11', '22', '33']\n"
     ]
    }
   ],
   "execution_count": 16
  },
  {
   "metadata": {
    "ExecuteTime": {
     "end_time": "2025-05-02T08:47:43.086836Z",
     "start_time": "2025-05-02T08:47:37.267877Z"
    }
   },
   "cell_type": "code",
   "source": [
    "#9-4\n",
    "# 딕셔너리를 사용하여 수량을 저장\n",
    "# 장바구니 내 상품을 검색하여 해당 상품의 수량 출력\n",
    "\n",
    "shopping_bag = {}\n",
    "\n",
    "while True:\n",
    "    item = input('상품명? : ')\n",
    "    if item == '':\n",
    "        break\n",
    "    qty = int(input('수량은? : '))\n",
    "    shopping_bag[item] = qty\n",
    "    print(f'장바구니에 {item} {qty}개가 담겼습니다.')\n",
    "\n",
    "print(f'\\n>>> 장바구니 보기 : {shopping_bag}')\n",
    "\n"
   ],
   "id": "ad1368b82c81236",
   "outputs": [
    {
     "name": "stdout",
     "output_type": "stream",
     "text": [
      "장바구니에 바나나 10개가 담겼습니다.\n",
      "\n",
      ">>> 장바구니 보기 : {'바나나': 10}\n"
     ]
    }
   ],
   "execution_count": 22
  }
 ],
 "metadata": {
  "kernelspec": {
   "display_name": "Python 3",
   "language": "python",
   "name": "python3"
  },
  "language_info": {
   "codemirror_mode": {
    "name": "ipython",
    "version": 2
   },
   "file_extension": ".py",
   "mimetype": "text/x-python",
   "name": "python",
   "nbconvert_exporter": "python",
   "pygments_lexer": "ipython2",
   "version": "2.7.6"
  }
 },
 "nbformat": 4,
 "nbformat_minor": 5
}
