{
 "cells": [
  {
   "metadata": {},
   "cell_type": "markdown",
   "source": "# 9주차 - 튜플, 리스트, 딕셔너리",
   "id": "1fec980096f130b3"
  },
  {
   "metadata": {
    "ExecuteTime": {
     "end_time": "2025-05-02T08:21:35.653810Z",
     "start_time": "2025-05-02T08:21:31.962664Z"
    }
   },
   "cell_type": "code",
   "source": [
    "#9-1\n",
    "scores = []\n",
    "\n",
    "print('[점수입력]')\n",
    "for i in range(3):\n",
    "    n = int(input(f'#{i+1}?'))\n",
    "    scores.append(n)\n",
    "\n",
    "print('\\n[점수출력]')\n",
    "\n",
    "print(f'입력 점수:{scores[0]},{scores[1]},{scores[2]}')\n",
    "avg = (scores[0]+scores[1]+scores[2]) / len(scores)\n",
    "print(f'평균: {avg:.1f}')\n"
   ],
   "id": "1d86ab60f22a47c3",
   "outputs": [
    {
     "name": "stdout",
     "output_type": "stream",
     "text": [
      "[점수입력]\n",
      "\n",
      "[점수출력]\n",
      "입력 점수:22,33,22\n",
      "평균: 25.7\n"
     ]
    }
   ],
   "execution_count": 7
  },
  {
   "metadata": {
    "collapsed": true,
    "ExecuteTime": {
     "end_time": "2025-05-02T08:31:51.439091Z",
     "start_time": "2025-05-02T08:31:47.626069Z"
    }
   },
   "cell_type": "code",
   "source": [
    "#9-1\n",
    "scores = []\n",
    "\n",
    "print('[점수입력]')\n",
    "for i in range(3):\n",
    "    n = int(input(f'#{i+1}?'))\n",
    "    scores.append(n)\n",
    "\n",
    "print('\\n[점수출력]')\n",
    "print(f'입력 점수:{scores[0]},{scores[1]},{scores[2]}')\n",
    "avg = (scores[0]+scores[1]+scores[2]) / len(scores)\n",
    "print(f'평균: {avg:.1f}')\n",
    "\n",
    "print('\\n[검색]')\n",
    "s = int(input(f'찾고자 하는 점수는? : '))\n",
    "if s in scores :\n",
    "    idx = scores.index(s)\n",
    "    print(f'{s}점은 {idx + 1}번 학생의 점수입니다.')\n",
    "else :\n",
    "    print(f'{s}점을 받은 학생은 없습니다.')\n",
    "\n",
    "\n"
   ],
   "id": "initial_id",
   "outputs": [
    {
     "name": "stdout",
     "output_type": "stream",
     "text": [
      "[점수입력]\n",
      "\n",
      "[점수출력]\n",
      "입력 점수:11,22,33\n",
      "평균: 22.0\n",
      "\n",
      "[검색]\n",
      "44점을 받은 학생은 없습니다.\n"
     ]
    }
   ],
   "execution_count": 13
  },
  {
   "metadata": {
    "ExecuteTime": {
     "end_time": "2025-05-02T08:40:25.383394Z",
     "start_time": "2025-05-02T08:40:21.734149Z"
    }
   },
   "cell_type": "code",
   "source": [
    "#9-4\n",
    "shopping_bag = []\n",
    "\n",
    "while True:\n",
    "    i = input('상품명? : ')\n",
    "    if i == '':\n",
    "        break\n",
    "    shopping_bag.append(i)\n",
    "    print(f'장바구니에 {shopping_bag[-1]}가(이) 담겼습니다.')\n",
    "\n",
    "print(f'\\n >>> 장바구니 보기:{shopping_bag}')\n"
   ],
   "id": "3c5deeccda7cc12a",
   "outputs": [
    {
     "name": "stdout",
     "output_type": "stream",
     "text": [
      "장바구니에 11가(이) 담겼습니다.\n",
      "장바구니에 22가(이) 담겼습니다.\n",
      "장바구니에 33가(이) 담겼습니다.\n",
      "장바구니 보기:['11', '22', '33']\n"
     ]
    }
   ],
   "execution_count": 16
  },
  {
   "metadata": {
    "ExecuteTime": {
     "end_time": "2025-06-12T07:38:36.054607Z",
     "start_time": "2025-06-12T07:38:29.792376Z"
    }
   },
   "cell_type": "code",
   "source": [
    "#9-4\n",
    "# 딕셔너리를 사용하여 수량을 저장\n",
    "# 장바구니 내 상품을 검색하여 해당 상품의 수량 출력\n",
    "\n",
    "shopping_bag = {}\n",
    "\n",
    "while True :\n",
    "    item = input('상품명? : ')\n",
    "    if item == '':\n",
    "        break\n",
    "    qty = int(input('수량은? : '))\n",
    "    shopping_bag[item] = qty\n",
    "    print(f'장바구니에 {item} {qty}개가 담겼습니다.')\n",
    "\n",
    "print(f'\\n>>> 장바구니 보기 : {shopping_bag}')\n",
    "\n",
    "print('[검색]')\n",
    "search_item = input('\\n장바구니에서 확인하고자 하는 상품은? : ')\n",
    "qty = shopping_bag.get(search_item)\n",
    "if qty is not None:\n",
    "    print(f'{search_item}는(은) {qty}개 담겨있습니다.')\n",
    "else:\n",
    "    print(f'{search_item}는(은) 장바구니에 없습니다.')"
   ],
   "id": "ad1368b82c81236",
   "outputs": [
    {
     "ename": "KeyboardInterrupt",
     "evalue": "Interrupted by user",
     "output_type": "error",
     "traceback": [
      "\u001B[0;31m---------------------------------------------------------------------------\u001B[0m",
      "\u001B[0;31mKeyboardInterrupt\u001B[0m                         Traceback (most recent call last)",
      "Cell \u001B[0;32mIn[1], line 8\u001B[0m\n\u001B[1;32m      5\u001B[0m shopping_bag \u001B[38;5;241m=\u001B[39m {}\n\u001B[1;32m      7\u001B[0m \u001B[38;5;28;01mwhile\u001B[39;00m \u001B[38;5;28;01mTrue\u001B[39;00m :\n\u001B[0;32m----> 8\u001B[0m     item \u001B[38;5;241m=\u001B[39m \u001B[38;5;28;43minput\u001B[39;49m\u001B[43m(\u001B[49m\u001B[38;5;124;43m'\u001B[39;49m\u001B[38;5;124;43m상품명? : \u001B[39;49m\u001B[38;5;124;43m'\u001B[39;49m\u001B[43m)\u001B[49m\n\u001B[1;32m      9\u001B[0m     \u001B[38;5;28;01mif\u001B[39;00m item \u001B[38;5;241m==\u001B[39m \u001B[38;5;124m'\u001B[39m\u001B[38;5;124m'\u001B[39m:\n\u001B[1;32m     10\u001B[0m         \u001B[38;5;28;01mbreak\u001B[39;00m\n",
      "File \u001B[0;32m~/Library/Python/3.9/lib/python/site-packages/ipykernel/kernelbase.py:1282\u001B[0m, in \u001B[0;36mKernel.raw_input\u001B[0;34m(self, prompt)\u001B[0m\n\u001B[1;32m   1280\u001B[0m     msg \u001B[38;5;241m=\u001B[39m \u001B[38;5;124m\"\u001B[39m\u001B[38;5;124mraw_input was called, but this frontend does not support input requests.\u001B[39m\u001B[38;5;124m\"\u001B[39m\n\u001B[1;32m   1281\u001B[0m     \u001B[38;5;28;01mraise\u001B[39;00m StdinNotImplementedError(msg)\n\u001B[0;32m-> 1282\u001B[0m \u001B[38;5;28;01mreturn\u001B[39;00m \u001B[38;5;28;43mself\u001B[39;49m\u001B[38;5;241;43m.\u001B[39;49m\u001B[43m_input_request\u001B[49m\u001B[43m(\u001B[49m\n\u001B[1;32m   1283\u001B[0m \u001B[43m    \u001B[49m\u001B[38;5;28;43mstr\u001B[39;49m\u001B[43m(\u001B[49m\u001B[43mprompt\u001B[49m\u001B[43m)\u001B[49m\u001B[43m,\u001B[49m\n\u001B[1;32m   1284\u001B[0m \u001B[43m    \u001B[49m\u001B[38;5;28;43mself\u001B[39;49m\u001B[38;5;241;43m.\u001B[39;49m\u001B[43m_parent_ident\u001B[49m\u001B[43m[\u001B[49m\u001B[38;5;124;43m\"\u001B[39;49m\u001B[38;5;124;43mshell\u001B[39;49m\u001B[38;5;124;43m\"\u001B[39;49m\u001B[43m]\u001B[49m\u001B[43m,\u001B[49m\n\u001B[1;32m   1285\u001B[0m \u001B[43m    \u001B[49m\u001B[38;5;28;43mself\u001B[39;49m\u001B[38;5;241;43m.\u001B[39;49m\u001B[43mget_parent\u001B[49m\u001B[43m(\u001B[49m\u001B[38;5;124;43m\"\u001B[39;49m\u001B[38;5;124;43mshell\u001B[39;49m\u001B[38;5;124;43m\"\u001B[39;49m\u001B[43m)\u001B[49m\u001B[43m,\u001B[49m\n\u001B[1;32m   1286\u001B[0m \u001B[43m    \u001B[49m\u001B[43mpassword\u001B[49m\u001B[38;5;241;43m=\u001B[39;49m\u001B[38;5;28;43;01mFalse\u001B[39;49;00m\u001B[43m,\u001B[49m\n\u001B[1;32m   1287\u001B[0m \u001B[43m\u001B[49m\u001B[43m)\u001B[49m\n",
      "File \u001B[0;32m~/Library/Python/3.9/lib/python/site-packages/ipykernel/kernelbase.py:1325\u001B[0m, in \u001B[0;36mKernel._input_request\u001B[0;34m(self, prompt, ident, parent, password)\u001B[0m\n\u001B[1;32m   1322\u001B[0m \u001B[38;5;28;01mexcept\u001B[39;00m \u001B[38;5;167;01mKeyboardInterrupt\u001B[39;00m:\n\u001B[1;32m   1323\u001B[0m     \u001B[38;5;66;03m# re-raise KeyboardInterrupt, to truncate traceback\u001B[39;00m\n\u001B[1;32m   1324\u001B[0m     msg \u001B[38;5;241m=\u001B[39m \u001B[38;5;124m\"\u001B[39m\u001B[38;5;124mInterrupted by user\u001B[39m\u001B[38;5;124m\"\u001B[39m\n\u001B[0;32m-> 1325\u001B[0m     \u001B[38;5;28;01mraise\u001B[39;00m \u001B[38;5;167;01mKeyboardInterrupt\u001B[39;00m(msg) \u001B[38;5;28;01mfrom\u001B[39;00m\u001B[38;5;250m \u001B[39m\u001B[38;5;28;01mNone\u001B[39;00m\n\u001B[1;32m   1326\u001B[0m \u001B[38;5;28;01mexcept\u001B[39;00m \u001B[38;5;167;01mException\u001B[39;00m:\n\u001B[1;32m   1327\u001B[0m     \u001B[38;5;28mself\u001B[39m\u001B[38;5;241m.\u001B[39mlog\u001B[38;5;241m.\u001B[39mwarning(\u001B[38;5;124m\"\u001B[39m\u001B[38;5;124mInvalid Message:\u001B[39m\u001B[38;5;124m\"\u001B[39m, exc_info\u001B[38;5;241m=\u001B[39m\u001B[38;5;28;01mTrue\u001B[39;00m)\n",
      "\u001B[0;31mKeyboardInterrupt\u001B[0m: Interrupted by user"
     ]
    }
   ],
   "execution_count": 1
  }
 ],
 "metadata": {
  "kernelspec": {
   "display_name": "Python 3",
   "language": "python",
   "name": "python3"
  },
  "language_info": {
   "codemirror_mode": {
    "name": "ipython",
    "version": 2
   },
   "file_extension": ".py",
   "mimetype": "text/x-python",
   "name": "python",
   "nbconvert_exporter": "python",
   "pygments_lexer": "ipython2",
   "version": "2.7.6"
  }
 },
 "nbformat": 4,
 "nbformat_minor": 5
}
