{
 "cells": [
  {
   "cell_type": "code",
   "execution_count": null,
   "id": "initial_id",
   "metadata": {
    "collapsed": true
   },
   "outputs": [],
   "source": [
    "from operator import index\n",
    "from traceback import print_tb\n",
    "\n",
    "from tensorflow.python.framework.test_ops import graph_def_version\n",
    "\n",
    "print(' \"때론 내 삶의 변화를 위해 \\ '내어맡김\\'이 필요하다'\" \")"
   ]
  },
  {
   "metadata": {},
   "cell_type": "code",
   "outputs": [],
   "execution_count": null,
   "source": "print('11\\t홍길동\\n123\\t일지매')",
   "id": "bb95ab3367becb44"
  },
  {
   "metadata": {
    "ExecuteTime": {
     "end_time": "2025-04-04T06:15:39.262570Z",
     "start_time": "2025-04-04T06:15:39.255572Z"
    }
   },
   "cell_type": "code",
   "source": [
    "print('동해물과 백두산이 마르고 닳도록 \\\n",
    "하느님이 보우하사 우리나라 만세')"
   ],
   "id": "edcf1b18a59bcea",
   "outputs": [
    {
     "name": "stdout",
     "output_type": "stream",
     "text": [
      "동해물과 백두산이 마르고 닳도록 하느님이 보우하사 우리나라 만세\n"
     ]
    }
   ],
   "execution_count": 3
  },
  {
   "metadata": {
    "ExecuteTime": {
     "end_time": "2025-04-04T06:18:00.318773Z",
     "start_time": "2025-04-04T06:18:00.305537Z"
    }
   },
   "cell_type": "code",
   "source": [
    "print('''\\\n",
    "11\\\n",
    "t홍길동123\\\n",
    "t일지매\\\n",
    "''')"
   ],
   "id": "a4b6350909700041",
   "outputs": [
    {
     "name": "stdout",
     "output_type": "stream",
     "text": [
      "11t홍길동123t일지매\n"
     ]
    }
   ],
   "execution_count": 5
  },
  {
   "metadata": {
    "ExecuteTime": {
     "end_time": "2025-04-04T06:20:37.227964Z",
     "start_time": "2025-04-04T06:20:37.221460Z"
    }
   },
   "cell_type": "code",
   "source": [
    "msg = '상명대학교'\n",
    "print(msg[0])\n",
    "print(msg[-1])"
   ],
   "id": "cec995208d821ed7",
   "outputs": [
    {
     "name": "stdout",
     "output_type": "stream",
     "text": [
      "상\n",
      "교\n"
     ]
    }
   ],
   "execution_count": 7
  },
  {
   "metadata": {
    "ExecuteTime": {
     "end_time": "2025-04-04T06:25:04.038093Z",
     "start_time": "2025-04-04T06:25:04.031015Z"
    }
   },
   "cell_type": "code",
   "source": [
    "msg = '상명대학교'\n",
    "print(msg[0:2])\n",
    "print(msg[:3])\n",
    "\n",
    "print(msg[2:5])\n",
    "print(msg[2:])\n",
    "\n",
    "print(msg[4:])"
   ],
   "id": "a42fd43926fa1070",
   "outputs": [
    {
     "name": "stdout",
     "output_type": "stream",
     "text": [
      "상명\n",
      "상명대\n",
      "대학교\n",
      "대학교\n",
      "교\n"
     ]
    }
   ],
   "execution_count": 10
  },
  {
   "metadata": {
    "ExecuteTime": {
     "end_time": "2025-04-04T06:29:08.336917Z",
     "start_time": "2025-04-04T06:29:08.329132Z"
    }
   },
   "cell_type": "code",
   "source": [
    "print('안녕','하세요')\n",
    "print('안녕'+'하세요')\n",
    "\n",
    "msg1, msg2 = '안녕', '하세요'\n",
    "print(msg1+msg2)\n",
    "print('안녕'+msg2)\n",
    "print(msg1+'하세요')"
   ],
   "id": "dbb5c5739ee032be",
   "outputs": [
    {
     "name": "stdout",
     "output_type": "stream",
     "text": [
      "안녕 하세요\n",
      "안녕하세요\n",
      "안녕하세요\n",
      "안녕하세요\n",
      "안녕하세요\n"
     ]
    }
   ],
   "execution_count": 11
  },
  {
   "metadata": {
    "ExecuteTime": {
     "end_time": "2025-04-04T06:31:06.389738Z",
     "start_time": "2025-04-04T06:31:06.385370Z"
    }
   },
   "cell_type": "code",
   "source": [
    "res = 2*2\n",
    "print('2 x 2 =', str(res))"
   ],
   "id": "f3517d122eba905c",
   "outputs": [
    {
     "name": "stdout",
     "output_type": "stream",
     "text": [
      "2 x 2 = 4\n"
     ]
    }
   ],
   "execution_count": 14
  },
  {
   "metadata": {
    "ExecuteTime": {
     "end_time": "2025-04-04T06:31:56.578785Z",
     "start_time": "2025-04-04T06:31:56.571655Z"
    }
   },
   "cell_type": "code",
   "source": [
    "print('*'*5)\n",
    "print(5*'print ')"
   ],
   "id": "a7c14d2a55033bf",
   "outputs": [
    {
     "name": "stdout",
     "output_type": "stream",
     "text": [
      "*****\n",
      "print print print print print \n"
     ]
    }
   ],
   "execution_count": 16
  },
  {
   "metadata": {
    "ExecuteTime": {
     "end_time": "2025-04-04T06:51:49.553938Z",
     "start_time": "2025-04-04T06:51:46.440178Z"
    }
   },
   "cell_type": "code",
   "source": [
    "def divide_name(name) :\n",
    "    last_name = name[0]\n",
    "    first_name = name[1:]\n",
    "    print('-'*12)\n",
    "    print(\"성  :\\t\" + last_name)\n",
    "    print(\"이름:\\t\" + first_name)\n",
    "    print('-'*12)\n",
    "\n",
    "name=input('당신의 이름은?')\n",
    "divide_name(name)\n"
   ],
   "id": "e895869983c14966",
   "outputs": [
    {
     "name": "stdout",
     "output_type": "stream",
     "text": [
      "------------\n",
      "성  :\t박\n",
      "이름:\t세연\n",
      "------------\n"
     ]
    }
   ],
   "execution_count": 22
  },
  {
   "metadata": {
    "ExecuteTime": {
     "end_time": "2025-04-04T06:59:40.130182Z",
     "start_time": "2025-04-04T06:59:35.766798Z"
    }
   },
   "cell_type": "code",
   "source": [
    "n1 = int(input('첫번쨰 정수는? '))\n",
    "n2 = int(input('두번쨰 정수는? '))\n",
    "\n",
    "print(f'{n1}와 {n2}의 평균은 = {(n1+n2)/2}')"
   ],
   "id": "b7a1de174eb1c065",
   "outputs": [
    {
     "name": "stdout",
     "output_type": "stream",
     "text": [
      "3와 3의 평균은 = 3.0\n"
     ]
    }
   ],
   "execution_count": 23
  },
  {
   "metadata": {
    "ExecuteTime": {
     "end_time": "2025-04-04T07:03:12.747259Z",
     "start_time": "2025-04-04T07:03:09.592740Z"
    }
   },
   "cell_type": "code",
   "source": [
    "num= int(input('정수는?'))\n",
    "\n",
    "print(f'2진 표현으로는 {num:b}입니다.')\n",
    "print(f'10진 표현으로는 {num:d}입니다.')\n",
    "print(f'16진 표현으로는 {num:x}입니다.')"
   ],
   "id": "b3bf28bb00113c34",
   "outputs": [
    {
     "name": "stdout",
     "output_type": "stream",
     "text": [
      "2진 표현으로는 110입니다.\n",
      "10진 표현으로는 6입니다.\n",
      "16진 표현으로는 6입니다.\n"
     ]
    }
   ],
   "execution_count": 26
  },
  {
   "metadata": {
    "ExecuteTime": {
     "end_time": "2025-04-04T07:07:41.378591Z",
     "start_time": "2025-04-04T07:07:35.755157Z"
    }
   },
   "cell_type": "code",
   "source": [
    "n1 = int(input('첫번쨰 정수는? '))\n",
    "n2 = int(input('두번쨰 정수는? '))\n",
    "\n",
    "avg = n1/n2\n",
    "\n",
    "print(f'{n1}/{n2}={avg}')\n",
    "print(f'{n1}/{n2}={avg:f}')\n",
    "print(f'{n1}/{n2}={avg:e}')\n",
    "print(f'{n1}/{n2}={avg:g}')"
   ],
   "id": "f364745b7f52f1e2",
   "outputs": [
    {
     "name": "stdout",
     "output_type": "stream",
     "text": [
      "2000/5=400.0\n",
      "2000/5=400.000000\n",
      "2000/5=4.000000e+02\n",
      "2000/5=400\n"
     ]
    }
   ],
   "execution_count": 29
  },
  {
   "metadata": {
    "ExecuteTime": {
     "end_time": "2025-04-04T07:12:19.957015Z",
     "start_time": "2025-04-04T07:12:19.947524Z"
    }
   },
   "cell_type": "code",
   "source": [
    "num = 15\n",
    "print(f'[{num:d}]')\n",
    "print(f'[{num:5d}]')\n",
    "print(f'[{num:<5d}]')\n",
    "print(f'[{num:^5d}]')\n",
    "print(f'[{12345678:5d}]')\n",
    "print(f'[{num:05d}]')"
   ],
   "id": "65b8450d76126284",
   "outputs": [
    {
     "name": "stdout",
     "output_type": "stream",
     "text": [
      "[15]\n",
      "[   15]\n",
      "[15   ]\n",
      "[ 15  ]\n",
      "[12345678]\n",
      "[00015]\n"
     ]
    }
   ],
   "execution_count": 31
  },
  {
   "metadata": {
    "ExecuteTime": {
     "end_time": "2025-04-04T07:16:15.129685Z",
     "start_time": "2025-04-04T07:16:15.116038Z"
    }
   },
   "cell_type": "code",
   "source": [
    "PI = 3.14159265\n",
    "print(f'[{PI:f}]')#소수점 6자리 이하\n",
    "print(f'[{PI:.2f}]')#소수점 이하 2자리\n",
    "print(f'[{PI:5.2f}]')\n",
    "print(f'[{PI:.2g}]') #변환되어 표시될 계수의 유효 자릿수의 개수"
   ],
   "id": "23d853b1b770fc13",
   "outputs": [
    {
     "name": "stdout",
     "output_type": "stream",
     "text": [
      "[3.141593]\n",
      "[3.14]\n",
      "[ 3.14]\n",
      "[3.1]\n"
     ]
    }
   ],
   "execution_count": 32
  },
  {
   "metadata": {
    "ExecuteTime": {
     "end_time": "2025-04-04T07:21:37.324331Z",
     "start_time": "2025-04-04T07:21:37.292046Z"
    }
   },
   "cell_type": "code",
   "source": "'today is %d %s.' %(17,'November')",
   "id": "721132ebf31833df",
   "outputs": [
    {
     "data": {
      "text/plain": [
       "'today is 3 April.'"
      ]
     },
     "execution_count": 33,
     "metadata": {},
     "output_type": "execute_result"
    }
   ],
   "execution_count": 33
  },
  {
   "metadata": {
    "ExecuteTime": {
     "end_time": "2025-04-04T07:26:27.006375Z",
     "start_time": "2025-04-04T07:26:27.001586Z"
    }
   },
   "cell_type": "code",
   "source": "'hello, {0},{2},{1}'.format('python','script',3)",
   "id": "7d54c60a7cb6e61d",
   "outputs": [
    {
     "data": {
      "text/plain": [
       "'hello, python,3,script'"
      ]
     },
     "execution_count": 38,
     "metadata": {},
     "output_type": "execute_result"
    }
   ],
   "execution_count": 38
  },
  {
   "metadata": {
    "ExecuteTime": {
     "end_time": "2025-04-04T07:26:39.350732Z",
     "start_time": "2025-04-04T07:26:39.344040Z"
    }
   },
   "cell_type": "code",
   "source": "'hello, {lang} {version}'.format(lang = 'python',version = 3)",
   "id": "fb8b29ec91f78a6b",
   "outputs": [
    {
     "data": {
      "text/plain": [
       "'hello, python 3'"
      ]
     },
     "execution_count": 39,
     "metadata": {},
     "output_type": "execute_result"
    }
   ],
   "execution_count": 39
  },
  {
   "metadata": {
    "ExecuteTime": {
     "end_time": "2025-04-04T07:29:08.614906Z",
     "start_time": "2025-04-04T07:29:08.606518Z"
    }
   },
   "cell_type": "code",
   "source": [
    "text = \"python\"\n",
    "print('t' in text)\n",
    "print('T' in text)\n",
    "print('th' in text)\n",
    "print('티' not in text)"
   ],
   "id": "b1e6efeec9d9c66b",
   "outputs": [
    {
     "name": "stdout",
     "output_type": "stream",
     "text": [
      "True\n",
      "False\n",
      "True\n",
      "True\n"
     ]
    }
   ],
   "execution_count": 42
  },
  {
   "metadata": {
    "ExecuteTime": {
     "end_time": "2025-04-04T07:31:03.137756Z",
     "start_time": "2025-04-04T07:30:59.056706Z"
    }
   },
   "cell_type": "code",
   "source": [
    "num = input('정수를 입력하세요 : ')\n",
    "length = len(num)\n",
    "print(f'입력하신 {num}은 {length}자리 정수입니다.')"
   ],
   "id": "eb1d5c937ce4ebdf",
   "outputs": [
    {
     "name": "stdout",
     "output_type": "stream",
     "text": [
      "입력하신 2345은 4자리 정수입니다.\n"
     ]
    }
   ],
   "execution_count": 44
  },
  {
   "metadata": {
    "ExecuteTime": {
     "end_time": "2025-04-04T07:35:09.322831Z",
     "start_time": "2025-04-04T07:35:09.316758Z"
    }
   },
   "cell_type": "code",
   "source": [
    "week = '간장공장공장장간장공장공장장공장'\n",
    "n=week.count('장')\n",
    "print(n)"
   ],
   "id": "5d49a70861d1350d",
   "outputs": [
    {
     "name": "stdout",
     "output_type": "stream",
     "text": [
      "9\n"
     ]
    }
   ],
   "execution_count": 46
  },
  {
   "metadata": {
    "ExecuteTime": {
     "end_time": "2025-04-04T07:40:46.259246Z",
     "start_time": "2025-04-04T07:40:46.247763Z"
    }
   },
   "cell_type": "code",
   "source": [
    "week = '월화수목금금금금금요일'\n",
    "pos=week.find('금')\n",
    "print(pos)\n",
    "\n",
    "pos=week.find('금',5)\n",
    "print(pos)\n",
    "\n",
    "pos=week.rfind('금')\n",
    "print(pos)"
   ],
   "id": "4a67dcbc43711065",
   "outputs": [
    {
     "name": "stdout",
     "output_type": "stream",
     "text": [
      "4\n",
      "5\n",
      "8\n"
     ]
    }
   ],
   "execution_count": 49
  },
  {
   "metadata": {
    "ExecuteTime": {
     "end_time": "2025-04-04T07:42:54.494330Z",
     "start_time": "2025-04-04T07:42:54.486143Z"
    }
   },
   "cell_type": "code",
   "source": [
    "msg = \"python은 배우기쉽다. python은 강력하다.\"\n",
    "res = msg.replace('python','파이썬')\n",
    "print(res)\n",
    "print(msg)"
   ],
   "id": "4a6be4f8fde4c40b",
   "outputs": [
    {
     "name": "stdout",
     "output_type": "stream",
     "text": [
      "파이썬은 배우기쉽다. 파이썬은 강력하다.\n",
      "python은 배우기쉽다. python은 강력하다.\n"
     ]
    }
   ],
   "execution_count": 50
  },
  {
   "metadata": {
    "ExecuteTime": {
     "end_time": "2025-04-04T08:11:54.074891Z",
     "start_time": "2025-04-04T08:11:48.357340Z"
    }
   },
   "cell_type": "code",
   "source": [
    "def introduce(name,grade) :\n",
    "    h = grade + 1\n",
    "    n= name[1:]\n",
    "    a = n+ '은(는) 내년에 ' + str(h) + '학년입니다.'\n",
    "    return a\n",
    "\n",
    "name = input('이름? ')\n",
    "grade = int(input('학년? '))\n",
    "\n",
    "print(introduce(name,grade))\n"
   ],
   "id": "46296f2e586c7126",
   "outputs": [
    {
     "name": "stdout",
     "output_type": "stream",
     "text": [
      "보검은(는) 내년에 2학년입니다.\n"
     ]
    }
   ],
   "execution_count": 55
  },
  {
   "metadata": {
    "ExecuteTime": {
     "end_time": "2025-04-04T08:18:22.288664Z",
     "start_time": "2025-04-04T08:18:22.278758Z"
    }
   },
   "cell_type": "code",
   "source": [
    "def rep_char(c,n) :\n",
    "    print(c*n)\n",
    "\n",
    "rep_char('-',10)\n",
    "rep_char('#',5)\n",
    "\n"
   ],
   "id": "fa9b4d64355fee53",
   "outputs": [
    {
     "name": "stdout",
     "output_type": "stream",
     "text": [
      "----------\n",
      "#####\n"
     ]
    }
   ],
   "execution_count": 56
  },
  {
   "metadata": {
    "ExecuteTime": {
     "end_time": "2025-04-04T08:27:26.888750Z",
     "start_time": "2025-04-04T08:27:23.308997Z"
    }
   },
   "cell_type": "code",
   "source": [
    "def draw_line_string(msg):\n",
    "    rep_char('-',len(msg)*2)\n",
    "    print(msg)\n",
    "    rep_char('-',len(msg)*2)\n",
    "\n",
    "def rep_char(c,n) :\n",
    "    print(c*n)\n",
    "\n",
    "msg = input('문자?')\n",
    "draw_line_string(msg)"
   ],
   "id": "dca7c716d89ddf83",
   "outputs": [
    {
     "name": "stdout",
     "output_type": "stream",
     "text": [
      "----\n",
      "문자\n",
      "----\n"
     ]
    }
   ],
   "execution_count": 64
  },
  {
   "metadata": {
    "ExecuteTime": {
     "end_time": "2025-04-04T08:31:19.218096Z",
     "start_time": "2025-04-04T08:31:19.206743Z"
    }
   },
   "cell_type": "code",
   "source": [
    "def rep_char(c,n) :\n",
    "    print(c*n)\n",
    "\n",
    "def draw_line_string(msg):\n",
    "    nstr = len(msg)\n",
    "    rep_char('-',nstr*2+4)\n",
    "    print(f'{msg}')\n",
    "    rep_char('-',nstr*2+4)\n",
    "\n",
    "draw_line_string('안녕하세요')\n",
    "draw_line_string('안녕')"
   ],
   "id": "2821f8d348a85986",
   "outputs": [
    {
     "name": "stdout",
     "output_type": "stream",
     "text": [
      "--------------\n",
      " 안녕하세요\n",
      "--------------\n",
      "--------\n",
      " 안녕\n",
      "--------\n"
     ]
    }
   ],
   "execution_count": 65
  },
  {
   "metadata": {
    "ExecuteTime": {
     "end_time": "2025-04-04T08:45:38.242756Z",
     "start_time": "2025-04-04T08:45:35.813017Z"
    }
   },
   "cell_type": "code",
   "source": [
    "def rep_char(c,n) :\n",
    "    print(c*n)\n",
    "\n",
    "def draw_line_string(msg):\n",
    "    nstr = len(msg1) if (len(msg1) > len(msg2)) else len(msg2)\n",
    "    print('input his/her name : ',msg)\n",
    "    rep_char('-',nstr)\n",
    "    print(f'Hello, {msg}')\n",
    "    print('Welcome to Seoul')\n",
    "    rep_char('-',nstr)\n",
    "\n",
    "\n",
    "m1 = input('input his/her name1 : ')\n",
    "draw_line_string(m1)\n"
   ],
   "id": "abc4d5f70c534c0",
   "outputs": [
    {
     "name": "stdout",
     "output_type": "stream",
     "text": [
      "input his/her name :  seng\n",
      "-------------------\n",
      "Hello, seng\n",
      "Welcome to Seoul\n",
      "-------------------\n"
     ]
    }
   ],
   "execution_count": 73
  }
 ],
 "metadata": {
  "kernelspec": {
   "display_name": "Python 3",
   "language": "python",
   "name": "python3"
  },
  "language_info": {
   "codemirror_mode": {
    "name": "ipython",
    "version": 2
   },
   "file_extension": ".py",
   "mimetype": "text/x-python",
   "name": "python",
   "nbconvert_exporter": "python",
   "pygments_lexer": "ipython2",
   "version": "2.7.6"
  }
 },
 "nbformat": 4,
 "nbformat_minor": 5
}
