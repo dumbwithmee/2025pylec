{
 "cells": [
  {
   "cell_type": "code",
   "id": "initial_id",
   "metadata": {
    "collapsed": true,
    "ExecuteTime": {
     "end_time": "2025-04-25T05:07:46.701118Z",
     "start_time": "2025-04-25T05:07:43.327401Z"
    }
   },
   "source": [
    "# 원의 넓이 구하기1\n",
    "# 사용자 정의 함수부\n",
    "def get_circle_area(radius) :\n",
    "    result = 3.14 * radius ** 2\n",
    "    return result\n",
    "\n",
    "# 주 프로그램부\n",
    "r = float(input('넓이를 구할 원의 반지름은? '))\n",
    "area = get_circle_area(r)\n",
    "print(area)"
   ],
   "outputs": [
    {
     "name": "stdout",
     "output_type": "stream",
     "text": [
      "30.959144000000002\n"
     ]
    }
   ],
   "execution_count": 1
  },
  {
   "metadata": {},
   "cell_type": "code",
   "outputs": [],
   "execution_count": null,
   "source": [
    "# 원의 넓이 구하기2\n",
    "# 사용자 정의 함수부\n",
    "def get_circle_area(radius) :\n",
    "    global area\n",
    "    area = 3.14 * radius ** 2\n",
    "\n",
    "# 주 프로그램부\n",
    "r = float(input('넓이를 구할 원의 반지름은? '))\n",
    "area = 0\n",
    "get_circle_area(r)\n",
    "print(area)"
   ],
   "id": "f3d1837f09b307bd"
  },
  {
   "metadata": {},
   "cell_type": "code",
   "outputs": [],
   "execution_count": null,
   "source": [
    "#원의 넓이 구하기3\n",
    "# 사용자 정의 함수부\n",
    "def get_circle_area(radius) :      # radius는 지역변수\n",
    "    area = 3.14 * radius ** 2   # area는 지역변수\n",
    "    return area\n",
    "\n",
    "# 주 프로그램부\n",
    "radius = float(input('넓이를 구할 원의 반지름은? '))\n",
    "area = get_circle_area(radius)\n",
    "print(area)"
   ],
   "id": "21fabb5a728c7b99"
  },
  {
   "metadata": {},
   "cell_type": "code",
   "outputs": [],
   "execution_count": null,
   "source": [
    "# 도형의 넓이를 구하는 모듈\n",
    "\n",
    "def get_circle_area(radius) :       # 원의 넓이 구하기\n",
    "    result = 3.14 * radius ** 2\n",
    "    return result\n",
    "\n",
    "def get_rect_area(width, height) :  # 직사각형의 넓이 구하기\n",
    "    result = width * height\n",
    "    return result\n",
    "#------------------------------------------> 모듈 임포트\n",
    "import calc_area\n",
    "\n",
    "# 주 프로그램부\n",
    "area = calc_area.get_circle_area(10)\n",
    "print(area)\n",
    "\n",
    "area = calc_area.get_rect_area(10, 20)\n",
    "print(area)"
   ],
   "id": "fb09da375867ae56"
  },
  {
   "metadata": {
    "ExecuteTime": {
     "end_time": "2025-04-25T05:29:10.092505Z",
     "start_time": "2025-04-25T05:29:10.075503Z"
    }
   },
   "cell_type": "code",
   "source": [
    "#주사위 굴리기\n",
    "from random import randint\n",
    "\n",
    "# 사용자 정의 함수부\n",
    "def roll_dice() :\n",
    "    return randint(1, 6)\n",
    "\n",
    "def main() :\n",
    "    print(roll_dice())\n",
    "    print(roll_dice())\n",
    "    print(roll_dice())\n",
    "    print(roll_dice())\n",
    "    print(roll_dice())\n",
    "\n",
    "# 주 프로그램부\n",
    "if __name__ == '__main__' :\n",
    "    main()\n"
   ],
   "id": "697308b2c782e7e0",
   "outputs": [
    {
     "name": "stdout",
     "output_type": "stream",
     "text": [
      "6\n",
      "1\n",
      "1\n",
      "1\n",
      "4\n"
     ]
    }
   ],
   "execution_count": 2
  },
  {
   "metadata": {
    "ExecuteTime": {
     "end_time": "2025-04-25T05:31:12.391639Z",
     "start_time": "2025-04-25T05:31:12.377848Z"
    }
   },
   "cell_type": "code",
   "source": [
    "#동전을 10번 던졌을때 어느면이 나오는가\n",
    "import random\n",
    "\n",
    "def toss_coin():\n",
    "    return \"앞면\" if random.randint(0, 1) == 0 else \"뒷면\"\n",
    "\n",
    "# 주 프로그램\n",
    "print(\"동전을 10번 던진 결과:\")\n",
    "for i in range(10):\n",
    "    result = toss_coin()\n",
    "    print(f\"{i+1}번째: {result}\")"
   ],
   "id": "c36fe6e5caf2abe7",
   "outputs": [
    {
     "name": "stdout",
     "output_type": "stream",
     "text": [
      "동전을 10번 던진 결과:\n",
      "1번째: 뒷면\n",
      "2번째: 앞면\n",
      "3번째: 뒷면\n",
      "4번째: 뒷면\n",
      "5번째: 앞면\n",
      "6번째: 뒷면\n",
      "7번째: 앞면\n",
      "8번째: 뒷면\n",
      "9번째: 뒷면\n",
      "10번째: 뒷면\n"
     ]
    }
   ],
   "execution_count": 3
  }
 ],
 "metadata": {
  "kernelspec": {
   "display_name": "Python 3",
   "language": "python",
   "name": "python3"
  },
  "language_info": {
   "codemirror_mode": {
    "name": "ipython",
    "version": 2
   },
   "file_extension": ".py",
   "mimetype": "text/x-python",
   "name": "python",
   "nbconvert_exporter": "python",
   "pygments_lexer": "ipython2",
   "version": "2.7.6"
  }
 },
 "nbformat": 4,
 "nbformat_minor": 5
}
