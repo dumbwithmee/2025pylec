{
 "cells": [
  {
   "cell_type": "code",
   "id": "initial_id",
   "metadata": {
    "collapsed": true,
    "ExecuteTime": {
     "end_time": "2025-05-09T06:12:29.183357Z",
     "start_time": "2025-05-09T06:12:23.374899Z"
    }
   },
   "source": [
    "def input_list(lst):\n",
    "    name = input(\"이름? : \")\n",
    "    num = input(\"번호? : \")\n",
    "\n",
    "    lst.append(name)\n",
    "    lst.append(num)\n",
    "\n",
    "userinfo = []\n",
    "input_list(userinfo)\n",
    "print(f'userinfo: {userinfo[1]}번 {userinfo[0]}')"
   ],
   "outputs": [
    {
     "name": "stdout",
     "output_type": "stream",
     "text": [
      "userinfo: 3번 : 상명\n"
     ]
    }
   ],
   "execution_count": 1
  },
  {
   "metadata": {
    "ExecuteTime": {
     "end_time": "2025-05-09T06:40:01.656578Z",
     "start_time": "2025-05-09T06:39:56.273768Z"
    }
   },
   "cell_type": "code",
   "source": [
    "def get_date() :\n",
    "    y = int(input('연도? '))\n",
    "    m = int(input('월? '))\n",
    "    d = int(input('일? '))\n",
    "    return (y, m, d)\n",
    "# 주 프로그램부\n",
    "print('당신의 생일을 입력하세요:')\n",
    "bday = get_date()\n",
    "print(f'당신의 만 60번째 생일은 {bday[0]+60}년 {bday[1]}월 {bday[2]}일입니다.')"
   ],
   "id": "6685b605ceb702d0",
   "outputs": [
    {
     "name": "stdout",
     "output_type": "stream",
     "text": [
      "당신의 생일을 입력하세요:\n",
      "당신의 만 60번째 생일은 2082년 1월 3일입니다.\n"
     ]
    }
   ],
   "execution_count": 2
  }
 ],
 "metadata": {
  "kernelspec": {
   "display_name": "Python 3",
   "language": "python",
   "name": "python3"
  },
  "language_info": {
   "codemirror_mode": {
    "name": "ipython",
    "version": 2
   },
   "file_extension": ".py",
   "mimetype": "text/x-python",
   "name": "python",
   "nbconvert_exporter": "python",
   "pygments_lexer": "ipython2",
   "version": "2.7.6"
  }
 },
 "nbformat": 4,
 "nbformat_minor": 5
}
