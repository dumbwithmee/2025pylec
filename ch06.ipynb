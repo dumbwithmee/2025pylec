{
 "cells": [
  {
   "cell_type": "code",
   "id": "initial_id",
   "metadata": {
    "collapsed": true,
    "ExecuteTime": {
     "end_time": "2025-04-11T06:20:38.760132Z",
     "start_time": "2025-04-11T06:20:35.433483Z"
    }
   },
   "source": [
    "from calendar import month\n",
    "from operator import truediv\n",
    "from symbol import return_stmt\n",
    "\n",
    "from IPython.core.debugger import prompt\n",
    "from tensorboard.compat.tensorflow_stub import string\n",
    "from tensorflow.python.framework.ops import get_gradient_function\n",
    "from tensorflow.python.ops.gen_tpu_ops import retrieve_tpu_embedding_frequency_estimator_parameters\n",
    "\n",
    "n1 = int(input('첫 번재 정수는?'))\n",
    "n2 = int(input('두 번재 정수는?'))\n",
    "\n",
    "print(f'{n1}은/는 {n2} 보다 큽니까? {n1 > n2}')\n",
    "print(f'{n1}은/는 {n2} 보다 크거나 혹은 같습니까? {n1 > n2}')"
   ],
   "outputs": [
    {
     "name": "stdout",
     "output_type": "stream",
     "text": [
      "1은/는 3 보다 큽니까? False\n"
     ]
    }
   ],
   "execution_count": 2
  },
  {
   "metadata": {
    "ExecuteTime": {
     "end_time": "2025-04-11T06:34:38.020805Z",
     "start_time": "2025-04-11T06:34:34.802975Z"
    }
   },
   "cell_type": "code",
   "source": [
    "age = int(input('당신의 나이는?'))\n",
    "\n",
    "res = age >=0 and age <=120\n",
    "print(f'{age}은(는) 유효한 나이인가? {res}')\n",
    "\n",
    "res = age < 0 or age >120\n",
    "print(f'{age}은/는 유효한 나이가 아닌가? {res}')\n",
    "print(f'{age}은/는 유효한 나이인가? {not res}')"
   ],
   "id": "542a3b90bcb7aa81",
   "outputs": [
    {
     "name": "stdout",
     "output_type": "stream",
     "text": [
      "1000은(는) 유효한 나이인가? False\n",
      "1000은/는 유효한 나이가 아닌가? True\n",
      "1000은/는 유효한 나이인가? False\n"
     ]
    }
   ],
   "execution_count": 4
  },
  {
   "metadata": {
    "ExecuteTime": {
     "end_time": "2025-04-11T06:49:48.362968Z",
     "start_time": "2025-04-11T06:49:45.246583Z"
    }
   },
   "cell_type": "code",
   "source": [
    "n1 = int(input('첫 번째 정수는?'))\n",
    "n2 = int(input('두 번째 정수는?'))\n",
    "\n",
    "if n1 > n2 : print(f'{n1} 은/는 {n2} 보다 크다')\n",
    "\n",
    "if n1 > n2 :\n",
    "    print(f'{n1} 은/는 {n2} 보다 크다')\n",
    "\n",
    "if n1 > n2 :\n",
    "    print(f'{n1} 은/는 {n2} 보다', end= (' '))\n",
    "else :\n",
    "    print(f'{n1} 은/는 {n2} 보다 크지 않다')\n",
    "\n",
    "# if n1 <= n2 :\n",
    "#     print(f'{n1} 은/는 {n2} 보다 크지 않다')\n",
    "\n",
    "print('끝')"
   ],
   "id": "6cc081d264bccebd",
   "outputs": [
    {
     "name": "stdout",
     "output_type": "stream",
     "text": [
      "3은/는 5 보다 크지 않다\n",
      "끝\n"
     ]
    }
   ],
   "execution_count": 8
  },
  {
   "metadata": {
    "ExecuteTime": {
     "end_time": "2025-04-11T07:11:08.791943Z",
     "start_time": "2025-04-11T07:11:07.332098Z"
    }
   },
   "cell_type": "code",
   "source": [
    "num = int(input('정수를 입력하세요 : '))\n",
    "\n",
    "if num %2 == 0 :\n",
    "    print(f'{num}은(는) 짝수입니다.')\n",
    "else :\n",
    "    print(f'{num}은(는) 홀수입니다.')"
   ],
   "id": "893f53bb9cc5d224",
   "outputs": [
    {
     "name": "stdout",
     "output_type": "stream",
     "text": [
      "333은(는) 홀수입니다.\n"
     ]
    }
   ],
   "execution_count": 12
  },
  {
   "metadata": {
    "ExecuteTime": {
     "end_time": "2025-04-11T07:15:35.191529Z",
     "start_time": "2025-04-11T07:15:33.089581Z"
    }
   },
   "cell_type": "code",
   "source": [
    "num = int(input('정수를 입력하세요 : '))\n",
    "\n",
    "def is_even_number(n) :\n",
    "    if n % 2 == 0 :\n",
    "        return True\n",
    "    else :\n",
    "        return False\n",
    "\n",
    "print(f'{num}은(는)', end =\"\")\n",
    "if is_even_number(num):\n",
    "    print('짝수')\n",
    "else :\n",
    "    print('홀수')"
   ],
   "id": "6c3650e4b77f1a2b",
   "outputs": [
    {
     "name": "stdout",
     "output_type": "stream",
     "text": [
      "33은(는)홀수\n"
     ]
    }
   ],
   "execution_count": 14
  },
  {
   "metadata": {
    "ExecuteTime": {
     "end_time": "2025-04-11T07:18:32.909612Z",
     "start_time": "2025-04-11T07:18:30.012951Z"
    }
   },
   "cell_type": "code",
   "source": [
    "num = int(input('정수를 입력하세요 : '))\n",
    "\n",
    "if num ==0 :\n",
    "    print('0', end='')\n",
    "else :\n",
    "    if num % 2 == 0 :\n",
    "        print('양수', end='')\n",
    "    else :\n",
    "        print('홀수', end='')\n",
    "\n",
    "print('입니다')"
   ],
   "id": "cff93923613c67a9",
   "outputs": [
    {
     "name": "stdout",
     "output_type": "stream",
     "text": [
      "양수"
     ]
    }
   ],
   "execution_count": 17
  },
  {
   "metadata": {
    "ExecuteTime": {
     "end_time": "2025-04-11T07:27:43.172062Z",
     "start_time": "2025-04-11T07:27:40.552450Z"
    }
   },
   "cell_type": "code",
   "source": [
    "score = int(input('점수는? '))\n",
    "\n",
    "def get_grade(score):\n",
    "    if score >= 90 :\n",
    "        return 'A'\n",
    "    elif score >= 80 :\n",
    "        return 'B'\n",
    "    elif score >= 70 :\n",
    "        return 'C'\n",
    "    elif score >= 60 :\n",
    "        return 'D'\n",
    "    else :\n",
    "        return 'F'\n",
    "\n",
    "grade = get_grade(score)\n",
    "print(f'{score}점이므로 학점은  {grade}입니다.')"
   ],
   "id": "4f567f133a3b3f41",
   "outputs": [
    {
     "name": "stdout",
     "output_type": "stream",
     "text": [
      "77점이므로 학점은  C입니다.\n"
     ]
    }
   ],
   "execution_count": 20
  },
  {
   "metadata": {
    "ExecuteTime": {
     "end_time": "2025-04-11T07:39:01.932745Z",
     "start_time": "2025-04-11T07:38:59.169788Z"
    }
   },
   "cell_type": "code",
   "source": [
    "year = int(input(\"윤년 여부를 확인할 연도는? \"))\n",
    "\n",
    "def get_year(year):\n",
    "    if year % 4 == 0 and year % 100 != 0 or year % 400 == 0 :\n",
    "        return True\n",
    "    else :\n",
    "        return False\n",
    "\n",
    "print(f'{year}년은 ', end='')\n",
    "\n",
    "if get_year(year) == True :\n",
    "    print('윤년입니다.')\n",
    "else:\n",
    "    print('평년입니다.')"
   ],
   "id": "b4370e69400a7eed",
   "outputs": [
    {
     "name": "stdout",
     "output_type": "stream",
     "text": [
      "2000년은 윤년입니다.\n"
     ]
    }
   ],
   "execution_count": 22
  },
  {
   "metadata": {},
   "cell_type": "code",
   "outputs": [],
   "execution_count": null,
   "source": [
    "year = int(input(\"연도?\"))\n",
    "month = int(input(\"월?\"))\n",
    "\n",
    "def is_leap_year(year):\n",
    "    if year % 4 == 0 and year % 100 != 0 or year % 400 == 0 :\n",
    "        return True\n",
    "    else :\n",
    "        return False\n",
    "def month_days(month):\n",
    "    if is_leap_year(year) == True :\n",
    "        month = 29\n",
    "    else :\n",
    "        month = 31\n"
   ],
   "id": "afd6293d86ff1088"
  },
  {
   "metadata": {},
   "cell_type": "code",
   "outputs": [],
   "execution_count": null,
   "source": [
    "# 사용자 정의 함수부\n",
    "def is_leap_year(year):\n",
    "    return (year % 4 == 0 and year % 100 != 0) or (year % 400 == 0)\n",
    "\n",
    "def month_days(year, month):\n",
    "    # 각 달의 기본 일수\n",
    "    days_in_month = [31, 28, 31, 30, 31, 30,\n",
    "                     31, 31, 30, 31, 30, 31]\n",
    "\n",
    "    # 2월이고 윤년이라면 29일\n",
    "    if month == 2 and is_leap_year(year):\n",
    "        return 29\n",
    "    return days_in_month[month - 1]\n",
    "\n",
    "# 주 프로그램 부분\n",
    "year = int(input(\"연도? \"))\n",
    "month = int(input(\"월? \"))\n",
    "\n",
    "days = month_days(year, month)\n",
    "print(f\"{year}년 {month}월은 {days}일까지 있습니다.\")\n"
   ],
   "id": "fae181970a90e733"
  },
  {
   "metadata": {},
   "cell_type": "code",
   "outputs": [],
   "execution_count": null,
   "source": [
    "# 교수님 예\n",
    "# 사용자 정의 함수부\n",
    "def is_leap_year(year):\n",
    "    return (year % 4 == 0 and year % 100 != 0) or (year % 400 == 0)\n",
    "\n",
    "def month_days(y, m):\n",
    "    if m ==4 or m==6 or m==9 or m==11 :\n",
    "        return 30\n",
    "    elif m ==2 :\n",
    "        if is_leap_year(y):\n",
    "            return 29\n",
    "        else:\n",
    "            return 28\n",
    "    else:\n",
    "        return 31\n",
    "\n",
    "\n",
    "    # 2월이고 윤년이라면 29일\n",
    "    if month == 2 and is_leap_year(year):\n",
    "        return 29\n",
    "    return days_in_month[month - 1]\n",
    "\n",
    "# 주 프로그램 부분\n",
    "year = int(input(\"연도? \"))\n",
    "month = int(input(\"월? \"))\n",
    "\n",
    "days = month_days(year, month)\n",
    "print(f\"{year}년 {month}월은 {days}일까지 있습니다.\")\n"
   ],
   "id": "5966d3c7fb6ea719"
  },
  {
   "metadata": {},
   "cell_type": "markdown",
   "source": "위에는 교수님 예시\n",
   "id": "6cf9cabf6b205b6a"
  },
  {
   "metadata": {
    "ExecuteTime": {
     "end_time": "2025-04-11T08:31:12.552321Z",
     "start_time": "2025-04-11T08:31:10.206198Z"
    }
   },
   "cell_type": "code",
   "source": [
    "def input_age(age):\n",
    "    if age >=0 and age <=120 :\n",
    "        return age\n",
    "    else :\n",
    "        return -1\n",
    "\n",
    "def is_adult(age):\n",
    "    if age >= 19 :\n",
    "        return True\n",
    "    else:\n",
    "        return False\n",
    "\n",
    "age = int(input('나이? '))\n",
    "if age == -1:\n",
    "    print(\"나이 입력 오류입니다.\")\n",
    "else:\n",
    "    if is_adult(age):\n",
    "        print(\"성인입니다.\")\n",
    "    else:\n",
    "        print(\"성인이 아닙니다..\")\n",
    "\n"
   ],
   "id": "800ec54938da71b8",
   "outputs": [
    {
     "name": "stdout",
     "output_type": "stream",
     "text": [
      "성인입니다.\n"
     ]
    }
   ],
   "execution_count": 25
  },
  {
   "metadata": {},
   "cell_type": "markdown",
   "source": "연습문제 7.4 내가 푼거 /교수님이 푼거",
   "id": "1430f811c0d75592"
  },
  {
   "metadata": {},
   "cell_type": "code",
   "outputs": [],
   "execution_count": null,
   "source": [
    "### 교수님꺼\n",
    "#사용자 정의 함수부\n",
    "def input_age(age):\n",
    "    if age >=0 and age <=120 :\n",
    "        return age\n",
    "    else :\n",
    "        return -1\n",
    "\n",
    "def is_adult(age):\n",
    "    if age >= 19 :\n",
    "        return True\n",
    "    else:\n",
    "        return False\n",
    "주프로그램부\n",
    "age = input_age"
   ],
   "id": "21078d7f1a94dba6"
  },
  {
   "metadata": {},
   "cell_type": "markdown",
   "source": "연습문제 7.5",
   "id": "64c400433484afe1"
  },
  {
   "metadata": {
    "ExecuteTime": {
     "end_time": "2025-04-11T08:42:11.563742Z",
     "start_time": "2025-04-11T08:42:09.178017Z"
    }
   },
   "cell_type": "code",
   "source": [
    "# 내가 푼거\n",
    "def find_char_type(prompt) :\n",
    "    if prompt == int:\n",
    "        return '숫자'\n",
    "    elif prompt == string :\n",
    "        return '문자'\n",
    "    elif prompt == ' ':\n",
    "        return '공백'\n",
    "    else :\n",
    "        return '기타'\n",
    "\n",
    "prompt = input('한 문자 입력?')\n",
    "ctype = find_char_type(prompt)\n",
    "print(f'{ctype} 문자를 입력했습니다.')"
   ],
   "id": "97d4af1f787c7f40",
   "outputs": [
    {
     "ename": "NameError",
     "evalue": "name 'string' is not defined",
     "output_type": "error",
     "traceback": [
      "\u001B[0;31m---------------------------------------------------------------------------\u001B[0m",
      "\u001B[0;31mNameError\u001B[0m                                 Traceback (most recent call last)",
      "Cell \u001B[0;32mIn[27], line 13\u001B[0m\n\u001B[1;32m     10\u001B[0m         \u001B[38;5;28;01mreturn\u001B[39;00m \u001B[38;5;124m'\u001B[39m\u001B[38;5;124m기타\u001B[39m\u001B[38;5;124m'\u001B[39m\n\u001B[1;32m     12\u001B[0m prompt \u001B[38;5;241m=\u001B[39m \u001B[38;5;28minput\u001B[39m(\u001B[38;5;124m'\u001B[39m\u001B[38;5;124m한 문자 입력?\u001B[39m\u001B[38;5;124m'\u001B[39m)\n\u001B[0;32m---> 13\u001B[0m ctype \u001B[38;5;241m=\u001B[39m \u001B[43mfind_char_type\u001B[49m\u001B[43m(\u001B[49m\u001B[43mprompt\u001B[49m\u001B[43m)\u001B[49m\n\u001B[1;32m     14\u001B[0m \u001B[38;5;28mprint\u001B[39m(\u001B[38;5;124mf\u001B[39m\u001B[38;5;124m'\u001B[39m\u001B[38;5;132;01m{\u001B[39;00mctype\u001B[38;5;132;01m}\u001B[39;00m\u001B[38;5;124m 문자를 입력했습니다.\u001B[39m\u001B[38;5;124m'\u001B[39m)\n",
      "Cell \u001B[0;32mIn[27], line 5\u001B[0m, in \u001B[0;36mfind_char_type\u001B[0;34m(prompt)\u001B[0m\n\u001B[1;32m      3\u001B[0m \u001B[38;5;28;01mif\u001B[39;00m prompt \u001B[38;5;241m==\u001B[39m \u001B[38;5;28mint\u001B[39m:\n\u001B[1;32m      4\u001B[0m     \u001B[38;5;28;01mreturn\u001B[39;00m \u001B[38;5;124m'\u001B[39m\u001B[38;5;124m숫자\u001B[39m\u001B[38;5;124m'\u001B[39m\n\u001B[0;32m----> 5\u001B[0m \u001B[38;5;28;01melif\u001B[39;00m prompt \u001B[38;5;241m==\u001B[39m \u001B[43mstring\u001B[49m :\n\u001B[1;32m      6\u001B[0m     \u001B[38;5;28;01mreturn\u001B[39;00m \u001B[38;5;124m'\u001B[39m\u001B[38;5;124m문자\u001B[39m\u001B[38;5;124m'\u001B[39m\n\u001B[1;32m      7\u001B[0m \u001B[38;5;28;01melif\u001B[39;00m prompt \u001B[38;5;241m==\u001B[39m \u001B[38;5;124m'\u001B[39m\u001B[38;5;124m \u001B[39m\u001B[38;5;124m'\u001B[39m:\n",
      "\u001B[0;31mNameError\u001B[0m: name 'string' is not defined"
     ]
    }
   ],
   "execution_count": 27
  },
  {
   "metadata": {},
   "cell_type": "code",
   "outputs": [],
   "execution_count": null,
   "source": [
    "def find_char_type(ch):\n",
    "    if '0' <= ch <= '9':\n",
    "        return \"숫자 문자\"\n",
    "    elif 'A' <= ch <= 'Z' or 'a' <= ch <= 'z':\n",
    "        return \"알파벳 문자\"\n",
    "    elif ch == ' ':\n",
    "        return \"공백 문자\"\n",
    "    else:\n",
    "        return \"기타 문자\"\n",
    "\n",
    "# 주 프로그램 부분\n",
    "ch = input(\"문자 1개를 입력하세요: \")\n",
    "\n",
    "if len(ch) != 1:\n",
    "    print(\"한 개의 문자만 입력하세요.\")\n",
    "else:\n",
    "    char_type = find_char_type(ch)\n",
    "    print(f\"입력한 문자는 {char_type}입니다.\")\n"
   ],
   "id": "706587d12620a28a"
  },
  {
   "metadata": {
    "ExecuteTime": {
     "end_time": "2025-04-11T08:43:40.197744Z",
     "start_time": "2025-04-11T08:43:36.733265Z"
    }
   },
   "cell_type": "code",
   "source": [
    "# 내가 수정한거\n",
    "def find_char_type(ch):\n",
    "    if '0' <= ch <= '9':\n",
    "        return \"숫자 문자\"\n",
    "    elif 'A' <= ch <= 'Z' or 'a' <= ch <= 'z':\n",
    "        return \"알파벳 문자\"\n",
    "    elif ch == ' ':\n",
    "        return \"공백 문자\"\n",
    "    else:\n",
    "        return \"기타 문자\"\n",
    "\n",
    "prompt = input('한 문자 입력?')\n",
    "ctype = find_char_type(prompt)\n",
    "print(f'{ctype} 문자를 입력했습니다.')"
   ],
   "id": "7f1339be058f2f5a",
   "outputs": [
    {
     "name": "stdout",
     "output_type": "stream",
     "text": [
      "기타 문자 문자를 입력했습니다.\n"
     ]
    }
   ],
   "execution_count": 29
  }
 ],
 "metadata": {
  "kernelspec": {
   "display_name": "Python 3",
   "language": "python",
   "name": "python3"
  },
  "language_info": {
   "codemirror_mode": {
    "name": "ipython",
    "version": 2
   },
   "file_extension": ".py",
   "mimetype": "text/x-python",
   "name": "python",
   "nbconvert_exporter": "python",
   "pygments_lexer": "ipython2",
   "version": "2.7.6"
  }
 },
 "nbformat": 4,
 "nbformat_minor": 5
}
