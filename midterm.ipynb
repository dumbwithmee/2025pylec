{
 "cells": [
  {
   "metadata": {},
   "cell_type": "markdown",
   "source": [
    "# 2024 기출문제\n",
    "1. 누진세 계산\n",
    "2. 랜덤 문자열 출력기\n",
    "3. 별표로 딱지그리기"
   ],
   "id": "8d81fdfbc77fd54b"
  },
  {
   "metadata": {
    "collapsed": true,
    "ExecuteTime": {
     "end_time": "2025-04-23T10:36:36.698108Z",
     "start_time": "2025-04-23T10:36:32.180609Z"
    }
   },
   "cell_type": "code",
   "source": [
    "def calculate_tax(income):\n",
    "    tax = 0\n",
    "    if income <= 12000000:\n",
    "        tax = income * 0.06\n",
    "    elif income <= 46000000:\n",
    "        tax = 12000000 * 0.06 + (income - 12000000) * 0.15\n",
    "    elif income <= 88000000:\n",
    "        tax = 12000000 * 0.06 + (46000000 - 12000000) * 0.15 + (income - 46000000) * 0.24\n",
    "    else:\n",
    "        tax = 12000000 * 0.06 + (46000000 - 12000000) * 0.15 + (88000000 - 46000000) * 0.24 + (income - 88000000) * 0.35\n",
    "    return int(tax)\n",
    "\n",
    "# 사용 예시\n",
    "income = int(input(\"과세표준 소득을 입력하세요: \"))\n",
    "print(f\"누진세는 {calculate_tax(income)}원입니다.\")"
   ],
   "id": "initial_id",
   "outputs": [
    {
     "name": "stdout",
     "output_type": "stream",
     "text": [
      "누진세는 60원입니다.\n"
     ]
    }
   ],
   "execution_count": 1
  },
  {
   "metadata": {
    "ExecuteTime": {
     "end_time": "2025-04-23T10:36:55.830884Z",
     "start_time": "2025-04-23T10:36:53.318221Z"
    }
   },
   "cell_type": "code",
   "source": [
    "import random\n",
    "import string\n",
    "\n",
    "def generate_random_string(length):\n",
    "    characters = string.ascii_letters + string.digits  # 대소문자 + 숫자\n",
    "    return ''.join(random.choice(characters) for _ in range(length))\n",
    "\n",
    "# 사용 예시\n",
    "n = int(input(\"원하는 랜덤 문자열의 길이를 입력하세요: \"))\n",
    "print(\"랜덤 문자열:\", generate_random_string(n))"
   ],
   "id": "1013d452177e9cda",
   "outputs": [
    {
     "name": "stdout",
     "output_type": "stream",
     "text": [
      "랜덤 문자열: xMb\n"
     ]
    }
   ],
   "execution_count": 2
  },
  {
   "metadata": {
    "ExecuteTime": {
     "end_time": "2025-04-23T10:37:24.132013Z",
     "start_time": "2025-04-23T10:37:20.249590Z"
    }
   },
   "cell_type": "code",
   "source": [
    "def print_diamond(n):\n",
    "    if n % 2 == 0:\n",
    "        print(\"홀수만 입력하세요.\")\n",
    "        return\n",
    "    half = n // 2\n",
    "    for i in range(half + 1):\n",
    "        print(' ' * (half - i) + '*' * (2 * i + 1))\n",
    "    for i in range(half - 1, -1, -1):\n",
    "        print(' ' * (half - i) + '*' * (2 * i + 1))\n",
    "\n",
    "# 사용 예시\n",
    "size = int(input(\"홀수 크기의 마름모 크기를 입력하세요: \"))\n",
    "print_diamond(size)"
   ],
   "id": "da6b3daf1fb6062",
   "outputs": [
    {
     "name": "stdout",
     "output_type": "stream",
     "text": [
      "  *\n",
      " ***\n",
      "*****\n",
      " ***\n",
      "  *\n"
     ]
    }
   ],
   "execution_count": 3
  },
  {
   "metadata": {},
   "cell_type": "markdown",
   "source": [
    "# 2023 기출\n",
    "1. 사각형 그리기\n",
    "2. 비트연산 계산기\n",
    "3. 환전 프로그램"
   ],
   "id": "4f710d7616558614"
  },
  {
   "metadata": {
    "ExecuteTime": {
     "end_time": "2025-04-23T10:38:27.909980Z",
     "start_time": "2025-04-23T10:38:24.438852Z"
    }
   },
   "cell_type": "code",
   "source": [
    "def draw_rectangle(width, height):\n",
    "    for i in range(height):\n",
    "        if i == 0 or i == height - 1:\n",
    "            print('*' * width)\n",
    "        else:\n",
    "            print('*' + ' ' * (width - 2) + '*')\n",
    "\n",
    "# 사용 예시\n",
    "w = int(input(\"가로 길이 입력: \"))\n",
    "h = int(input(\"세로 길이 입력: \"))\n",
    "draw_rectangle(w, h)"
   ],
   "id": "31e826ed9c1b2d56",
   "outputs": [
    {
     "name": "stdout",
     "output_type": "stream",
     "text": [
      "*****\n",
      "*****\n"
     ]
    }
   ],
   "execution_count": 4
  },
  {
   "metadata": {
    "ExecuteTime": {
     "end_time": "2025-04-23T10:39:12.806671Z",
     "start_time": "2025-04-23T10:39:09.413232Z"
    }
   },
   "cell_type": "code",
   "source": [
    "def bit_operations(a, b):\n",
    "    print(f\"{a} & {b} = {a & b}\")\n",
    "    print(f\"{a} | {b} = {a | b}\")\n",
    "    print(f\"{a} ^ {b} = {a ^ b}\")\n",
    "    print(f\"~{a} = {~a}\")\n",
    "    print(f\"~{b} = {~b}\")\n",
    "\n",
    "# 사용 예시\n",
    "x = int(input(\"첫 번째 정수 입력: \"))\n",
    "y = int(input(\"두 번째 정수 입력: \"))\n",
    "bit_operations(x, y)"
   ],
   "id": "66a36f2b4cc71efc",
   "outputs": [
    {
     "name": "stdout",
     "output_type": "stream",
     "text": [
      "3 & 5 = 1\n",
      "3 | 5 = 7\n",
      "3 ^ 5 = 6\n",
      "~3 = -4\n",
      "~5 = -6\n"
     ]
    }
   ],
   "execution_count": 6
  },
  {
   "metadata": {
    "ExecuteTime": {
     "end_time": "2025-04-23T10:38:50.620599Z",
     "start_time": "2025-04-23T10:38:42.934897Z"
    }
   },
   "cell_type": "code",
   "outputs": [
    {
     "name": "stdout",
     "output_type": "stream",
     "text": [
      "1000 KRW → 0.74 USD\n"
     ]
    }
   ],
   "execution_count": 5,
   "source": [
    "def currency_exchange(krw, currency):\n",
    "    rates = {\n",
    "        'USD': 1350,\n",
    "        'EUR': 1450,\n",
    "        'JPY': 9.5\n",
    "    }\n",
    "\n",
    "    if currency not in rates:\n",
    "        print(\"지원되지 않는 통화입니다.\")\n",
    "        return\n",
    "\n",
    "    exchanged = krw / rates[currency]\n",
    "    print(f\"{krw} KRW → {exchanged:.2f} {currency}\")\n",
    "\n",
    "# 사용 예시\n",
    "amount = int(input(\"환전할 원화를 입력하세요: \"))\n",
    "target = input(\"환전할 외화 (USD, EUR, JPY 중 택1): \").upper()\n",
    "currency_exchange(amount, target)"
   ],
   "id": "e21772fd5dd0cc0d"
  }
 ],
 "metadata": {
  "kernelspec": {
   "display_name": "Python 3",
   "language": "python",
   "name": "python3"
  },
  "language_info": {
   "codemirror_mode": {
    "name": "ipython",
    "version": 2
   },
   "file_extension": ".py",
   "mimetype": "text/x-python",
   "name": "python",
   "nbconvert_exporter": "python",
   "pygments_lexer": "ipython2",
   "version": "2.7.6"
  }
 },
 "nbformat": 4,
 "nbformat_minor": 5
}
