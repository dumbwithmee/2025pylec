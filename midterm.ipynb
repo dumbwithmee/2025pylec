{
 "cells": [
  {
   "metadata": {},
   "cell_type": "markdown",
   "source": [
    "# 2024 기출문제\n",
    "1. 누진세 계산\n",
    "2. 랜덤 문자열 출력기\n",
    "3. 별표로 딱지그리기"
   ],
   "id": "8d81fdfbc77fd54b"
  },
  {
   "metadata": {
    "collapsed": true,
    "ExecuteTime": {
     "end_time": "2025-04-23T10:36:36.698108Z",
     "start_time": "2025-04-23T10:36:32.180609Z"
    }
   },
   "cell_type": "code",
   "source": [
    "def calculate_tax(income):\n",
    "    tax = 0\n",
    "    if income <= 12000000:\n",
    "        tax = income * 0.06\n",
    "    elif income <= 46000000:\n",
    "        tax = 12000000 * 0.06 + (income - 12000000) * 0.15\n",
    "    elif income <= 88000000:\n",
    "        tax = 12000000 * 0.06 + (46000000 - 12000000) * 0.15 + (income - 46000000) * 0.24\n",
    "    else:\n",
    "        tax = 12000000 * 0.06 + (46000000 - 12000000) * 0.15 + (88000000 - 46000000) * 0.24 + (income - 88000000) * 0.35\n",
    "    return int(tax)\n",
    "\n",
    "# 사용 예시\n",
    "income = int(input(\"과세표준 소득을 입력하세요: \"))\n",
    "print(f\"누진세는 {calculate_tax(income)}원입니다.\")"
   ],
   "id": "initial_id",
   "outputs": [
    {
     "name": "stdout",
     "output_type": "stream",
     "text": [
      "누진세는 60원입니다.\n"
     ]
    }
   ],
   "execution_count": 1
  },
  {
   "metadata": {
    "ExecuteTime": {
     "end_time": "2025-04-24T15:44:32.594259Z",
     "start_time": "2025-04-24T15:44:31.135295Z"
    }
   },
   "cell_type": "code",
   "source": [
    "import random\n",
    "\n",
    "def generate_random_string(length):\n",
    "    characters = 'abcdefghijklmnopqrstuvwxyzABCDEFGHIJKLMNOPQRSTUVWXYZ0123456789'\n",
    "    return ''.join(random.choice(characters) for _ in range(length))\n",
    "\n",
    "# 사용 예시\n",
    "n = int(input(\"원하는 랜덤 문자열의 길이를 입력하세요: \"))\n",
    "print(\"랜덤 문자열:\", generate_random_string(n))"
   ],
   "id": "1013d452177e9cda",
   "outputs": [
    {
     "name": "stdout",
     "output_type": "stream",
     "text": [
      "랜덤 문자열: 3vbo\n"
     ]
    }
   ],
   "execution_count": 20
  },
  {
   "metadata": {},
   "cell_type": "code",
   "source": [
    "def print_top_bottom_x(n):\n",
    "    for i in range(n):\n",
    "        if i == 0 or i == n - 1:\n",
    "            print('*' * n)\n",
    "        else:\n",
    "            for j in range(n):\n",
    "                if j == i or j == n - 1 - i:\n",
    "                    print('*', end='')\n",
    "                else:\n",
    "                    print(' ', end='')\n",
    "            print()\n",
    "\n",
    "# 사용 예시\n",
    "print_top_bottom_x(5)"
   ],
   "id": "60aa8ba64d577f0f",
   "outputs": [],
   "execution_count": null
  },
  {
   "metadata": {
    "ExecuteTime": {
     "end_time": "2025-04-24T15:47:37.162908Z",
     "start_time": "2025-04-24T15:47:37.152902Z"
    }
   },
   "cell_type": "code",
   "source": [
    "def print_ddakji(n):\n",
    "    for i in range(n):\n",
    "        for j in range(n):\n",
    "            if j == i or j == n - 1 - i:\n",
    "                print('*', end='')\n",
    "            else:\n",
    "                print(' ', end='')\n",
    "        print()\n",
    "\n",
    "# 사용 예시\n",
    "print_ddakji(5)\n",
    "\n",
    "def print_framed_ddakji(n):\n",
    "    for i in range(n):\n",
    "        for j in range(n):\n",
    "            # 테두리 or 대각선 위치면 * 출력\n",
    "            if i == 0 or i == n - 1 or j == 0 or j == n - 1 or j == i or j == n - 1 - i:\n",
    "                print('*', end='')\n",
    "            else:\n",
    "                print(' ', end='')\n",
    "        print()\n",
    "\n",
    "# 사용 예시\n",
    "print_framed_ddakji(5)"
   ],
   "id": "da6b3daf1fb6062",
   "outputs": [
    {
     "name": "stdout",
     "output_type": "stream",
     "text": [
      "*   *\n",
      " * * \n",
      "  *  \n",
      " * * \n",
      "*   *\n",
      "*****\n",
      "** **\n",
      "* * *\n",
      "** **\n",
      "*****\n"
     ]
    }
   ],
   "execution_count": 24
  },
  {
   "metadata": {},
   "cell_type": "markdown",
   "source": [
    "# 2023 기출\n",
    "1. 사각형 그리기\n",
    "2. 비트연산 계산기\n",
    "3. 환전 프로그램"
   ],
   "id": "4f710d7616558614"
  },
  {
   "metadata": {
    "ExecuteTime": {
     "end_time": "2025-04-24T15:48:34.720013Z",
     "start_time": "2025-04-24T15:48:34.714946Z"
    }
   },
   "cell_type": "code",
   "source": [
    "def print_hollow_square(n):\n",
    "    for i in range(n):\n",
    "        if i == 0 or i == n - 1:\n",
    "            print('*' * n)  # 첫 줄과 마지막 줄은 전부 *\n",
    "        else:\n",
    "            print('*' + ' ' * (n - 2) + '*')  # 중간 줄은 양쪽만 *\n",
    "\n",
    "# 사용 예시\n",
    "print_hollow_square(5)"
   ],
   "id": "31e826ed9c1b2d56",
   "outputs": [
    {
     "name": "stdout",
     "output_type": "stream",
     "text": [
      "*****\n",
      "*   *\n",
      "*   *\n",
      "*   *\n",
      "*****\n"
     ]
    }
   ],
   "execution_count": 25
  },
  {
   "metadata": {
    "ExecuteTime": {
     "end_time": "2025-04-23T10:39:12.806671Z",
     "start_time": "2025-04-23T10:39:09.413232Z"
    }
   },
   "cell_type": "code",
   "source": [
    "def bit_operations(a, b):\n",
    "    print(f\"{a} & {b} = {a & b}\")\n",
    "    print(f\"{a} | {b} = {a | b}\")\n",
    "    print(f\"{a} ^ {b} = {a ^ b}\")\n",
    "    print(f\"~{a} = {~a}\")\n",
    "    print(f\"~{b} = {~b}\")\n",
    "\n",
    "# 사용 예시\n",
    "x = int(input(\"첫 번째 정수 입력: \"))\n",
    "y = int(input(\"두 번째 정수 입력: \"))\n",
    "bit_operations(x, y)"
   ],
   "id": "66a36f2b4cc71efc",
   "outputs": [
    {
     "name": "stdout",
     "output_type": "stream",
     "text": [
      "3 & 5 = 1\n",
      "3 | 5 = 7\n",
      "3 ^ 5 = 6\n",
      "~3 = -4\n",
      "~5 = -6\n"
     ]
    }
   ],
   "execution_count": 6
  },
  {
   "metadata": {
    "ExecuteTime": {
     "end_time": "2025-04-24T15:53:58.791789Z",
     "start_time": "2025-04-24T15:53:48.008849Z"
    }
   },
   "cell_type": "code",
   "source": [
    "def currency_exchange(krw, currency):\n",
    "    rates = {\n",
    "        'USD': 1350,\n",
    "        'EUR': 1450,\n",
    "        'JPY': 9.5\n",
    "    }\n",
    "\n",
    "    if currency not in rates:\n",
    "        print(\"지원되지 않는 통화입니다.\")\n",
    "        return\n",
    "\n",
    "    exchanged = krw / rates[currency]\n",
    "    print(f\"{krw} KRW → {exchanged:.2f} {currency}\")\n",
    "\n",
    "# 사용 예시\n",
    "amount = int(input(\"환전할 원화를 입력하세요: \"))\n",
    "target = input(\"환전할 외화 (USD, EUR, JPY 중 택1): \").upper()\n",
    "currency_exchange(amount, target)"
   ],
   "id": "e21772fd5dd0cc0d",
   "outputs": [
    {
     "name": "stdout",
     "output_type": "stream",
     "text": [
      "3555 KRW → 2.63 USD\n"
     ]
    }
   ],
   "execution_count": 26
  },
  {
   "metadata": {},
   "cell_type": "markdown",
   "source": "# 다른P 기출",
   "id": "e03ce9118d97d3ea"
  },
  {
   "metadata": {
    "ExecuteTime": {
     "end_time": "2025-04-24T15:12:20.808284Z",
     "start_time": "2025-04-24T15:12:13.335572Z"
    }
   },
   "cell_type": "code",
   "outputs": [
    {
     "name": "stdout",
     "output_type": "stream",
     "text": [
      "박세연님의 나이는 24세입니다.\n"
     ]
    }
   ],
   "execution_count": 9,
   "source": [
    "#사용자로부터 이름과 태어난 연도를 입력받아 나이를 출력\n",
    "def calculate_age():\n",
    "    name = input(\"이름을 입력하세요: \")\n",
    "    birth_year = int(input(\"태어난 연도를 입력하세요: \"))\n",
    "    current_year = 2025\n",
    "    age = current_year - birth_year + 1  # 한국식 나이 계산\n",
    "\n",
    "    print(f\"{name}님의 나이는 {age}세입니다.\")\n",
    "\n",
    "# 사용 예시\n",
    "calculate_age()"
   ],
   "id": "cc6a328c7d131627"
  },
  {
   "metadata": {
    "ExecuteTime": {
     "end_time": "2025-04-24T15:14:27.780999Z",
     "start_time": "2025-04-24T15:14:24.121623Z"
    }
   },
   "cell_type": "code",
   "source": [
    "#사용자로부터 정수를 입력받아 약수를 출력\n",
    "def print_divisors(n):\n",
    "    print(f\"{n}의 약수는:\")\n",
    "    for i in range(1, n + 1):\n",
    "        if n % i == 0:\n",
    "            print(i, end=' ')\n",
    "    print()  # 줄 바꿈\n",
    "\n",
    "# 사용자 입력\n",
    "num = int(input(\"정수를 입력하세요: \"))\n",
    "print_divisors(num)"
   ],
   "id": "a8ba5ba739d93359",
   "outputs": [
    {
     "name": "stdout",
     "output_type": "stream",
     "text": [
      "365의 약수는:\n",
      "1 5 73 365 \n"
     ]
    }
   ],
   "execution_count": 10
  },
  {
   "metadata": {
    "ExecuteTime": {
     "end_time": "2025-04-24T15:16:52.985111Z",
     "start_time": "2025-04-24T15:16:49.708938Z"
    }
   },
   "cell_type": "code",
   "source": [
    "#사용자로부터 정수를 입력받아 2와 3의 배수를 출력\n",
    "def print_multiples_of_2_and_3(n):\n",
    "    print(f\"1부터 {n}까지의 수 중 2와 3의 공배수는:\")\n",
    "    for i in range(1, n + 1):\n",
    "        if i % 2 == 0 and i % 3 == 0:\n",
    "            print(i, end=' ')\n",
    "    print()  # 줄 바꿈\n",
    "\n",
    "# 사용자 입력\n",
    "num = int(input(\"정수를 입력하세요: \"))\n",
    "print_multiples_of_2_and_3(num)\n",
    "\n",
    "#2와 3의 공배수는 사실상 6의 배수이기 때문에 i % 6 == 0으로 줄일 수도 있\n",
    "#반대로 2 또는 3의 배수가 궁금하다면 조건을 if i % 2 == 0 or i % 3 == 0으로 바꾸면 ㅇㅇ"
   ],
   "id": "78ff6eeb81b41164",
   "outputs": [
    {
     "name": "stdout",
     "output_type": "stream",
     "text": [
      "1부터 377까지의 수 중 2와 3의 공배수는:\n",
      "6 12 18 24 30 36 42 48 54 60 66 72 78 84 90 96 102 108 114 120 126 132 138 144 150 156 162 168 174 180 186 192 198 204 210 216 222 228 234 240 246 252 258 264 270 276 282 288 294 300 306 312 318 324 330 336 342 348 354 360 366 372 \n"
     ]
    }
   ],
   "execution_count": 11
  },
  {
   "metadata": {
    "ExecuteTime": {
     "end_time": "2025-04-24T15:19:38.766599Z",
     "start_time": "2025-04-24T15:19:32.767396Z"
    }
   },
   "cell_type": "code",
   "source": [
    "# 문자열 슬라이싱\n",
    "# 사용자로부터 문자열 입력\n",
    "text = input(\"문자열을 입력하세요: \")\n",
    "\n",
    "print(\"\\n[슬라이싱 예제]\")\n",
    "print(f\"전체 문자열: {text}\")\n",
    "print(f\"앞에서 5글자: {text[:5]}\")\n",
    "print(f\"뒤에서 3글자: {text[-3:]}\")\n",
    "print(f\"짝수 인덱스 문자들: {text[::2]}\")\n",
    "print(f\"홀수 인덱스 문자들: {text[1::2]}\")\n",
    "print(f\"거꾸로 출력: {text[::-1]}\")"
   ],
   "id": "71a0306748f1fdd5",
   "outputs": [
    {
     "name": "stdout",
     "output_type": "stream",
     "text": [
      "\n",
      "[슬라이싱 예제]\n",
      "전체 문자열: hellopython\n",
      "앞에서 5글자: hello\n",
      "뒤에서 3글자: hon\n",
      "짝수 인덱스 문자들: hloyhn\n",
      "홀수 인덱스 문자들: elpto\n",
      "거꾸로 출력: nohtypolleh\n"
     ]
    }
   ],
   "execution_count": 12
  },
  {
   "metadata": {
    "ExecuteTime": {
     "end_time": "2025-04-24T15:20:51.798539Z",
     "start_time": "2025-04-24T15:20:49.771692Z"
    }
   },
   "cell_type": "code",
   "source": [
    "#- 주사위 짝수, 홀수 횟수를 출력\n",
    "import random\n",
    "\n",
    "def roll_dice(n):\n",
    "    even_count = 0\n",
    "    odd_count = 0\n",
    "\n",
    "    print(\"주사위 결과:\", end=\" \")\n",
    "    for _ in range(n):\n",
    "        roll = random.randint(1, 6)\n",
    "        print(roll, end=\" \")\n",
    "        if roll % 2 == 0:\n",
    "            even_count += 1\n",
    "        else:\n",
    "            odd_count += 1\n",
    "\n",
    "    print(f\"\\n\\n총 {n}번 주사위를 굴렸습니다.\")\n",
    "    print(f\"짝수 횟수: {even_count}\")\n",
    "    print(f\"홀수 횟수: {odd_count}\")\n",
    "\n",
    "# 실행 예시\n",
    "times = int(input(\"주사위를 몇 번 굴릴까요? \"))\n",
    "roll_dice(times)"
   ],
   "id": "151f0221d45ebe05",
   "outputs": [
    {
     "name": "stdout",
     "output_type": "stream",
     "text": [
      "주사위 결과: 4 1 6 4 2 \n",
      "\n",
      "총 5번 주사위를 굴렸습니다.\n",
      "짝수 횟수: 4\n",
      "홀수 횟수: 1\n"
     ]
    }
   ],
   "execution_count": 13
  },
  {
   "metadata": {
    "ExecuteTime": {
     "end_time": "2025-04-24T15:24:09.052930Z",
     "start_time": "2025-04-24T15:24:09.045400Z"
    }
   },
   "cell_type": "code",
   "source": [
    "def print_gugudan(start, step):\n",
    "    for i in range(1, 10):\n",
    "        for dan in range(start, 10, step):\n",
    "            print(f\"{dan} x {i} = {dan * i:2}\", end=\"\\t\")\n",
    "        print()  # 줄바꿈\n",
    "\n",
    "print(\"짝수단 (2, 4, 6, 8)\")\n",
    "print_gugudan(start=2, step=2)\n",
    "\n",
    "print(\"\\n홀수단 (3, 5, 7, 9)\")\n",
    "print_gugudan(start=3, step=2)"
   ],
   "id": "eb24928e9ab9d3d1",
   "outputs": [
    {
     "name": "stdout",
     "output_type": "stream",
     "text": [
      "짝수단 (2, 4, 6, 8)\n",
      "2 x 1 =  2\t4 x 1 =  4\t6 x 1 =  6\t8 x 1 =  8\t\n",
      "2 x 2 =  4\t4 x 2 =  8\t6 x 2 = 12\t8 x 2 = 16\t\n",
      "2 x 3 =  6\t4 x 3 = 12\t6 x 3 = 18\t8 x 3 = 24\t\n",
      "2 x 4 =  8\t4 x 4 = 16\t6 x 4 = 24\t8 x 4 = 32\t\n",
      "2 x 5 = 10\t4 x 5 = 20\t6 x 5 = 30\t8 x 5 = 40\t\n",
      "2 x 6 = 12\t4 x 6 = 24\t6 x 6 = 36\t8 x 6 = 48\t\n",
      "2 x 7 = 14\t4 x 7 = 28\t6 x 7 = 42\t8 x 7 = 56\t\n",
      "2 x 8 = 16\t4 x 8 = 32\t6 x 8 = 48\t8 x 8 = 64\t\n",
      "2 x 9 = 18\t4 x 9 = 36\t6 x 9 = 54\t8 x 9 = 72\t\n",
      "\n",
      "홀수단 (3, 5, 7, 9)\n",
      "3 x 1 =  3\t5 x 1 =  5\t7 x 1 =  7\t9 x 1 =  9\t\n",
      "3 x 2 =  6\t5 x 2 = 10\t7 x 2 = 14\t9 x 2 = 18\t\n",
      "3 x 3 =  9\t5 x 3 = 15\t7 x 3 = 21\t9 x 3 = 27\t\n",
      "3 x 4 = 12\t5 x 4 = 20\t7 x 4 = 28\t9 x 4 = 36\t\n",
      "3 x 5 = 15\t5 x 5 = 25\t7 x 5 = 35\t9 x 5 = 45\t\n",
      "3 x 6 = 18\t5 x 6 = 30\t7 x 6 = 42\t9 x 6 = 54\t\n",
      "3 x 7 = 21\t5 x 7 = 35\t7 x 7 = 49\t9 x 7 = 63\t\n",
      "3 x 8 = 24\t5 x 8 = 40\t7 x 8 = 56\t9 x 8 = 72\t\n",
      "3 x 9 = 27\t5 x 9 = 45\t7 x 9 = 63\t9 x 9 = 81\t\n"
     ]
    }
   ],
   "execution_count": 15
  },
  {
   "metadata": {},
   "cell_type": "code",
   "outputs": [],
   "execution_count": null,
   "source": "",
   "id": "9b2a3b5e591e7c65"
  },
  {
   "metadata": {
    "ExecuteTime": {
     "end_time": "2025-04-24T15:34:25.720123Z",
     "start_time": "2025-04-24T15:34:18.380038Z"
    }
   },
   "cell_type": "code",
   "source": [
    "# 미리 등록된 회원 정보 (예: id: user1, pw: pass123)\n",
    "users = {\n",
    "    \"user1\": \"pw1\",\n",
    "    \"admin\": \"pw2\",\n",
    "    \"guest\": \"pw3\"\n",
    "}\n",
    "\n",
    "# 사용자 입력\n",
    "input_id = input(\"아이디를 입력하세요: \")\n",
    "input_pw = input(\"비밀번호를 입력하세요: \")\n",
    "\n",
    "# 로그인 검증\n",
    "if input_id in users:\n",
    "    if users[input_id] == input_pw:\n",
    "        print(f\"✅ 로그인 성공! 환영합니다, {input_id}님.\")\n",
    "    else:\n",
    "        print(\"❌ 비밀번호가 틀렸습니다.\")\n",
    "else:\n",
    "    print(\"❌ 존재하지 않는 아이디입니다.\")"
   ],
   "id": "1a12d88805751370",
   "outputs": [
    {
     "name": "stdout",
     "output_type": "stream",
     "text": [
      "✅ 로그인 성공! 환영합니다, user1님.\n"
     ]
    }
   ],
   "execution_count": 17
  },
  {
   "metadata": {
    "ExecuteTime": {
     "end_time": "2025-04-24T15:42:26.256518Z",
     "start_time": "2025-04-24T15:42:26.234318Z"
    }
   },
   "cell_type": "code",
   "source": [
    "import random\n",
    "\n",
    "choices = ['묵', '찌', '빠']  # 인덱스: 0, 1, 2\n",
    "\n",
    "# 컴퓨터들의 선택\n",
    "c1 = random.choice(choices)\n",
    "c2 = random.choice(choices)\n",
    "\n",
    "# 출력\n",
    "print(f\"컴퓨터1: {c1}, 컴퓨터2: {c2}\")\n",
    "\n",
    "# 판정\n",
    "if c1 == c2:\n",
    "    print(\"무승부!\")\n",
    "else:\n",
    "    # 묵 > 찌, 찌 > 빠, 빠 > 묵\n",
    "    if (c1 == '묵' and c2 == '찌') or (c1 == '찌' and c2 == '빠') or (c1 == '빠' and c2 == '묵'):\n",
    "        print(\"컴퓨터1의 승리!\")\n",
    "    else:\n",
    "        print(\"컴퓨터2의 승리!\")"
   ],
   "id": "57f217389b975b0f",
   "outputs": [
    {
     "name": "stdout",
     "output_type": "stream",
     "text": [
      "컴퓨터1: 빠, 컴퓨터2: 찌\n",
      "컴퓨터2의 승리!\n"
     ]
    }
   ],
   "execution_count": 19
  },
  {
   "metadata": {},
   "cell_type": "code",
   "outputs": [],
   "execution_count": null,
   "source": [
    "#달력\n",
    "def print_calendar(month):\n",
    "    # 각 달의 일수 (윤년은 고려하지 않음)\n",
    "    days_in_month = [31, 28, 31, 30, 31, 30,\n",
    "                     31, 31, 30, 31, 30, 31]\n",
    "\n",
    "    # 각 달의 1일 요일 (0: 일, 1: 월, ..., 6: 토) - 예시로 고정\n",
    "    # 실제 요일을 구하려면 datetime 모듈 사용\n",
    "    first_day_of_month = [0, 3, 3, 6, 1, 4, 6, 2, 5, 0, 3, 5]  # 2025년 기준\n",
    "\n",
    "    if not 1 <= month <= 12:\n",
    "        print(\"1월부터 12월 사이로 입력하세요.\")\n",
    "        return\n",
    "\n",
    "    days = days_in_month[month - 1]\n",
    "    start = first_day_of_month[month - 1]\n",
    "\n",
    "    print(f\"\\n<< {month}월 >>\")\n",
    "    print(\"일  월  화  수  목  금  토\")\n",
    "\n",
    "    # 공백 출력\n",
    "    for _ in range(start):\n",
    "        print(\"   \", end=\"\")\n",
    "\n",
    "    # 날짜 출력\n",
    "    for day in range(1, days + 1):\n",
    "        print(f\"{day:2}\", end=\" \")\n",
    "        if (start + day) % 7 == 0:\n",
    "            print()\n",
    "\n",
    "# 사용 예시\n",
    "month_input = int(input(\"몇 월 달력을 출력할까요? (1~12): \"))\n",
    "print_calendar(month_input)"
   ],
   "id": "42ee029d1decca1"
  }
 ],
 "metadata": {
  "kernelspec": {
   "display_name": "Python 3",
   "language": "python",
   "name": "python3"
  },
  "language_info": {
   "codemirror_mode": {
    "name": "ipython",
    "version": 2
   },
   "file_extension": ".py",
   "mimetype": "text/x-python",
   "name": "python",
   "nbconvert_exporter": "python",
   "pygments_lexer": "ipython2",
   "version": "2.7.6"
  }
 },
 "nbformat": 4,
 "nbformat_minor": 5
}
