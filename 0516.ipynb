{
 "cells": [
  {
   "cell_type": "code",
   "id": "initial_id",
   "metadata": {
    "collapsed": true,
    "ExecuteTime": {
     "end_time": "2025-05-16T05:53:41.594843Z",
     "start_time": "2025-05-16T05:53:41.589775Z"
    }
   },
   "source": [
    "class Point:\n",
    "    def __init__(self, x=0, y=0):\n",
    "        self.x = x\n",
    "        self.y = y\n",
    "\n",
    "    def show(self):\n",
    "        print(f'({self.x}, {self.y})')\n",
    "\n",
    "    def set(self, x, y):\n",
    "        self.x = x\n",
    "        self.y = y\n",
    "\n",
    "    def get(self):\n",
    "        return (self.x, self.y)\n",
    "\n",
    "# 사용자 정의 함수부\n",
    "def test():\n",
    "    p1 = Point()\n",
    "    p2 = Point(2, 3)\n",
    "    p1.show()\n",
    "    p1.set(10, 20)\n",
    "    p1.show()\n",
    "    p2.show()\n",
    "    x, y = p2.get()\n",
    "    print(f'x={x}, y={y}')\n",
    "\n",
    "# 주 프로그램부\n",
    "if __name__ == '__main__':\n",
    "    test()\n"
   ],
   "outputs": [
    {
     "name": "stdout",
     "output_type": "stream",
     "text": [
      "(0, 0)\n",
      "(10, 20)\n",
      "(2, 3)\n",
      "x=2, y=3\n"
     ]
    }
   ],
   "execution_count": 2
  },
  {
   "metadata": {
    "ExecuteTime": {
     "end_time": "2025-05-16T05:55:49.815382Z",
     "start_time": "2025-05-16T05:55:49.796549Z"
    }
   },
   "cell_type": "code",
   "source": [
    "class Time:\n",
    "    def __init__(self, hour=0, minute=0):\n",
    "        self.hour = hour\n",
    "        self.minute = minute\n",
    "\n",
    "    def display(self):\n",
    "        # 시각을 \"HH:MM\" 형식으로 출력\n",
    "        print(f'{self.hour:02}:{self.minute:02}')\n",
    "\n",
    "    def add(self, other):\n",
    "        # 시간과 분을 합산\n",
    "        total_hours = self.hour + other.hour\n",
    "        total_minutes = self.minute + other.minute\n",
    "\n",
    "        # 60분을 초과하면 시간으로 변환\n",
    "        if total_minutes >= 60:\n",
    "            total_hours += total_minutes // 60\n",
    "            total_minutes %= 60\n",
    "\n",
    "        # 24시를 넘지 않도록 조정\n",
    "        total_hours %= 24\n",
    "\n",
    "        # 결과를 새 Time 객체로 반환\n",
    "        return Time(total_hours, total_minutes)\n",
    "\n",
    "    @staticmethod\n",
    "    def is_valid(hour, minute):\n",
    "        # 유효한 시각인지 확인\n",
    "        return 0 <= hour <= 23 and 0 <= minute <= 59\n",
    "\n",
    "# 사용자 정의 함수부\n",
    "def main():\n",
    "    t1 = Time(9)\n",
    "    t2 = Time(9, 30)\n",
    "    t1.display()\n",
    "    t2.display()\n",
    "\n",
    "    later = t1.add(Time(1, 15))\n",
    "    later.display()\n",
    "\n",
    "    if Time.is_valid(25, 0):\n",
    "        print('유효한 시각')\n",
    "    else:\n",
    "        print('유효하지 않은 시각')\n",
    "\n",
    "# 주 프로그램부\n",
    "if __name__ == '__main__':\n",
    "    main()\n"
   ],
   "id": "d6b2c7b3a3b2d84b",
   "outputs": [
    {
     "name": "stdout",
     "output_type": "stream",
     "text": [
      "09:00\n",
      "09:30\n",
      "10:15\n",
      "유효하지 않은 시각\n"
     ]
    }
   ],
   "execution_count": 3
  },
  {
   "metadata": {},
   "cell_type": "code",
   "outputs": [],
   "execution_count": null,
   "source": "",
   "id": "b7e7cab830de1e77"
  },
  {
   "metadata": {
    "ExecuteTime": {
     "end_time": "2025-05-16T07:26:13.459539Z",
     "start_time": "2025-05-16T07:26:13.442827Z"
    }
   },
   "cell_type": "code",
   "source": [
    "class Circle:\n",
    "    __PI = 3.14159265\n",
    "    def __init__(self, radius):\n",
    "        self.__radius = radius\n",
    "\n",
    "    @staticmethod\n",
    "    def getPI(self):\n",
    "        return Circle.__PI\n",
    "\n",
    "    def getCircumference(self):\n",
    "        return 2 * Circle.__PI * self.__radius\n",
    "\n",
    "    def getArea(self):\n",
    "        return Circle.__PI * self.__radius ** 2\n",
    "\n",
    "    def setRadius(self, radius):\n",
    "        if radius <= 0:\n",
    "            return False\n",
    "        self.__radius = radius\n",
    "        return True\n",
    "\n",
    "    def getRadius(self):\n",
    "        return self.__radius\n",
    "\n",
    "\n",
    "# 주프로그램부\n",
    "small = Circle(1)\n",
    "Big = Circle(10)\n",
    "\n",
    "print(f'반지름 {small.getRadius()}인 원의',end='')\n",
    "print(f' 둘레는 {small.getCircumference():.2f}이고, ', end='')\n",
    "print(f'넓이는 {small.getArea():.2f}이다.')\n",
    "\n",
    "print(f'반지름 {Big.getRadius()}인 원의',end='')\n",
    "print(f' 둘레는 {Big.getCircumference():.2f}이고, ', end='')\n",
    "print(f'넓이는 {Big.getArea():.2f}이다.')"
   ],
   "id": "65daceed4353145a",
   "outputs": [
    {
     "name": "stdout",
     "output_type": "stream",
     "text": [
      "반지름 1인 원의 둘레는 6.28이고, 넓이는 3.14이다.\n",
      "반지름 10인 원의 둘레는 62.83이고, 넓이는 314.16이다.\n"
     ]
    }
   ],
   "execution_count": 12
  },
  {
   "metadata": {
    "ExecuteTime": {
     "end_time": "2025-05-16T07:42:18.978670Z",
     "start_time": "2025-05-16T07:42:18.955975Z"
    }
   },
   "cell_type": "code",
   "source": [
    "class Point:\n",
    "    def __init__(self, x=0, y=0):\n",
    "        self.__x = x\n",
    "        self.__y = y\n",
    "\n",
    "    def show(self):\n",
    "        print(f'({self.__x}, {self.__y})')\n",
    "\n",
    "    def set(self, x, y):\n",
    "        self.__x = x\n",
    "        self.__y = y\n",
    "\n",
    "    def get(self):\n",
    "        return (self.__x, self.__y)\n",
    "\n",
    "# 사용자 정의 함수부\n",
    "def test():\n",
    "    p1 = Point()\n",
    "    p2 = Point(2, 3)\n",
    "    p1.show()\n",
    "    p1.set(10, 20)\n",
    "    p1.show()\n",
    "    p2.show()\n",
    "    x, y = p2.get()\n",
    "    print(f'x={x}, y={y}')\n",
    "\n",
    "# 주 프로그램부\n",
    "if __name__ == '__main__':\n",
    "    test()\n"
   ],
   "id": "e9137ce90a3036d8",
   "outputs": [
    {
     "name": "stdout",
     "output_type": "stream",
     "text": [
      "(0, 0)\n",
      "(10, 20)\n",
      "(2, 3)\n",
      "x=2, y=3\n"
     ]
    }
   ],
   "execution_count": 13
  },
  {
   "metadata": {
    "ExecuteTime": {
     "end_time": "2025-05-16T08:12:59.646928Z",
     "start_time": "2025-05-16T08:12:59.627708Z"
    }
   },
   "cell_type": "code",
   "source": [
    "class Time:\n",
    "    def __init__(self, hour=0, minute=0):\n",
    "        self.hour = hour\n",
    "        self.minute = minute\n",
    "\n",
    "    def display(self):\n",
    "        print(f'{self.hour:02}:{self.minute:02}')\n",
    "\n",
    "    def add(self, other):\n",
    "        total_hours = self.hour + other.hour\n",
    "        total_minutes = self.minute + other.minute\n",
    "\n",
    "        if total_minutes >= 60:\n",
    "            total_hours += total_minutes // 60\n",
    "            total_minutes %= 60\n",
    "\n",
    "        total_hours %= 24\n",
    "\n",
    "        return Time(total_hours, total_minutes)\n",
    "\n",
    "    @staticmethod\n",
    "    def is_valid(hour, minute):\n",
    "        return 0 <= hour <= 23 and 0 <= minute <= 59\n",
    "\n",
    "# 사용자 정의 함수부\n",
    "def main():\n",
    "    t1 = Time(9)\n",
    "    t2 = Time(9, 30)\n",
    "    t1.display()\n",
    "    t2.display()\n",
    "\n",
    "    later = t1.add(Time(1, 15))\n",
    "    later.display()\n",
    "\n",
    "    if Time.is_valid(25, 0):\n",
    "        print('유효한 시각')\n",
    "    else:\n",
    "        print('유효하지 않은 시각')\n",
    "\n",
    "# 주 프로그램부\n",
    "if __name__ == '__main__':\n",
    "    main()\n"
   ],
   "id": "6648ee202cd49d82",
   "outputs": [
    {
     "name": "stdout",
     "output_type": "stream",
     "text": [
      "09:00\n",
      "09:30\n",
      "10:15\n",
      "유효하지 않은 시각\n"
     ]
    }
   ],
   "execution_count": 20
  },
  {
   "metadata": {
    "ExecuteTime": {
     "end_time": "2025-05-16T08:22:22.591519Z",
     "start_time": "2025-05-16T08:22:22.575162Z"
    }
   },
   "cell_type": "code",
   "source": [
    "class Time:\n",
    "    def __init__(self, hour=0, minute=0):\n",
    "        self.__hour = hour\n",
    "        self.__minute = minute\n",
    "    def display(self):\n",
    "        print(f'{self.__hour:02}:{self.__minute:02}')\n",
    "\n",
    "    def add(self, other):\n",
    "        total_hours = self.__hour + other.__hour\n",
    "        total_minutes = self.__minute + other.__minute\n",
    "        if total_minutes >= 60:\n",
    "            total_hours += total_minutes // 60\n",
    "            total_minutes = total_minutes % 60\n",
    "        total_hours %= 24\n",
    "        return Time(total_hours, total_minutes)\n",
    "\n",
    "    @staticmethod\n",
    "    def is_valid(hour,minute):\n",
    "        if 0 <= hour <= 23 and 0 <= minute <= 59 :\n",
    "            return True\n",
    "        return False\n",
    "\n",
    "\n",
    "# 사용자 정의 함수부\n",
    "def main():\n",
    "    t1 = Time(9)\n",
    "    t2 = Time(9, 30)\n",
    "    t1.display()\n",
    "    t2.display()\n",
    "\n",
    "    later = t1.add(Time(1, 15))\n",
    "    later.display()\n",
    "\n",
    "    if Time.is_valid(25, 0):\n",
    "        print('유효한 시각')\n",
    "    else:\n",
    "        print('유효하지 않은 시각')\n",
    "\n",
    "# 주 프로그램부\n",
    "if __name__ == '__main__':\n",
    "    main()"
   ],
   "id": "13eb6f6432311911",
   "outputs": [
    {
     "name": "stdout",
     "output_type": "stream",
     "text": [
      "09:00\n",
      "09:30\n",
      "10:15\n",
      "유효하지 않은 시각\n"
     ]
    }
   ],
   "execution_count": 35
  },
  {
   "metadata": {},
   "cell_type": "code",
   "outputs": [],
   "execution_count": null,
   "source": [
    "class Point:\n",
    "    def __init__(self, x=0, y=0):\n",
    "        self.x = x\n",
    "        self.y = y\n",
    "\n",
    "    def show(self):\n",
    "        print(f'({self.x}, {self.y})')\n",
    "\n",
    "\n",
    "class Rectangle:\n",
    "    def __init__(self, x1, y1, x2, y2):\n",
    "        self.lt = Point(x1, y1)\n",
    "        self.rb = Point(x2, y2)\n",
    "\n",
    "    def show(self):\n",
    "        print(f'좌측 상단 꼭짓점이 ({self.lt.x}, {self.lt.y})이고 '\n",
    "              f'우측 하단 꼭짓점이 ({self.rb.x}, {self.rb.y})인 사각형입니다.')\n",
    "\n",
    "    def getWidth(self):\n",
    "        return self.rb.x - self.lt.x\n",
    "\n",
    "    def getHeight(self):\n",
    "        return self.rb.y - self.lt.y\n",
    "\n",
    "    def getArea(self):\n",
    "        return self.getWidth() * self.getHeight()\n",
    "\n",
    "    def getPerimeter(self):\n",
    "        return 2 * (self.getWidth() + self.getHeight())\n",
    "\n",
    "\n",
    "# 주 프로그램부\n",
    "r1 = Rectangle(5, 5, 20, 10)\n",
    "a = r1.getArea()\n",
    "p = r1.getPerimeter()\n",
    "\n",
    "r1.show()\n",
    "print(f'\\n넓이는 {a}, 둘레는 {p}')\n"
   ],
   "id": "dac55928f87feb6f"
  },
  {
   "metadata": {
    "ExecuteTime": {
     "end_time": "2025-05-16T08:38:44.017593Z",
     "start_time": "2025-05-16T08:38:43.975819Z"
    }
   },
   "cell_type": "code",
   "source": [
    "class Point :\n",
    "    def __init__(self, x=0, y=0):\n",
    "        self.__X = x\n",
    "        self.__Y = y\n",
    "\n",
    "class Rectangle:\n",
    "    def __init__(self, x1, y1, x2, y2):\n",
    "        self.__lt = Point(x1, y1)\n",
    "        self.__rb = Point(x2, y2)\n",
    "\n",
    "    def show(self):\n",
    "        print(f'좌측 상단 꼭짓점이 ({self.__lt.x}, {self.__lt.y})이고 '\n",
    "              f'우측 하단 꼭짓점이 ({self.__rb.x}, {self.__rb.y})인 사각형입니다.')\n",
    "\n",
    "    def getWidth(self):\n",
    "        return self.__lt.x - self.__lt.x\n",
    "    def getHeight(self):\n",
    "        return self.__lt.y - self.__lt.y\n",
    "    def getArea(self):\n",
    "        return self.getWidth() * self.getHeight()\n",
    "    def getPerimeter(self):\n",
    "        return 2 * (self.getWidth() + self.getHeight())\n",
    "\n",
    "\n",
    "\n",
    "# 주 프로그램부\n",
    "r1 = Rectangle(5, 5, 20, 10)\n",
    "a = r1.getArea()\n",
    "p = r1.getPerimeter()\n",
    "\n",
    "r1.show()\n",
    "print(f'\\n넓이는 {a}, 둘레는 {p}')"
   ],
   "id": "e266c96e9abdaa05",
   "outputs": [
    {
     "ename": "AttributeError",
     "evalue": "'Rectangle' object has no attribute 'lt'",
     "output_type": "error",
     "traceback": [
      "\u001B[0;31m---------------------------------------------------------------------------\u001B[0m",
      "\u001B[0;31mAttributeError\u001B[0m                            Traceback (most recent call last)",
      "Cell \u001B[0;32mIn[40], line 28\u001B[0m\n\u001B[1;32m     26\u001B[0m \u001B[38;5;66;03m# 주 프로그램부\u001B[39;00m\n\u001B[1;32m     27\u001B[0m r1 \u001B[38;5;241m=\u001B[39m Rectangle(\u001B[38;5;241m5\u001B[39m, \u001B[38;5;241m5\u001B[39m, \u001B[38;5;241m20\u001B[39m, \u001B[38;5;241m10\u001B[39m)\n\u001B[0;32m---> 28\u001B[0m a \u001B[38;5;241m=\u001B[39m \u001B[43mr1\u001B[49m\u001B[38;5;241;43m.\u001B[39;49m\u001B[43mgetArea\u001B[49m\u001B[43m(\u001B[49m\u001B[43m)\u001B[49m\n\u001B[1;32m     29\u001B[0m p \u001B[38;5;241m=\u001B[39m r1\u001B[38;5;241m.\u001B[39mgetPerimeter()\n\u001B[1;32m     31\u001B[0m r1\u001B[38;5;241m.\u001B[39mshow()\n",
      "Cell \u001B[0;32mIn[40], line 20\u001B[0m, in \u001B[0;36mRectangle.getArea\u001B[0;34m(self)\u001B[0m\n\u001B[1;32m     19\u001B[0m \u001B[38;5;28;01mdef\u001B[39;00m\u001B[38;5;250m \u001B[39m\u001B[38;5;21mgetArea\u001B[39m(\u001B[38;5;28mself\u001B[39m):\n\u001B[0;32m---> 20\u001B[0m     \u001B[38;5;28;01mreturn\u001B[39;00m \u001B[38;5;28;43mself\u001B[39;49m\u001B[38;5;241;43m.\u001B[39;49m\u001B[43mgetWidth\u001B[49m\u001B[43m(\u001B[49m\u001B[43m)\u001B[49m \u001B[38;5;241m*\u001B[39m \u001B[38;5;28mself\u001B[39m\u001B[38;5;241m.\u001B[39mgetHeight()\n",
      "Cell \u001B[0;32mIn[40], line 16\u001B[0m, in \u001B[0;36mRectangle.getWidth\u001B[0;34m(self)\u001B[0m\n\u001B[1;32m     15\u001B[0m \u001B[38;5;28;01mdef\u001B[39;00m\u001B[38;5;250m \u001B[39m\u001B[38;5;21mgetWidth\u001B[39m(\u001B[38;5;28mself\u001B[39m):\n\u001B[0;32m---> 16\u001B[0m     \u001B[38;5;28;01mreturn\u001B[39;00m \u001B[38;5;28;43mself\u001B[39;49m\u001B[38;5;241;43m.\u001B[39;49m\u001B[43mlt\u001B[49m\u001B[38;5;241m.\u001B[39mx \u001B[38;5;241m-\u001B[39m \u001B[38;5;28mself\u001B[39m\u001B[38;5;241m.\u001B[39mlt\u001B[38;5;241m.\u001B[39mx\n",
      "\u001B[0;31mAttributeError\u001B[0m: 'Rectangle' object has no attribute 'lt'"
     ]
    }
   ],
   "execution_count": 40
  }
 ],
 "metadata": {
  "kernelspec": {
   "display_name": "Python 3",
   "language": "python",
   "name": "python3"
  },
  "language_info": {
   "codemirror_mode": {
    "name": "ipython",
    "version": 2
   },
   "file_extension": ".py",
   "mimetype": "text/x-python",
   "name": "python",
   "nbconvert_exporter": "python",
   "pygments_lexer": "ipython2",
   "version": "2.7.6"
  }
 },
 "nbformat": 4,
 "nbformat_minor": 5
}
