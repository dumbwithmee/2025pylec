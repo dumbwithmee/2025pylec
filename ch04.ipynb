{
 "cells": [
  {
   "metadata": {
    "ExecuteTime": {
     "end_time": "2025-04-23T14:30:38.176679Z",
     "start_time": "2025-04-23T14:30:35.065778Z"
    }
   },
   "cell_type": "code",
   "source": [
    "#4-4\n",
    "n = -10\n",
    "print('+n =', +n)\n",
    "print('-n =', -n)\n",
    "print('n =', n)"
   ],
   "id": "cdbf0d274b732f5b",
   "outputs": [],
   "execution_count": 3
  },
  {
   "metadata": {
    "ExecuteTime": {
     "end_time": "2025-04-24T16:56:41.300716Z",
     "start_time": "2025-04-24T16:56:38.747233Z"
    }
   },
   "cell_type": "code",
   "source": [
    "#4-12\n",
    "# 사용자 정의 함수부\n",
    "def show_division(dividend, divisor) :\n",
    "    # quotient = 나눗셈 연산의 몫을 구함\n",
    "    quotient = dividend // divisor\n",
    "\n",
    "    # remainder = 나눗셈 연산의 나머지를 구함\n",
    "    remainder = dividend % divisor\n",
    "\n",
    "    # 나눗셈 연산의 몫(quotient)과 나머지(remainder)를 출력\n",
    "    print('몫 =', quotient)\n",
    "    print('나머지 =', remainder)\n",
    "\n",
    "# 주 프로그램부\n",
    "# n1 = 사용자로부터 나뉘는 값(피젯수)을 입력받음\n",
    "n1 = int(input('피젯수를 정수로 입력하세요: '))\n",
    "\n",
    "# n2 = 사용자로부터 나누는 값(젯수)를 입력받음\n",
    "n2 = int(input('젯수를 정수로 입력하세요: '))\n",
    "\n",
    "# 나눗셈 연산의 몫과 나머지를 구해 출력\n",
    "show_division(dividend = n1, divisor = n2)\n",
    "show_division(divisor = n2, dividend = n1)"
   ],
   "id": "5841f434c981a892",
   "outputs": [
    {
     "name": "stdout",
     "output_type": "stream",
     "text": [
      "몫 = 0\n",
      "나머지 = 3\n",
      "몫 = 0\n",
      "나머지 = 3\n"
     ]
    }
   ],
   "execution_count": 5
  },
  {
   "metadata": {
    "ExecuteTime": {
     "end_time": "2025-03-21T07:28:41.385777Z",
     "start_time": "2025-03-21T07:28:41.381091Z"
    }
   },
   "cell_type": "code",
   "source": [
    "n1=1\n",
    "n2=n1"
   ],
   "id": "876d9fc0c1b44bb3",
   "outputs": [],
   "execution_count": 9
  },
  {
   "metadata": {
    "ExecuteTime": {
     "end_time": "2025-03-21T07:29:17.383657Z",
     "start_time": "2025-03-21T07:29:17.374881Z"
    }
   },
   "cell_type": "code",
   "source": [
    "n1= 1+2\n",
    "n2=n1+4"
   ],
   "id": "f139fdb58ee61abd",
   "outputs": [],
   "execution_count": 10
  },
  {
   "metadata": {},
   "cell_type": "code",
   "outputs": [],
   "execution_count": null,
   "source": [
    "res=n1+n2\n",
    "n1=n+1"
   ],
   "id": "7e7ccd38a0b2ffac"
  },
  {
   "metadata": {},
   "cell_type": "code",
   "outputs": [],
   "execution_count": null,
   "source": [
    "#4-17\n",
    "x=y=z=1"
   ],
   "id": "889469461b58190a"
  },
  {
   "metadata": {
    "ExecuteTime": {
     "end_time": "2025-04-24T16:59:43.280747Z",
     "start_time": "2025-04-24T16:59:43.270782Z"
    }
   },
   "cell_type": "code",
   "source": [
    "#4-19\n",
    "x, y = 1, 2\n",
    "\n",
    "# (1)\n",
    "x, y = y, x\n",
    "print('(1)', x, y)\n",
    "\n",
    "# (2)\n",
    "tmp = x\n",
    "x = y\n",
    "y = tmp\n",
    "print('(2)', x, y)"
   ],
   "id": "191b65e0f87ef8c5",
   "outputs": [
    {
     "name": "stdout",
     "output_type": "stream",
     "text": [
      "(1) 2 1\n",
      "(2) 1 2\n"
     ]
    }
   ],
   "execution_count": 7
  },
  {
   "metadata": {
    "ExecuteTime": {
     "end_time": "2025-03-21T07:33:56.132633Z",
     "start_time": "2025-03-21T07:33:56.118121Z"
    }
   },
   "cell_type": "code",
   "source": [
    "#4-20\n",
    "n1 = 0b10101101    # n1 = 173\n",
    "n2 = 0b00001111    # n2 = 15\n",
    "print(bin(n1 & n2))\n",
    "print(bin(n1 | n2))\n",
    "print(bin(n1 ^ n2))\n",
    "print(bin(~n2))"
   ],
   "id": "21ed5c79e843b255",
   "outputs": [
    {
     "name": "stdout",
     "output_type": "stream",
     "text": [
      "0b1101\n",
      "0b10101111\n",
      "0b10100010\n",
      "-0b10000\n"
     ]
    }
   ],
   "execution_count": 12
  },
  {
   "metadata": {
    "ExecuteTime": {
     "end_time": "2025-03-21T07:35:15.892941Z",
     "start_time": "2025-03-21T07:35:15.885027Z"
    }
   },
   "cell_type": "code",
   "source": [
    "#4-21\n",
    "n2 = 0b00001111        # n2 = 15\n",
    "print(bin(n2 >> 2))    # 00000011, 3(= 15 // (2 ** 2))\n",
    "print(bin(n2 << 2))    # 00111100, 60(= 15 * (2 ** 2))"
   ],
   "id": "b1455c9a6dd136ec",
   "outputs": [
    {
     "name": "stdout",
     "output_type": "stream",
     "text": [
      "0b11\n",
      "0b111100\n"
     ]
    }
   ],
   "execution_count": 13
  },
  {
   "metadata": {
    "ExecuteTime": {
     "end_time": "2025-04-24T17:02:46.201961Z",
     "start_time": "2025-04-24T17:02:46.189700Z"
    }
   },
   "cell_type": "code",
   "source": [
    "#4-22\n",
    "n1, n2 = 2, 1\n",
    "result = 0\n",
    "\n",
    "# (1)\n",
    "result += (n1 - n2) / 2\n",
    "print('(1)', n1, n2, result)\n",
    "\n",
    "# (2)\n",
    "result = result + (n1 - n2) / 2\n",
    "print('(2)', n1, n2, result)"
   ],
   "id": "1836c251ea6efb89",
   "outputs": [
    {
     "name": "stdout",
     "output_type": "stream",
     "text": [
      "(1) 2 1 0.5\n",
      "(2) 2 1 1.0\n"
     ]
    }
   ],
   "execution_count": 8
  },
  {
   "metadata": {
    "ExecuteTime": {
     "end_time": "2025-04-24T17:03:48.288185Z",
     "start_time": "2025-04-24T17:03:40.910594Z"
    }
   },
   "cell_type": "code",
   "source": [
    "#4-25\n",
    "# 사용자 정의 함수부\n",
    "def show_change(amount) :\n",
    "    print('잔돈:', amount, '원')\n",
    "\n",
    "    n5000 = amount // 5000   # 잔돈 중 5000원권 지불 개수\n",
    "    amount %= 5000            # 5000원권을 지불하고 남은 잔돈\n",
    "\n",
    "    n1000 = amount // 1000   # 잔돈 중 1000원권 지불 개수\n",
    "\n",
    "    print('> 5000원권', n5000, '장')\n",
    "    print('> 1000원권', n1000, '장')\n",
    "\n",
    "# 주 프로그램\n",
    "# total_cost = 고객에게 요청할 총구매금액을 입력받음\n",
    "total_cost = int(input('구매한 물건의 총구매 금액은? '))\n",
    "\n",
    "# payment = 고객으로부터 지불받은 금액을 입력받음\n",
    "payment = int(input('고객으로부터 지불받은 금액은? '))\n",
    "\n",
    "# change = 고객에게 지불해야할 잔돈을 계산\n",
    "change = payment - total_cost\n",
    "\n",
    "# 잔돈 change를 가장 효율적으로 지불할 수 있는 지폐수 출력\n",
    "show_change(change)"
   ],
   "id": "8538ce09bfa526f",
   "outputs": [
    {
     "name": "stdout",
     "output_type": "stream",
     "text": [
      "잔돈: -2778 원\n",
      "> 5000원권 -1 장\n",
      "> 1000원권 2 장\n"
     ]
    }
   ],
   "execution_count": 9
  },
  {
   "metadata": {},
   "cell_type": "markdown",
   "source": "연산자 우선순위와 합규칙",
   "id": "c54bbea21b6f9517"
  },
  {
   "metadata": {},
   "cell_type": "code",
   "outputs": [],
   "execution_count": null,
   "source": "\n",
   "id": "12aeecbc1f5547f7"
  }
 ],
 "metadata": {
  "kernelspec": {
   "display_name": "Python 3",
   "language": "python",
   "name": "python3"
  },
  "language_info": {
   "codemirror_mode": {
    "name": "ipython",
    "version": 2
   },
   "file_extension": ".py",
   "mimetype": "text/x-python",
   "name": "python",
   "nbconvert_exporter": "python",
   "pygments_lexer": "ipython2",
   "version": "2.7.6"
  }
 },
 "nbformat": 4,
 "nbformat_minor": 5
}
