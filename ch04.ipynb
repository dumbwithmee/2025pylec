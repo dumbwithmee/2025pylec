{
 "cells": [
  {
   "cell_type": "code",
   "id": "initial_id",
   "metadata": {
    "collapsed": true,
    "ExecuteTime": {
     "end_time": "2025-03-21T06:56:00.969813Z",
     "start_time": "2025-03-21T06:56:00.963880Z"
    }
   },
   "source": "12+34",
   "outputs": [
    {
     "data": {
      "text/plain": [
       "46"
      ]
     },
     "execution_count": 1,
     "metadata": {},
     "output_type": "execute_result"
    }
   ],
   "execution_count": 1
  },
  {
   "metadata": {
    "ExecuteTime": {
     "end_time": "2025-03-21T06:57:16.006392Z",
     "start_time": "2025-03-21T06:57:15.998671Z"
    }
   },
   "cell_type": "code",
   "source": "print(12+34)",
   "id": "e6a31adafb0fc2fa",
   "outputs": [
    {
     "name": "stdout",
     "output_type": "stream",
     "text": [
      "46\n"
     ]
    }
   ],
   "execution_count": 2
  },
  {
   "metadata": {
    "ExecuteTime": {
     "end_time": "2025-04-23T14:30:38.176679Z",
     "start_time": "2025-04-23T14:30:35.065778Z"
    }
   },
   "cell_type": "code",
   "source": [
    "nl = int(input('피젯수를 입력하세요: '))\n",
    "nl = int(input('젯수 입력하세요: '))"
   ],
   "id": "cdbf0d274b732f5b",
   "outputs": [],
   "execution_count": 3
  },
  {
   "metadata": {
    "ExecuteTime": {
     "end_time": "2025-04-23T14:31:16.911382Z",
     "start_time": "2025-04-23T14:31:14.064505Z"
    }
   },
   "cell_type": "code",
   "source": [
    "# 사용자 정의 함수부\n",
    "def show_division(dividend, divisor) :\n",
    "    # quotient = 나눗셈 연산의 몫을 구함\n",
    "    quotient = dividend // divisor\n",
    "\n",
    "    # remainder = 나눗셈 연산의 나머지를 구함\n",
    "    remainder = dividend % divisor\n",
    "\n",
    "    # 나눗셈 연산의 몫(quotient)과 나머지(remainder)를 출력\n",
    "    print('몫 =', quotient)\n",
    "    print('나머지 =', remainder)\n",
    "\n",
    "# 주 프로그램부\n",
    "# n1 = 사용자로부터 나뉘는 값(피젯수)을 입력받음\n",
    "n1 = int(input('피젯수를 정수로 입력하세요: '))\n",
    "\n",
    "# n2 = 사용자로부터 나누는 값(젯수)를 입력받음\n",
    "n2 = int(input('젯수를 정수로 입력하세요: '))\n",
    "\n",
    "# 나눗셈 연산의 몫과 나머지를 구해 출력\n",
    "show_division(n1, n2)"
   ],
   "id": "5841f434c981a892",
   "outputs": [
    {
     "name": "stdout",
     "output_type": "stream",
     "text": [
      "몫 = 16\n",
      "나머지 = 1\n"
     ]
    }
   ],
   "execution_count": 4
  },
  {
   "metadata": {
    "ExecuteTime": {
     "end_time": "2025-03-21T07:28:41.385777Z",
     "start_time": "2025-03-21T07:28:41.381091Z"
    }
   },
   "cell_type": "code",
   "source": [
    "n1=1\n",
    "n2=n1"
   ],
   "id": "876d9fc0c1b44bb3",
   "outputs": [],
   "execution_count": 9
  },
  {
   "metadata": {
    "ExecuteTime": {
     "end_time": "2025-03-21T07:29:17.383657Z",
     "start_time": "2025-03-21T07:29:17.374881Z"
    }
   },
   "cell_type": "code",
   "source": [
    "n1= 1+2\n",
    "n2=n1+4"
   ],
   "id": "f139fdb58ee61abd",
   "outputs": [],
   "execution_count": 10
  },
  {
   "metadata": {},
   "cell_type": "code",
   "outputs": [],
   "execution_count": null,
   "source": [
    "res=n1+n2\n",
    "n1=n+1"
   ],
   "id": "7e7ccd38a0b2ffac"
  },
  {
   "metadata": {},
   "cell_type": "code",
   "outputs": [],
   "execution_count": null,
   "source": [
    "#4-17\n",
    "x=y=z=1"
   ],
   "id": "889469461b58190a"
  },
  {
   "metadata": {
    "ExecuteTime": {
     "end_time": "2025-03-21T07:31:44.872914Z",
     "start_time": "2025-03-21T07:31:44.851795Z"
    }
   },
   "cell_type": "code",
   "source": [
    "x,y = y,x\n",
    "tmp=x\n",
    "x=y\n",
    "y=tmp"
   ],
   "id": "191b65e0f87ef8c5",
   "outputs": [
    {
     "ename": "NameError",
     "evalue": "name 'y' is not defined",
     "output_type": "error",
     "traceback": [
      "\u001B[0;31m---------------------------------------------------------------------------\u001B[0m",
      "\u001B[0;31mNameError\u001B[0m                                 Traceback (most recent call last)",
      "Cell \u001B[0;32mIn[11], line 1\u001B[0m\n\u001B[0;32m----> 1\u001B[0m x,y \u001B[38;5;241m=\u001B[39m \u001B[43my\u001B[49m,x\n\u001B[1;32m      2\u001B[0m tmp\u001B[38;5;241m=\u001B[39mx\n\u001B[1;32m      3\u001B[0m x\u001B[38;5;241m=\u001B[39my\n",
      "\u001B[0;31mNameError\u001B[0m: name 'y' is not defined"
     ]
    }
   ],
   "execution_count": 11
  },
  {
   "metadata": {
    "ExecuteTime": {
     "end_time": "2025-03-21T07:33:56.132633Z",
     "start_time": "2025-03-21T07:33:56.118121Z"
    }
   },
   "cell_type": "code",
   "source": [
    "#4-20\n",
    "n1 = 0b10101101\n",
    "n2 = 0b00001111\n",
    "print(bin(n1 & n2))\n",
    "print(bin(n1 | n2))\n",
    "print(bin(n1 ^ n2))\n",
    "print(bin(~ n2))"
   ],
   "id": "21ed5c79e843b255",
   "outputs": [
    {
     "name": "stdout",
     "output_type": "stream",
     "text": [
      "0b1101\n",
      "0b10101111\n",
      "0b10100010\n",
      "-0b10000\n"
     ]
    }
   ],
   "execution_count": 12
  },
  {
   "metadata": {
    "ExecuteTime": {
     "end_time": "2025-03-21T07:35:15.892941Z",
     "start_time": "2025-03-21T07:35:15.885027Z"
    }
   },
   "cell_type": "code",
   "source": [
    "#4-21\n",
    "n2 = 0b00001111\n",
    "print(bin(n2 >> 2))\n",
    "print(bin(n2 << 2))"
   ],
   "id": "b1455c9a6dd136ec",
   "outputs": [
    {
     "name": "stdout",
     "output_type": "stream",
     "text": [
      "0b11\n",
      "0b111100\n"
     ]
    }
   ],
   "execution_count": 13
  },
  {
   "metadata": {},
   "cell_type": "code",
   "outputs": [],
   "execution_count": null,
   "source": [
    "#4-24\n",
    "total_cost = int(input(\"구매한 물품 총액\"))\n",
    "payment = int(input(\"지불한 금액은?\"))\n",
    "change = payment - total_cost\n",
    "show_change(change)"
   ],
   "id": "30b6be4517e32305"
  },
  {
   "metadata": {
    "ExecuteTime": {
     "end_time": "2025-03-21T07:42:25.080422Z",
     "start_time": "2025-03-21T07:42:25.068834Z"
    }
   },
   "cell_type": "code",
   "source": [
    "def show_change(amount):\n",
    "    print('잔돈', amount, '원')\n",
    "\n",
    "    n5000 = amount // 5000\n",
    "    amount %= 5000\n",
    "    n1000 = amount // 1000\n",
    "\n",
    "    print('>5000원 ', n5000,'장')\n",
    "    print('>1000원 ', n1000,'장')"
   ],
   "id": "8538ce09bfa526f",
   "outputs": [],
   "execution_count": 14
  },
  {
   "metadata": {},
   "cell_type": "markdown",
   "source": "연산자 우선순위와 합규칙",
   "id": "c54bbea21b6f9517"
  },
  {
   "metadata": {},
   "cell_type": "code",
   "outputs": [],
   "execution_count": null,
   "source": "\n",
   "id": "12aeecbc1f5547f7"
  }
 ],
 "metadata": {
  "kernelspec": {
   "display_name": "Python 3",
   "language": "python",
   "name": "python3"
  },
  "language_info": {
   "codemirror_mode": {
    "name": "ipython",
    "version": 2
   },
   "file_extension": ".py",
   "mimetype": "text/x-python",
   "name": "python",
   "nbconvert_exporter": "python",
   "pygments_lexer": "ipython2",
   "version": "2.7.6"
  }
 },
 "nbformat": 4,
 "nbformat_minor": 5
}
