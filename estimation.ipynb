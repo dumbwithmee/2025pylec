{
 "cells": [
  {
   "metadata": {},
   "cell_type": "markdown",
   "source": "달력",
   "id": "3a4c61d063a0d945"
  },
  {
   "metadata": {
    "collapsed": true
   },
   "cell_type": "code",
   "outputs": [],
   "execution_count": null,
   "source": [
    "def print_calendar(month):\n",
    "    # 각 달의 일수 (윤년은 고려하지 않음)\n",
    "    days_in_month = [31, 28, 31, 30, 31, 30,\n",
    "                     31, 31, 30, 31, 30, 31]\n",
    "\n",
    "    # 각 달의 1일 요일 (0: 일, 1: 월, ..., 6: 토) - 예시로 고정\n",
    "    # 실제 요일을 구하려면 datetime 모듈 사용\n",
    "    first_day_of_month = [0, 3, 3, 6, 1, 4, 6, 2, 5, 0, 3, 5]  # 2025년 기준\n",
    "\n",
    "    if not 1 <= month <= 12:\n",
    "        print(\"1월부터 12월 사이로 입력하세요.\")\n",
    "        return\n",
    "\n",
    "    days = days_in_month[month - 1]\n",
    "    start = first_day_of_month[month - 1]\n",
    "\n",
    "    print(f\"\\n<< {month}월 >>\")\n",
    "    print(\"일  월  화  수  목  금  토\")\n",
    "\n",
    "    # 공백 출력\n",
    "    for _ in range(start):\n",
    "        print(\"   \", end=\"\")\n",
    "\n",
    "    # 날짜 출력\n",
    "    for day in range(1, days + 1):\n",
    "        print(f\"{day:2}\", end=\" \")\n",
    "        if (start + day) % 7 == 0:\n",
    "            print()\n",
    "\n",
    "# 사용 예시\n",
    "month_input = int(input(\"몇 월 달력을 출력할까요? (1~12): \"))\n",
    "print_calendar(month_input)"
   ],
   "id": "initial_id"
  }
 ],
 "metadata": {
  "kernelspec": {
   "display_name": "Python 3",
   "language": "python",
   "name": "python3"
  },
  "language_info": {
   "codemirror_mode": {
    "name": "ipython",
    "version": 2
   },
   "file_extension": ".py",
   "mimetype": "text/x-python",
   "name": "python",
   "nbconvert_exporter": "python",
   "pygments_lexer": "ipython2",
   "version": "2.7.6"
  }
 },
 "nbformat": 4,
 "nbformat_minor": 5
}
