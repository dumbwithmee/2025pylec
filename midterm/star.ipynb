{
 "cells": [
  {
   "cell_type": "code",
   "execution_count": null,
   "id": "initial_id",
   "metadata": {
    "collapsed": true
   },
   "outputs": [],
   "source": [
    ""
   ]
  },
  {
   "metadata": {
    "ExecuteTime": {
     "end_time": "2025-04-25T08:48:29.566724Z",
     "start_time": "2025-04-25T08:48:26.527970Z"
    }
   },
   "cell_type": "code",
   "source": [
    "star = '*' #변수 star 설정\n",
    "n = int(input()) #int로 input 에 넣는 값을 정수값으로 설정\n",
    "for i in range(1, n + 1): #1~n+1 반복문이므로 해당 구간 모두 출력(n은 input에 넣는 값이며 하나 전임을 필수 기억!)\n",
    "    print(i * star)\n",
    "for i in range(int(input())): #범위를 n번 반복(5넣었을 때 0,1,2,3,4)\n",
    "    print(\"*\"*(i+1)) #5를 넣을 때"
   ],
   "id": "bce02286ece145f6",
   "outputs": [
    {
     "name": "stdout",
     "output_type": "stream",
     "text": [
      "*\n",
      "**\n",
      "***\n",
      "****\n",
      "*****\n",
      "*\n",
      "**\n",
      "***\n",
      "****\n",
      "*****\n"
     ]
    }
   ],
   "execution_count": 1
  },
  {
   "metadata": {
    "ExecuteTime": {
     "end_time": "2025-04-25T08:48:41.733792Z",
     "start_time": "2025-04-25T08:48:39.116351Z"
    }
   },
   "cell_type": "code",
   "source": [
    "space = ' ' #공백 변수 space 지정\n",
    "star = '*'\n",
    "n = int(input())\n",
    "for i in range(n, 0, -1): #n에서 1까지 역순으로 숫자 생성(마지막 숫자보다 +1임을 기억)\n",
    "    print(space * (i - 1) + star * (n - (i - 1))) #공백과 for문 곱하고 + 별과 input값에서 for문-1을 뺀걸 곱함\n",
    "n = int(input())\n",
    "for i in range(1, n+1): #1~n까지 범위\n",
    "    print(\" \"*(n-i)+\"*\"*i) #5넣었을 때, 4공백+1별"
   ],
   "id": "bbba52e9f00619d1",
   "outputs": [
    {
     "name": "stdout",
     "output_type": "stream",
     "text": [
      "    *\n",
      "   **\n",
      "  ***\n",
      " ****\n",
      "*****\n",
      "    *\n",
      "   **\n",
      "  ***\n",
      " ****\n",
      "*****\n"
     ]
    }
   ],
   "execution_count": 2
  },
  {
   "metadata": {
    "ExecuteTime": {
     "end_time": "2025-04-25T08:48:53.936617Z",
     "start_time": "2025-04-25T08:48:51.556299Z"
    }
   },
   "cell_type": "code",
   "source": [
    "n = int(input())\n",
    "star = '*'\n",
    "\n",
    "for i in range(n , 0, -1): # n부터 1까지 1씩 감소하면서 반복\n",
    "    print(i * star)\n",
    "n = int(input())\n",
    "\n",
    "for i in range(n,0,-1): #n~1까지 내림차순 순서대로 반복\n",
    "    print(\"*\"*i) #5입력 시 별다섯개\n"
   ],
   "id": "68943a1e1de557b1",
   "outputs": [
    {
     "name": "stdout",
     "output_type": "stream",
     "text": [
      "*****\n",
      "****\n",
      "***\n",
      "**\n",
      "*\n",
      "*****\n",
      "****\n",
      "***\n",
      "**\n",
      "*\n"
     ]
    }
   ],
   "execution_count": 3
  },
  {
   "metadata": {
    "ExecuteTime": {
     "end_time": "2025-04-25T08:49:16.501840Z",
     "start_time": "2025-04-25T08:49:13.862473Z"
    }
   },
   "cell_type": "code",
   "source": [
    "n = int(input())\n",
    "star = '*'\n",
    "blank = ' '\n",
    "\n",
    "for i in range(0, n): #0부터 n-1까지 순서대로\n",
    "    print(blank * i + star * (n - i)) #공백을 순서대로 0부터~n-1까지\n",
    "n = int(input())\n",
    "\n",
    "for i in range(n, 0, -1): #내림차순 n~1까지\n",
    "   print(\" \"*(n-i)+\"*\"*(i)) #5입력 시 5-5=0공백+5별"
   ],
   "id": "89072387efd39e4c",
   "outputs": [
    {
     "name": "stdout",
     "output_type": "stream",
     "text": [
      "*****\n",
      " ****\n",
      "  ***\n",
      "   **\n",
      "    *\n",
      "*****\n",
      " ****\n",
      "  ***\n",
      "   **\n",
      "    *\n"
     ]
    }
   ],
   "execution_count": 5
  },
  {
   "metadata": {
    "ExecuteTime": {
     "end_time": "2025-04-25T08:49:28.032252Z",
     "start_time": "2025-04-25T08:49:25.665800Z"
    }
   },
   "cell_type": "code",
   "source": [
    "n = int(input())\n",
    "star = '*'\n",
    "blank = ' '\n",
    "stars = 1\n",
    "\n",
    "for i in range(n, 0, -1): #n~1까지 내림차순\n",
    "    print(blank * (i - 1) + stars * star) #여기까지 출력하며 앞에 공백 생김\n",
    "    stars += 2 #범위 내 다음 순서부터 stars의 변수가 2씩 추가 됨\n",
    "n = int(input())\n",
    "\n",
    "for i in range(1,n+1): # 1~n\n",
    "    print(\" \"*(n-i)+\"*\"*(i*2-1)) #5입력 시 4공백+1별"
   ],
   "id": "ad5a26baf60331dc",
   "outputs": [
    {
     "name": "stdout",
     "output_type": "stream",
     "text": [
      "    *\n",
      "   ***\n",
      "  *****\n",
      " *******\n",
      "*********\n",
      "    *\n",
      "   ***\n",
      "  *****\n",
      " *******\n",
      "*********\n"
     ]
    }
   ],
   "execution_count": 6
  },
  {
   "metadata": {
    "ExecuteTime": {
     "end_time": "2025-04-25T08:49:40.152130Z",
     "start_time": "2025-04-25T08:49:36.269709Z"
    }
   },
   "cell_type": "code",
   "source": [
    "n = int(input())\n",
    "for i in range(n,0,-1): #n~1 범위 내 순서대로 내림차순 반복\n",
    "    print(\" \"*(n-i)+\"*\"*(i*2-1)) #5넣었을 때 5-5=0공백, 9별\n",
    "n = int(input())\n",
    "for i in range(n,0,-1): #n~1 내림차순\n",
    "    print(\" \"*(n-i)+\"*\"*(i*2-1)) #5입력 시 공백 없고 + 별9"
   ],
   "id": "81cacce61ce2d24",
   "outputs": [
    {
     "name": "stdout",
     "output_type": "stream",
     "text": [
      "*********\n",
      " *******\n",
      "  *****\n",
      "   ***\n",
      "    *\n",
      "*********\n",
      " *******\n",
      "  *****\n",
      "   ***\n",
      "    *\n"
     ]
    }
   ],
   "execution_count": 7
  },
  {
   "metadata": {
    "ExecuteTime": {
     "end_time": "2025-04-25T08:49:49.702346Z",
     "start_time": "2025-04-25T08:49:47.985016Z"
    }
   },
   "cell_type": "code",
   "source": [
    "n = int(input())\n",
    "\n",
    "for i in range(1,n+1): #1~n까지 순서대로\n",
    "    print(\" \"*(n-i)+\"*\"*(i*2-1)) #예를들어 4를 넣었을 때 4-1=3 공백, 1*(범위 내 반복)\n",
    "for j in range(n-1, 0, -1): #n-1~1까지 순서대로 감소하는 범위(예를들어 4넣었을 때 3~1 반복)\n",
    "    print(\" \"*(n-j)+\"*\"*(j*2-1)) #4-3=1 공백 + 3*2-1=5*"
   ],
   "id": "1011814357e2ebf6",
   "outputs": [
    {
     "name": "stdout",
     "output_type": "stream",
     "text": [
      "    *\n",
      "   ***\n",
      "  *****\n",
      " *******\n",
      "*********\n",
      " *******\n",
      "  *****\n",
      "   ***\n",
      "    *\n"
     ]
    }
   ],
   "execution_count": 8
  },
  {
   "metadata": {
    "ExecuteTime": {
     "end_time": "2025-04-25T08:50:00.619595Z",
     "start_time": "2025-04-25T08:49:58.573259Z"
    }
   },
   "cell_type": "code",
   "source": [
    "n = int(input())\n",
    "\n",
    "for i in range(1, n+1): #1~n까지 순서대로 반복\n",
    "    print(\"*\"*i + \" \"*(n*2-i*2) + \"*\"*i) #5를 넣었을 때 1별+ 10-2=8공백+ 1별\n",
    "for i in range(n-1, 0, -1): #n-1~1까지 내림차순 순서대로 반복(예:5넣었을 때 4~1)\n",
    "    print(\"*\"*i + \" \"*(n*2-i*2) + \"*\"*i) #5 넣었을 때 4별+2공백 + 4별"
   ],
   "id": "2c40b2d84bca7258",
   "outputs": [
    {
     "name": "stdout",
     "output_type": "stream",
     "text": [
      "*        *\n",
      "**      **\n",
      "***    ***\n",
      "****  ****\n",
      "**********\n",
      "****  ****\n",
      "***    ***\n",
      "**      **\n",
      "*        *\n"
     ]
    }
   ],
   "execution_count": 9
  },
  {
   "metadata": {
    "ExecuteTime": {
     "end_time": "2025-04-25T08:50:10.272824Z",
     "start_time": "2025-04-25T08:50:08.391412Z"
    }
   },
   "cell_type": "code",
   "source": [
    "n = int(input())\n",
    "\n",
    "for i in range(n,0,-1): #n~1까지 내림차순\n",
    "    print(\" \"*(n-i) + \"*\"*(i*2-1)) #역피라미드와 동일\n",
    "\n",
    "for i in range(2,n+1): #피라미드에서 바뀐것: 1별이 아닌 3별이기 때문에범위를 1이아닌 2부터로 시작(2~n)\n",
    "    print(\" \"*(n-i)+\"*\"*(i*2-1)) #5넣었을 때 3공백 + 3별"
   ],
   "id": "377622e7a7f863f1",
   "outputs": [
    {
     "name": "stdout",
     "output_type": "stream",
     "text": [
      "*********\n",
      " *******\n",
      "  *****\n",
      "   ***\n",
      "    *\n",
      "   ***\n",
      "  *****\n",
      " *******\n",
      "*********\n"
     ]
    }
   ],
   "execution_count": 10
  }
 ],
 "metadata": {
  "kernelspec": {
   "display_name": "Python 3",
   "language": "python",
   "name": "python3"
  },
  "language_info": {
   "codemirror_mode": {
    "name": "ipython",
    "version": 2
   },
   "file_extension": ".py",
   "mimetype": "text/x-python",
   "name": "python",
   "nbconvert_exporter": "python",
   "pygments_lexer": "ipython2",
   "version": "2.7.6"
  }
 },
 "nbformat": 4,
 "nbformat_minor": 5
}
