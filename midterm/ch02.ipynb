{
 "cells": [
  {
   "cell_type": "code",
   "id": "initial_id",
   "metadata": {
    "collapsed": true,
    "ExecuteTime": {
     "end_time": "2025-04-25T08:06:09.686547Z",
     "start_time": "2025-04-25T08:06:09.681997Z"
    }
   },
   "source": [
    "def show_message(msg, name):\n",
    "    print(msg,name,'님')\n",
    "\n",
    "print(\"start\")\n",
    "show_message(\"11\",\"11\")\n",
    "show_message(\"22\",\"22\")\n",
    "print(\"end\")"
   ],
   "outputs": [
    {
     "name": "stdout",
     "output_type": "stream",
     "text": [
      "start\n",
      "11 11 님\n",
      "22 22 님\n",
      "end\n"
     ]
    }
   ],
   "execution_count": 1
  }
 ],
 "metadata": {
  "kernelspec": {
   "display_name": "Python 3",
   "language": "python",
   "name": "python3"
  },
  "language_info": {
   "codemirror_mode": {
    "name": "ipython",
    "version": 2
   },
   "file_extension": ".py",
   "mimetype": "text/x-python",
   "name": "python",
   "nbconvert_exporter": "python",
   "pygments_lexer": "ipython2",
   "version": "2.7.6"
  }
 },
 "nbformat": 4,
 "nbformat_minor": 5
}
