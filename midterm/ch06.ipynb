{
 "cells": [
  {
   "cell_type": "code",
   "id": "initial_id",
   "metadata": {
    "collapsed": true,
    "ExecuteTime": {
     "end_time": "2025-04-25T05:48:01.531923Z",
     "start_time": "2025-04-25T05:48:01.526831Z"
    }
   },
   "source": "print(' \"때론 내 삶의 변화를 위해 \\'내어맡김\\'이 필요하다'\" \")",
   "outputs": [
    {
     "name": "stdout",
     "output_type": "stream",
     "text": [
      " \"때론 내 삶의 변화를 위해 '내어맡김'이 필요하다 \n"
     ]
    }
   ],
   "execution_count": 2
  },
  {
   "metadata": {
    "ExecuteTime": {
     "end_time": "2025-04-25T05:48:18.179160Z",
     "start_time": "2025-04-25T05:48:18.171943Z"
    }
   },
   "cell_type": "code",
   "source": "print('11\\t홍길동\\n123\\t일지매')",
   "id": "bb95ab3367becb44",
   "outputs": [
    {
     "name": "stdout",
     "output_type": "stream",
     "text": [
      "11\t홍길동\n",
      "123\t일지매\n"
     ]
    }
   ],
   "execution_count": 3
  },
  {
   "metadata": {},
   "cell_type": "markdown",
   "source": [
    "\t•\t\\' : 하나의 **작은따옴표(’)**를 문자열 안에 나타낼 때 사용합니다.\n",
    "\t•\t\\\" : 하나의 **큰따옴표(”)**를 문자열 안에 나타낼 때 사용합니다.\n",
    "\t•\t\\\\ : 하나의 역슬래시(\\) 자체를 문자열 안에 나타낼 때 사용합니다.\n",
    "\t•\t\\t : 탭 키를 누른 것처럼 일정한 간격을 띄우는 효과를 냅니다.\n",
    "\t•\t\\n : 줄바꿈 문자로, 엔터키를 한 번 누른 것처럼 줄이 바뀝니다."
   ],
   "id": "eeaef39a733adb2a"
  },
  {
   "metadata": {
    "ExecuteTime": {
     "end_time": "2025-04-04T06:15:39.262570Z",
     "start_time": "2025-04-04T06:15:39.255572Z"
    }
   },
   "cell_type": "code",
   "source": [
    "print('동해물과 백두산이 마르고 닳도록 \\\n",
    "하느님이 보우하사 우리나라 만세') # 걍 쭉 출력됨"
   ],
   "id": "edcf1b18a59bcea",
   "outputs": [
    {
     "name": "stdout",
     "output_type": "stream",
     "text": [
      "동해물과 백두산이 마르고 닳도록 하느님이 보우하사 우리나라 만세\n"
     ]
    }
   ],
   "execution_count": 3
  },
  {
   "metadata": {
    "ExecuteTime": {
     "end_time": "2025-04-25T05:52:17.977811Z",
     "start_time": "2025-04-25T05:52:17.961265Z"
    }
   },
   "cell_type": "code",
   "source": [
    "print('''\\\n",
    "11\\t홍길동\n",
    "123\\t일지매\\\n",
    "''')"
   ],
   "id": "a4b6350909700041",
   "outputs": [
    {
     "name": "stdout",
     "output_type": "stream",
     "text": [
      "11\t홍길동\n",
      "123\t일지매\n"
     ]
    }
   ],
   "execution_count": 4
  },
  {
   "metadata": {
    "ExecuteTime": {
     "end_time": "2025-04-25T05:53:29.938285Z",
     "start_time": "2025-04-25T05:53:29.930048Z"
    }
   },
   "cell_type": "code",
   "source": [
    "print('''\\\n",
    "안녕하세요\n",
    "반갑습니다.\n",
    "''')"
   ],
   "id": "35266fccd04326ca",
   "outputs": [
    {
     "name": "stdout",
     "output_type": "stream",
     "text": [
      "안녕하세요\n",
      "반갑습니다.\n",
      "\n"
     ]
    }
   ],
   "execution_count": 5
  },
  {
   "metadata": {
    "ExecuteTime": {
     "end_time": "2025-04-04T06:20:37.227964Z",
     "start_time": "2025-04-04T06:20:37.221460Z"
    }
   },
   "cell_type": "code",
   "source": [
    "msg = '상명대학교'\n",
    "print(msg[0])\n",
    "print(msg[-1])"
   ],
   "id": "cec995208d821ed7",
   "outputs": [
    {
     "name": "stdout",
     "output_type": "stream",
     "text": [
      "상\n",
      "교\n"
     ]
    }
   ],
   "execution_count": 7
  },
  {
   "metadata": {
    "ExecuteTime": {
     "end_time": "2025-04-04T06:25:04.038093Z",
     "start_time": "2025-04-04T06:25:04.031015Z"
    }
   },
   "cell_type": "code",
   "source": [
    "msg = '상명대학교'\n",
    "print(msg[0:2])\n",
    "print(msg[:3])\n",
    "print(msg[2:5])\n",
    "print(msg[2:])\n",
    "print(msg[4:])"
   ],
   "id": "a42fd43926fa1070",
   "outputs": [
    {
     "name": "stdout",
     "output_type": "stream",
     "text": [
      "상명\n",
      "상명대\n",
      "대학교\n",
      "대학교\n",
      "교\n"
     ]
    }
   ],
   "execution_count": 10
  },
  {
   "metadata": {
    "ExecuteTime": {
     "end_time": "2025-04-04T06:29:08.336917Z",
     "start_time": "2025-04-04T06:29:08.329132Z"
    }
   },
   "cell_type": "code",
   "source": [
    "print('안녕','하세요')\n",
    "print('안녕'+'하세요')\n",
    "\n",
    "msg1, msg2 = '안녕', '하세요'\n",
    "print(msg1+msg2)\n",
    "print('안녕'+msg2)\n",
    "print(msg1+'하세요')"
   ],
   "id": "dbb5c5739ee032be",
   "outputs": [
    {
     "name": "stdout",
     "output_type": "stream",
     "text": [
      "안녕 하세요\n",
      "안녕하세요\n",
      "안녕하세요\n",
      "안녕하세요\n",
      "안녕하세요\n"
     ]
    }
   ],
   "execution_count": 11
  },
  {
   "metadata": {
    "ExecuteTime": {
     "end_time": "2025-04-04T06:31:06.389738Z",
     "start_time": "2025-04-04T06:31:06.385370Z"
    }
   },
   "cell_type": "code",
   "source": [
    "res = 2*2\n",
    "print('2 x 2 =', str(res))"
   ],
   "id": "f3517d122eba905c",
   "outputs": [
    {
     "name": "stdout",
     "output_type": "stream",
     "text": [
      "2 x 2 = 4\n"
     ]
    }
   ],
   "execution_count": 14
  },
  {
   "metadata": {
    "ExecuteTime": {
     "end_time": "2025-04-04T06:31:56.578785Z",
     "start_time": "2025-04-04T06:31:56.571655Z"
    }
   },
   "cell_type": "code",
   "source": [
    "print('*'*5)\n",
    "print(5*'print ')"
   ],
   "id": "a7c14d2a55033bf",
   "outputs": [
    {
     "name": "stdout",
     "output_type": "stream",
     "text": [
      "*****\n",
      "print print print print print \n"
     ]
    }
   ],
   "execution_count": 16
  },
  {
   "metadata": {
    "ExecuteTime": {
     "end_time": "2025-04-04T06:51:49.553938Z",
     "start_time": "2025-04-04T06:51:46.440178Z"
    }
   },
   "cell_type": "code",
   "source": [
    "def divide_name(name) :\n",
    "    last_name = name[0] #lastName = name에서 성을 분리\n",
    "    first_name = name[1:] #firstName = name에서 이름을 분리\n",
    "\n",
    "    print('-'*12)\n",
    "    print(\"성  :\\t\" + last_name)\n",
    "    print(\"이름:\\t\" + first_name)\n",
    "    print('-'*12)\n",
    "\n",
    "name = input('당신의 이름은?')\n",
    "divide_name(name)"
   ],
   "id": "e895869983c14966",
   "outputs": [
    {
     "name": "stdout",
     "output_type": "stream",
     "text": [
      "------------\n",
      "성  :\t박\n",
      "이름:\t세연\n",
      "------------\n"
     ]
    }
   ],
   "execution_count": 22
  },
  {
   "metadata": {
    "ExecuteTime": {
     "end_time": "2025-04-25T05:57:52.289014Z",
     "start_time": "2025-04-25T05:57:49.834608Z"
    }
   },
   "cell_type": "code",
   "source": [
    "n1 = int(input('첫번쨰 정수는? '))\n",
    "n2 = int(input('두번쨰 정수는? '))\n",
    "\n",
    "print(f'{n1}와 {n2}의 평균은 = {(n1+n2)/2}')\n",
    "print(f'{n1} + {n2} = {(n1+n2)}')"
   ],
   "id": "b7a1de174eb1c065",
   "outputs": [
    {
     "name": "stdout",
     "output_type": "stream",
     "text": [
      "3와 5의 평균은 = 4.0\n",
      "3 + 5 = 8\n"
     ]
    }
   ],
   "execution_count": 6
  },
  {
   "metadata": {
    "ExecuteTime": {
     "end_time": "2025-04-04T07:03:12.747259Z",
     "start_time": "2025-04-04T07:03:09.592740Z"
    }
   },
   "cell_type": "code",
   "source": [
    "num= int(input('정수는?'))\n",
    "\n",
    "print(f'2진 표현으로는 {num:b}입니다.')\n",
    "print(f'10진 표현으로는 {num:d}입니다.')\n",
    "print(f'16진 표현으로는 {num:x}입니다.')"
   ],
   "id": "b3bf28bb00113c34",
   "outputs": [
    {
     "name": "stdout",
     "output_type": "stream",
     "text": [
      "2진 표현으로는 110입니다.\n",
      "10진 표현으로는 6입니다.\n",
      "16진 표현으로는 6입니다.\n"
     ]
    }
   ],
   "execution_count": 26
  },
  {
   "metadata": {
    "ExecuteTime": {
     "end_time": "2025-04-04T07:07:41.378591Z",
     "start_time": "2025-04-04T07:07:35.755157Z"
    }
   },
   "cell_type": "code",
   "source": [
    "n1 = int(input('첫번쨰 정수는? '))\n",
    "n2 = int(input('두번쨰 정수는? '))\n",
    "\n",
    "avg = n1/n2\n",
    "\n",
    "print(f'{n1}/{n2}={avg}')\n",
    "print(f'{n1}/{n2}={avg:f}') # 고정소수점 형식, 소수점 6자리\n",
    "print(f'{n1}/{n2}={avg:e}') # 지수형식 e\n",
    "print(f'{n1}/{n2}={avg:g}') # 일반형식, 더 간단한 형식으로 자동 선택"
   ],
   "id": "f364745b7f52f1e2",
   "outputs": [
    {
     "name": "stdout",
     "output_type": "stream",
     "text": [
      "2000/5=400.0\n",
      "2000/5=400.000000\n",
      "2000/5=4.000000e+02\n",
      "2000/5=400\n"
     ]
    }
   ],
   "execution_count": 29
  },
  {
   "metadata": {
    "ExecuteTime": {
     "end_time": "2025-04-04T07:12:19.957015Z",
     "start_time": "2025-04-04T07:12:19.947524Z"
    }
   },
   "cell_type": "code",
   "source": [
    "num = 15\n",
    "print(f'[{num:d}]') #[15]\n",
    "print(f'[{num:5d}]') #[   15] 다섯자리 확보\n",
    "print(f'[{num:<5d}]') #[15   ] 왼쪽정렬\n",
    "print(f'[{num:^5d}]') #[ 15  ] 가운데정렬\n",
    "print(f'[{12345678:5d}]')#[12345678] 모자라면 지정된 자릿수 무시\n",
    "print(f'[{num:05d}]')#[00015] 0채우기"
   ],
   "id": "65b8450d76126284",
   "outputs": [
    {
     "name": "stdout",
     "output_type": "stream",
     "text": [
      "[15]\n",
      "[   15]\n",
      "[15   ]\n",
      "[ 15  ]\n",
      "[12345678]\n",
      "[00015]\n"
     ]
    }
   ],
   "execution_count": 31
  },
  {
   "metadata": {
    "ExecuteTime": {
     "end_time": "2025-04-04T07:16:15.129685Z",
     "start_time": "2025-04-04T07:16:15.116038Z"
    }
   },
   "cell_type": "code",
   "source": [
    "PI = 3.14159265\n",
    "print(f'[{PI:f}]')#소수점 6자리 이하 [3.141593]\n",
    "print(f'[{PI:.2f}]')#소수점 이하 2자리 [3.14]\n",
    "print(f'[{PI:5.2f}]')#소수점 기호 . 도 한자리를 차지한다[ 3.14]\n",
    "print(f'[{PI:.2g}]') #변환되어 표시될 계수의 유효 자릿수의 개수[3.1]"
   ],
   "id": "23d853b1b770fc13",
   "outputs": [
    {
     "name": "stdout",
     "output_type": "stream",
     "text": [
      "[3.141593]\n",
      "[3.14]\n",
      "[ 3.14]\n",
      "[3.1]\n"
     ]
    }
   ],
   "execution_count": 32
  },
  {
   "metadata": {
    "ExecuteTime": {
     "end_time": "2025-04-25T06:04:51.971258Z",
     "start_time": "2025-04-25T06:04:45.825914Z"
    }
   },
   "cell_type": "code",
   "source": [
    "n1 = int(input('첫번쨰 정수는? '))\n",
    "n2 = int(input('두번쨰 정수는? '))\n",
    "\n",
    "print(f'{n1} / {n2} = {n1/n2:.3f}')"
   ],
   "id": "6f37054263a0c815",
   "outputs": [
    {
     "name": "stdout",
     "output_type": "stream",
     "text": [
      "1004 / 715 = 1.40\n"
     ]
    }
   ],
   "execution_count": 9
  },
  {
   "metadata": {},
   "cell_type": "markdown",
   "source": "",
   "id": "b67aa258100a3886"
  },
  {
   "metadata": {
    "ExecuteTime": {
     "end_time": "2025-04-04T07:21:37.324331Z",
     "start_time": "2025-04-04T07:21:37.292046Z"
    }
   },
   "cell_type": "code",
   "source": [
    "'today is %d %s.' %(17,'November')\n",
    "\n",
    "# '%s' % '문자열’ – 예) 'I am %s.' % ‘jay'\n",
    "# ▪ ‘%d' % 정수 – 예) ‘Your score is %d.’ % 29\n",
    "# ▪ ‘%f' % 실수 – 예) ‘Pi is %.6f.’ % 3.141592\n",
    "# ▪ %와 f사이에 ‘.자릿수’를 넣으면 자릿수 지정\n",
    "# ▪ %와 s, d, f 사이에 숫자를 넣으면 해당 칸만큼 공간을\n",
    "# 할당. 숫자가 양수이면 오른쪽 정렬, 음수이면 왼쪽 정렬\n",
    "# ◆ 여러 개의 서식 지정자를 한꺼번에 사용 가능"
   ],
   "id": "721132ebf31833df",
   "outputs": [
    {
     "data": {
      "text/plain": [
       "'today is 3 April.'"
      ]
     },
     "execution_count": 33,
     "metadata": {},
     "output_type": "execute_result"
    }
   ],
   "execution_count": 33
  },
  {
   "metadata": {
    "ExecuteTime": {
     "end_time": "2025-04-25T06:07:49.881273Z",
     "start_time": "2025-04-25T06:07:49.876544Z"
    }
   },
   "cell_type": "code",
   "source": [
    "'hello, {0},{2},{1}'.format('python','script',3)\n",
    "\n",
    "# 사용 방법: '{인덱스}'.format(값)\n",
    "# ▪ 중괄호 안에 formatting을 지정하고,\n",
    "# format 메서드로 값을 넣음\n",
    "# ▪ 인덱스는 0부터 시작. 미지정시 순서대로 넣음\n",
    "# ◆ 여러 개의 값을 한꺼번에 넣을 수도 있음\n",
    "# ◆ 인덱스 대신 이름도 사용 가능"
   ],
   "id": "7d54c60a7cb6e61d",
   "outputs": [
    {
     "data": {
      "text/plain": [
       "'hello, python 3'"
      ]
     },
     "execution_count": 11,
     "metadata": {},
     "output_type": "execute_result"
    }
   ],
   "execution_count": 11
  },
  {
   "metadata": {
    "ExecuteTime": {
     "end_time": "2025-04-25T06:07:51.675747Z",
     "start_time": "2025-04-25T06:07:51.668710Z"
    }
   },
   "cell_type": "code",
   "source": "'hello, {lang} {version}'.format(lang = 'python',version = 3)",
   "id": "fb8b29ec91f78a6b",
   "outputs": [
    {
     "data": {
      "text/plain": [
       "'hello, python 3'"
      ]
     },
     "execution_count": 12,
     "metadata": {},
     "output_type": "execute_result"
    }
   ],
   "execution_count": 12
  },
  {
   "metadata": {
    "ExecuteTime": {
     "end_time": "2025-04-04T07:29:08.614906Z",
     "start_time": "2025-04-04T07:29:08.606518Z"
    }
   },
   "cell_type": "code",
   "source": [
    "text = \"python\"\n",
    "print('t' in text)\n",
    "print('T' in text)\n",
    "print('th' in text)\n",
    "print('티' not in text)"
   ],
   "id": "b1e6efeec9d9c66b",
   "outputs": [
    {
     "name": "stdout",
     "output_type": "stream",
     "text": [
      "True\n",
      "False\n",
      "True\n",
      "True\n"
     ]
    }
   ],
   "execution_count": 42
  },
  {
   "metadata": {
    "ExecuteTime": {
     "end_time": "2025-04-04T07:31:03.137756Z",
     "start_time": "2025-04-04T07:30:59.056706Z"
    }
   },
   "cell_type": "code",
   "source": [
    "num = input('정수를 입력하세요 : ')\n",
    "length = len(num)\n",
    "print(f'입력하신 {num}은 {length}자리 정수입니다.')"
   ],
   "id": "eb1d5c937ce4ebdf",
   "outputs": [
    {
     "name": "stdout",
     "output_type": "stream",
     "text": [
      "입력하신 2345은 4자리 정수입니다.\n"
     ]
    }
   ],
   "execution_count": 44
  },
  {
   "metadata": {
    "ExecuteTime": {
     "end_time": "2025-04-04T07:35:09.322831Z",
     "start_time": "2025-04-04T07:35:09.316758Z"
    }
   },
   "cell_type": "code",
   "source": [
    "week = '간장공장공장장간장공장공장장공장'\n",
    "n = week.count('장')\n",
    "print(n)"
   ],
   "id": "5d49a70861d1350d",
   "outputs": [
    {
     "name": "stdout",
     "output_type": "stream",
     "text": [
      "9\n"
     ]
    }
   ],
   "execution_count": 46
  },
  {
   "metadata": {
    "ExecuteTime": {
     "end_time": "2025-04-04T07:40:46.259246Z",
     "start_time": "2025-04-04T07:40:46.247763Z"
    }
   },
   "cell_type": "code",
   "source": [
    "week = '월화수목금금금금금요일'\n",
    "pos=week.find('금') #금 이 시작하는 위치\n",
    "print(pos)\n",
    "\n",
    "pos=week.find('금',5) #5부터 금을 찾아라\n",
    "print(pos)\n",
    "\n",
    "pos=week.rfind('금') #오른쪽부터 금을 찾아라\n",
    "print(pos)"
   ],
   "id": "4a67dcbc43711065",
   "outputs": [
    {
     "name": "stdout",
     "output_type": "stream",
     "text": [
      "4\n",
      "5\n",
      "8\n"
     ]
    }
   ],
   "execution_count": 49
  },
  {
   "metadata": {
    "ExecuteTime": {
     "end_time": "2025-04-04T07:42:54.494330Z",
     "start_time": "2025-04-04T07:42:54.486143Z"
    }
   },
   "cell_type": "code",
   "source": [
    "msg = \"python은 배우기쉽다. python은 강력하다.\"\n",
    "res = msg.replace('python','파이썬') #찾을문자열, 새 문자열\n",
    "print(res)\n",
    "print(msg)"
   ],
   "id": "4a6be4f8fde4c40b",
   "outputs": [
    {
     "name": "stdout",
     "output_type": "stream",
     "text": [
      "파이썬은 배우기쉽다. 파이썬은 강력하다.\n",
      "python은 배우기쉽다. python은 강력하다.\n"
     ]
    }
   ],
   "execution_count": 50
  },
  {
   "metadata": {
    "ExecuteTime": {
     "end_time": "2025-04-25T06:22:52.172971Z",
     "start_time": "2025-04-25T06:22:46.873674Z"
    }
   },
   "cell_type": "code",
   "source": [
    "msg = input('입력: ')\n",
    "res = msg.replace(' ','') #찾을문자열, 새 문자열\n",
    "print(res)\n",
    "print(msg)"
   ],
   "id": "866db05196f562ed",
   "outputs": [
    {
     "name": "stdout",
     "output_type": "stream",
     "text": [
      "안녕반가워워ㅜ\n",
      "안 녕 반 가 워워ㅜ\n"
     ]
    }
   ],
   "execution_count": 13
  },
  {
   "metadata": {},
   "cell_type": "code",
   "outputs": [],
   "execution_count": null,
   "source": [
    "# ✅ 문자열 관련 메서드 요약\n",
    "\n",
    "# 🔍 검사 관련 메서드\n",
    "# isdigit(), isnumeric() : 문자열이 숫자 문자로만 구성되어 있는지 확인 (True/False)\n",
    "# isdecimal()            : 문자열이 10진 정수인지 확인\n",
    "# isupper()              : 문자열이 대문자 알파벳으로만 구성되어 있는지 확인\n",
    "# islower()              : 문자열이 소문자 알파벳으로만 구성되어 있는지 확인\n",
    "# isalpha()              : 문자열이 알파벳 또는 한글 등 문자로만 구성되어 있는지 확인\n",
    "# isalnum()              : 문자열이 알파벳/한글 + 숫자로만 구성되어 있는지 확인\n",
    "# isspace()              : 문자열이 공백 문자로만 구성되어 있는지 확인\n",
    "\n",
    "# 🔄 변환 관련 메서드\n",
    "# lower() : 문자열의 알파벳을 모두 소문자로 변환\n",
    "# upper() : 문자열의 알파벳을 모두 대문자로 변환\n",
    "\n",
    "# 🔧 공백 제거 메서드\n",
    "# strip()  : 문자열 양쪽(앞뒤) 공백 제거\n",
    "# lstrip() : 문자열 왼쪽(앞쪽) 공백 제거\n",
    "# rstrip() : 문자열 오른쪽(뒤쪽) 공백 제거\n",
    "\n",
    "# 🔀 분할 / 합치기 메서드\n",
    "# split() : 문자열을 구분자 기준으로 나누어 리스트로 반환\n",
    "# join()  : 리스트 등의 여러 문자열을 구분자를 넣어 하나로 합침\n",
    "\n",
    "# 🔎 문자열 검색 메서드\n",
    "# find()   : 지정한 문자를 앞에서부터 검색하여 인덱스 반환 (없으면 -1)\n",
    "# rfind()  : 지정한 문자를 뒤에서부터 검색하여 인덱스 반환 (없으면 -1)\n",
    "# index()  : find()와 같지만, 없으면 ValueError 예외 발생\n",
    "# rindex() : rfind()와 같지만, 없으면 ValueError 예외 발생"
   ],
   "id": "d35ea81265f8d882"
  }
 ],
 "metadata": {
  "kernelspec": {
   "display_name": "Python 3",
   "language": "python",
   "name": "python3"
  },
  "language_info": {
   "codemirror_mode": {
    "name": "ipython",
    "version": 2
   },
   "file_extension": ".py",
   "mimetype": "text/x-python",
   "name": "python",
   "nbconvert_exporter": "python",
   "pygments_lexer": "ipython2",
   "version": "2.7.6"
  }
 },
 "nbformat": 4,
 "nbformat_minor": 5
}
