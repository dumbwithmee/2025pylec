{
 "cells": [
  {
   "metadata": {},
   "cell_type": "markdown",
   "source": [
    "# ch03\n",
    "원의 넓이 계산"
   ],
   "id": "6da6c41fbcf03ded"
  },
  {
   "metadata": {
    "collapsed": true,
    "ExecuteTime": {
     "end_time": "2025-04-25T07:53:38.476618Z",
     "start_time": "2025-04-25T07:53:38.468697Z"
    }
   },
   "cell_type": "code",
   "source": [
    "import math\n",
    "\n",
    "def show_circle_area(radius):\n",
    "    area = math.pi * radius ** 2\n",
    "    print(f\"반지름이 {radius}인 원의 넓이는 {area:.2f}입니다.\")\n",
    "\n",
    "# 주 프로그램\n",
    "rea1= show_circle_area(1)\n",
    "res2 = show_circle_area(10)"
   ],
   "id": "initial_id",
   "outputs": [
    {
     "name": "stdout",
     "output_type": "stream",
     "text": [
      "반지름이 1인 원의 넓이는 3.14입니다.\n",
      "반지름이 10인 원의 넓이는 314.16입니다.\n"
     ]
    }
   ],
   "execution_count": 29
  },
  {
   "metadata": {
    "ExecuteTime": {
     "end_time": "2025-04-25T04:31:03.081602Z",
     "start_time": "2025-04-25T04:31:00.290779Z"
    }
   },
   "cell_type": "code",
   "source": [
    "def get_radius(prompt):\n",
    "    r = int(input(prompt))\n",
    "    return r\n",
    "\n",
    "def show_circle_area(r):\n",
    "    area = 3.14 * r ** 2\n",
    "    print(f\"반지름이 {r}인 원의 넓이는 {area:.2f}입니다.\")\n",
    "\n",
    "# 주 프로그램\n",
    "r1 = get_radius(\"첫 번째 원의 반지름을 입력하세요: \")\n",
    "show_circle_area(r1)\n",
    "\n",
    "r2 = get_radius(\"두 번째 원의 반지름을 입력하세요: \")\n",
    "show_circle_area(r2)"
   ],
   "id": "cf6143ae28c25968",
   "outputs": [
    {
     "name": "stdout",
     "output_type": "stream",
     "text": [
      "반지름이 3인 원의 넓이는 28.26입니다.\n",
      "반지름이 4인 원의 넓이는 50.24입니다.\n"
     ]
    }
   ],
   "execution_count": 2
  },
  {
   "metadata": {},
   "cell_type": "markdown",
   "source": [
    "# ch04\n",
    "1. 사용자로부터 임의의 정수 하나를 입력받는데 사용할 수 있는 함수 get_integer()를 작성해라.<br>\n",
    "이 함수는 프롬프트로 사용할 문자열을 매개변수로 전달받고, 복귀시 정수를 반환한다.<br>\n",
    "임의의 실수 하나를 입력받는 데 사용할 수 있는 함수 get_real()도 작성하고 그 동작을 확인해보자."
   ],
   "id": "f16eeabb750264db"
  },
  {
   "metadata": {
    "collapsed": true,
    "ExecuteTime": {
     "end_time": "2025-04-24T17:11:59.756069Z",
     "start_time": "2025-04-24T17:11:54.705583Z"
    }
   },
   "cell_type": "code",
   "outputs": [
    {
     "name": "stdout",
     "output_type": "stream",
     "text": [
      "입력된 정수: 333\n",
      "입력된 실수: 434.0\n"
     ]
    }
   ],
   "execution_count": 1,
   "source": [
    "# 정수를 입력받는 함수\n",
    "def get_integer(prompt):\n",
    "    return int(input(prompt))\n",
    "\n",
    "# 실수를 입력받는 함수\n",
    "def get_real(prompt):\n",
    "    return float(input(prompt))\n",
    "\n",
    "# 사용 예\n",
    "i = get_integer('정수는? ')\n",
    "r = get_real('실수는? ')\n",
    "\n",
    "print(f\"입력된 정수: {i}\")\n",
    "print(f\"입력된 실수: {r}\")\n",
    "\n",
    "# 정수는? 42\n",
    "# 실수는? 3.14\n",
    "# 입력된 정수: 42\n",
    "# 입력된 실수: 3.14"
   ],
   "id": "da816e4b94ddf8e0"
  },
  {
   "metadata": {},
   "cell_type": "markdown",
   "source": [
    "2. 사용자로부터 화씨온도(F)를 입력받아 섭씨온도(C)로 변환 <br>\n",
    "공식: C=5/9*(F-32)<br>\n",
    "사용자 정의함수 fahrenheit_to_celsius() 작성<br>\n",
    "▪ 임의의 화씨온도를 매개변수로 전달받아 섭씨온도를 계산하여 반환<br>\n",
    "◆ 사용자 정의함수 get_real() 작성\n",
    "▪ 프롬프트 메시지를 매개변수로 전달받음<br>\n",
    "▪ 이 메시지와 함께 임의의 실수 하나를 사용자로부터 입력 받아 이 값을 반환<br>\n",
    "◆ 위 두 함수를 호출, 아래와 같이 출력되는 프로그램 완성<br>"
   ],
   "id": "14365d37418857c6"
  },
  {
   "metadata": {
    "ExecuteTime": {
     "end_time": "2025-04-25T04:34:55.883041Z",
     "start_time": "2025-04-25T04:34:51.716669Z"
    }
   },
   "cell_type": "code",
   "outputs": [
    {
     "name": "stdout",
     "output_type": "stream",
     "text": [
      "화씨 100도는 섭씨 37.778도\n"
     ]
    }
   ],
   "execution_count": 3,
   "source": [
    "def get_real(prompt):\n",
    "    return float(input(prompt))\n",
    "\n",
    "def fahrenheit_to_celsius(f):\n",
    "    return (5 / 9) * (f - 32)\n",
    "\n",
    "# 주 프로그램\n",
    "fahrenheit = get_real(\"변환하고자 하는 화씨 온도는? \")\n",
    "celsius = fahrenheit_to_celsius(fahrenheit)\n",
    "\n",
    "print(f\"화씨 {int(fahrenheit)}도는 섭씨 {celsius:.3f}도\")"
   ],
   "id": "1cb8b81e6924fbe0"
  },
  {
   "metadata": {
    "ExecuteTime": {
     "end_time": "2025-04-25T04:44:32.321498Z",
     "start_time": "2025-04-25T04:44:27.037938Z"
    }
   },
   "cell_type": "code",
   "source": [
    "# 시 분 초 형태로 변환\n",
    "def get_integer(prompt):\n",
    "    return int(input(prompt))\n",
    "\n",
    "def convert_seconds(total_seconds):\n",
    "    hours = total_seconds // 3600\n",
    "    minutes = (total_seconds % 3600) // 60\n",
    "    seconds = total_seconds % 60\n",
    "    return hours, minutes, seconds\n",
    "\n",
    "# 주 프로그램\n",
    "total_seconds = get_integer(\"변환하고자 하는 시간(초)? \")\n",
    "h, m, s = convert_seconds(total_seconds)\n",
    "\n",
    "print(f\"{total_seconds}초는 {h}시간 {m}분 {s}초 이다\")"
   ],
   "id": "fc08307cb1985b3",
   "outputs": [
    {
     "name": "stdout",
     "output_type": "stream",
     "text": [
      "3600초는 1시간 0분 0초 이다\n"
     ]
    }
   ],
   "execution_count": 3
  },
  {
   "metadata": {
    "ExecuteTime": {
     "end_time": "2025-04-25T04:48:22.230694Z",
     "start_time": "2025-04-25T04:48:19.403255Z"
    }
   },
   "cell_type": "code",
   "source": [
    "#원기둥 부피\n",
    "def get_real(prompt):\n",
    "    return int(input(prompt))\n",
    "\n",
    "def get_circle_area(radius):\n",
    "    return 3.14 * radius ** 2\n",
    "\n",
    "def get_volume_of_cylinder(radius, height):\n",
    "    base_area = get_circle_area(radius)\n",
    "    return base_area * height\n",
    "\n",
    "# 주 프로그램\n",
    "radius = get_real(\"원기둥 밑면 원의 반지름은? \")\n",
    "height = get_real(\"원기둥의 높이는? \")\n",
    "volume = get_volume_of_cylinder(radius, height)\n",
    "\n",
    "print(f\"원기둥의 부피는 {volume:.2f}\")"
   ],
   "id": "a942ce7de5b5bd05",
   "outputs": [
    {
     "name": "stdout",
     "output_type": "stream",
     "text": [
      "원기둥의 부피는 141.30\n"
     ]
    }
   ],
   "execution_count": 4
  },
  {
   "metadata": {
    "ExecuteTime": {
     "end_time": "2025-04-25T04:51:35.202027Z",
     "start_time": "2025-04-25T04:51:29.457694Z"
    }
   },
   "cell_type": "code",
   "source": [
    "# 평을 제곱미터로\n",
    "def get_real(prompt):\n",
    "    return float(input(prompt))\n",
    "\n",
    "def convert_to_squaremeter(pyeong):\n",
    "    return pyeong * 3.305785\n",
    "\n",
    "# 주 프로그램\n",
    "pyeong = get_real(\"변환하고자 하는 평수는? \")\n",
    "sqm = convert_to_squaremeter(pyeong)\n",
    "\n",
    "print(f\"{pyeong}평은 {sqm:.2f} 제곱미터\")"
   ],
   "id": "440bd25675464391",
   "outputs": [
    {
     "name": "stdout",
     "output_type": "stream",
     "text": [
      "67.8평은 224.13 제곱미터\n"
     ]
    }
   ],
   "execution_count": 5
  },
  {
   "metadata": {
    "ExecuteTime": {
     "end_time": "2025-04-25T07:57:07.925265Z",
     "start_time": "2025-04-25T07:57:05.489405Z"
    }
   },
   "cell_type": "code",
   "source": [
    "# 정수를 비트로 변환하는\n",
    "def set_all_beats(n):\n",
    "    return (1 << n) - 1\n",
    "\n",
    "# 주 프로그램\n",
    "n = int(input(\"설정한 비트 수는?\\n\"))\n",
    "result = set_all_beats(n)\n",
    "\n",
    "print(f\"{n}비트를 모두 1로 설정하는 수는 {result:10d} ( {bin(result):>10} ) 이다.\")"
   ],
   "id": "d0e77d5a16a5db7a",
   "outputs": [
    {
     "name": "stdout",
     "output_type": "stream",
     "text": [
      "4비트를 모두 1로 설정하는 수는         15 (     0b1111 ) 이다.\n"
     ]
    }
   ],
   "execution_count": 35
  },
  {
   "metadata": {
    "ExecuteTime": {
     "end_time": "2025-04-25T04:56:35.575181Z",
     "start_time": "2025-04-25T04:56:31.241784Z"
    }
   },
   "cell_type": "code",
   "source": [
    "def exchange(amount):\n",
    "    original_amount = amount  # 입력 금액 저장 (출력용)\n",
    "\n",
    "    n500 = amount // 500\n",
    "    amount %= 500\n",
    "\n",
    "    n100 = amount // 100\n",
    "    amount %= 100\n",
    "\n",
    "    n50 = amount // 50\n",
    "    amount %= 50\n",
    "\n",
    "    n10 = amount // 10\n",
    "    amount %= 10  # 여기 남는 금액이 \"잔돈\"\n",
    "\n",
    "    print(f\"500원짜리 {n500}개\")\n",
    "    print(f\"100원짜리 {n100}개\")\n",
    "    print(f\"50원짜리 {n50}개\")\n",
    "    print(f\"10원짜리 {n10}개\")\n",
    "\n",
    "    if amount > 0:\n",
    "        print(f\"잔돈 {amount}원은 동전으로 교환할 수 없습니다.\")"
   ],
   "id": "ee255db708752e76",
   "outputs": [
    {
     "name": "stdout",
     "output_type": "stream",
     "text": [
      "500원짜리 7개\n",
      "100원짜리 0개\n",
      "50원짜리 0개\n",
      "10원짜리 0개\n"
     ]
    }
   ],
   "execution_count": 6
  },
  {
   "metadata": {},
   "cell_type": "markdown",
   "source": "# ch05",
   "id": "fec0b9abfce5242a"
  },
  {
   "metadata": {
    "ExecuteTime": {
     "end_time": "2025-04-25T05:41:24.717743Z",
     "start_time": "2025-04-25T05:41:24.703784Z"
    }
   },
   "cell_type": "code",
   "source": [
    "#환율 변환 처리를 위해 모듈 임포트\n",
    "exchange_rate = 0\n",
    "\n",
    "def set_rate(rate):\n",
    "    global exchange_rate\n",
    "    exchange_rate = rate\n",
    "def get_rate():\n",
    "    return exchange_rate\n",
    "def to_dollar(won):\n",
    "    return won / exchange_rate\n",
    "def to_won(dollar):\n",
    "    return dollar * exchange_rate\n",
    "\n",
    "def main():\n",
    "    print('### 환율 변환 모듈 테스트 ###')\n",
    "    set_rate(1010)\n",
    "    print('오늘의 환율', get_rate())\n",
    "    print('2020원 = ', to_dollar(2020), '달러')\n",
    "    print('2달러 = ', to_won(2), '원')\n",
    "\n",
    "if __name__ == '__main__':\n",
    "    main()"
   ],
   "id": "43fc17d60d72c1ad",
   "outputs": [
    {
     "name": "stdout",
     "output_type": "stream",
     "text": [
      "### 환율 변환 모듈 테스트 ###\n",
      "오늘의 환율 1010\n",
      "2020원 =  2.0 달러\n",
      "2달러 =  2020 원\n"
     ]
    }
   ],
   "execution_count": 7
  },
  {
   "metadata": {},
   "cell_type": "code",
   "outputs": [],
   "execution_count": null,
   "source": [
    "import exchange_currency as eRate\n",
    "\n",
    "# 사용자 입력 기반 실행\n",
    "rate = int(input('$1에 대한 오늘의 환율은? '))\n",
    "eRate.set_rate(rate)\n",
    "\n",
    "dollar = int(input('원화로 변환할 달러화 액수는? '))\n",
    "print(f\"{dollar} 달러는 {eRate.to_won(dollar)} 원입니다\")\n",
    "\n",
    "won = int(input('달러화로 변환할 원화 액수는? '))\n",
    "print(f\"{won} 원은 {eRate.to_dollar(won)} 달러입니다\")"
   ],
   "id": "b4ee1bbdbc7d2ceb"
  },
  {
   "metadata": {
    "ExecuteTime": {
     "end_time": "2025-04-25T07:57:22.429372Z",
     "start_time": "2025-04-25T07:57:22.421751Z"
    }
   },
   "cell_type": "code",
   "source": [
    "#exchange_rate를 전역변수로 사용하지 않는다?\n",
    "def set_rate(rate):  # 더 이상 필요 없음 (전역 저장 안 하니까)\n",
    "    return rate\n",
    "\n",
    "def get_rate(rate):\n",
    "    return rate\n",
    "\n",
    "def to_dollar(won, rate):\n",
    "    return won / rate\n",
    "\n",
    "def to_won(dollar, rate):\n",
    "    return dollar * rate\n",
    "\n",
    "def main():\n",
    "    print('### 환율 변환 모듈 테스트 ###')\n",
    "\n",
    "    rate = set_rate(1010)  # 환율 저장 대신 그냥 변수에 할당\n",
    "\n",
    "    print('오늘의 환율', get_rate(rate))\n",
    "    print('2020원 =', to_dollar(2020, rate), '달러')\n",
    "    print('2달러 =', to_won(2, rate), '원')\n",
    "\n",
    "if __name__ == '__main__':\n",
    "    main()"
   ],
   "id": "8a08149b5069a96c",
   "outputs": [
    {
     "name": "stdout",
     "output_type": "stream",
     "text": [
      "### 환율 변환 모듈 테스트 ###\n",
      "오늘의 환율 1010\n",
      "2020원 = 2.0 달러\n",
      "2달러 = 2020 원\n"
     ]
    }
   ],
   "execution_count": 36
  },
  {
   "metadata": {
    "ExecuteTime": {
     "end_time": "2025-04-25T05:44:21.557121Z",
     "start_time": "2025-04-25T05:44:15.075822Z"
    }
   },
   "cell_type": "code",
   "source": [
    "def get_fixed_price(discount_price, discount_rate):\n",
    "    return discount_price / (1 - discount_rate / 100)\n",
    "\n",
    "# 주 프로그램\n",
    "rate = float(input(\"할인율은? \"))\n",
    "\n",
    "a_price = float(input(\"A상품의 할인된 가격은? \"))\n",
    "b_price = float(input(\"B상품의 할인된 가격은? \"))\n",
    "\n",
    "a_fixed = get_fixed_price(a_price, rate)\n",
    "b_fixed = get_fixed_price(b_price, rate)\n",
    "\n",
    "print(f\"A상품의 정가는 {a_fixed:.2f}원\")\n",
    "print(f\"B상품의 정가는 {b_fixed:.2f}원\")"
   ],
   "id": "2f294851e7a57720",
   "outputs": [
    {
     "name": "stdout",
     "output_type": "stream",
     "text": [
      "A상품의 정가는 63017.91원\n",
      "B상품의 정가는 497.01원\n"
     ]
    }
   ],
   "execution_count": 8
  },
  {
   "metadata": {},
   "cell_type": "markdown",
   "source": "# ch05",
   "id": "6d6f2ba1aa58c8cb"
  },
  {
   "metadata": {
    "ExecuteTime": {
     "end_time": "2025-04-25T06:28:00.775710Z",
     "start_time": "2025-04-25T06:28:00.768268Z"
    }
   },
   "cell_type": "code",
   "source": [
    "# 줄 바꾸기\n",
    "print('\\\"배워 생각하지 않으면 어둡고, \\n 생각하면서 배우지 않으면 위태롭다.\\\" -논어')"
   ],
   "id": "60c19be419eff4c9",
   "outputs": [
    {
     "name": "stdout",
     "output_type": "stream",
     "text": [
      "\"배워 생각하지 않으면 어둡고, \n",
      " 생각하면서 배우지 않으면 위태롭다.\" -논어\n"
     ]
    }
   ],
   "execution_count": 9
  },
  {
   "metadata": {
    "ExecuteTime": {
     "end_time": "2025-04-25T07:57:48.525163Z",
     "start_time": "2025-04-25T07:57:31.596814Z"
    }
   },
   "cell_type": "code",
   "source": [
    "# 문자열 과 정수 를 매개변수로 전달받아 하나의 문자열로 연결해 반환\n",
    "def introduce(name,grade) :\n",
    "    h = grade + 1\n",
    "    n= name[1:]\n",
    "    a = n+ '은(는) 내년에 ' + str(h) + '학년입니다.'\n",
    "    return a\n",
    "\n",
    "name = input('이름? ')\n",
    "grade = int(input('학년? '))\n",
    "\n",
    "print(introduce(name,grade))"
   ],
   "id": "89d96ad5b16ac41f",
   "outputs": [
    {
     "name": "stdout",
     "output_type": "stream",
     "text": [
      "명대은(는) 내년에 4학년입니다.\n"
     ]
    }
   ],
   "execution_count": 37
  },
  {
   "metadata": {
    "ExecuteTime": {
     "end_time": "2025-04-25T06:30:24.161064Z",
     "start_time": "2025-04-25T06:30:24.152700Z"
    }
   },
   "cell_type": "code",
   "source": [
    "# 연속 출력\n",
    "# ----------\n",
    "# #####\n",
    "\n",
    "def rep_char(c,n) :\n",
    "    print(c*n)\n",
    "\n",
    "rep_char('-',10)\n",
    "rep_char('#',5)"
   ],
   "id": "51f7966bc7ce74f",
   "outputs": [
    {
     "name": "stdout",
     "output_type": "stream",
     "text": [
      "----------\n",
      "#####\n"
     ]
    }
   ],
   "execution_count": 10
  },
  {
   "metadata": {
    "ExecuteTime": {
     "end_time": "2025-04-25T06:31:13.519866Z",
     "start_time": "2025-04-25T06:31:07.997166Z"
    }
   },
   "cell_type": "code",
   "source": [
    "# 문자열을 전달받아 박스형태로 출력해주는 함수\n",
    "def draw_line_string(msg):\n",
    "    rep_char('-',len(msg)*2)\n",
    "    print(msg)\n",
    "    rep_char('-',len(msg)*2)\n",
    "\n",
    "def rep_char(c,n) :\n",
    "    print(c*n)\n",
    "\n",
    "msg = input('문자?')\n",
    "draw_line_string(msg)"
   ],
   "id": "9910dd9480503afa",
   "outputs": [
    {
     "name": "stdout",
     "output_type": "stream",
     "text": [
      "--------\n",
      "ㅇㄴㄹㅁ\n",
      "--------\n"
     ]
    }
   ],
   "execution_count": 11
  },
  {
   "metadata": {
    "ExecuteTime": {
     "end_time": "2025-04-25T06:32:20.495039Z",
     "start_time": "2025-04-25T06:32:20.489057Z"
    }
   },
   "cell_type": "code",
   "source": [
    "# 함수에 바로 문자를 넣고 박스형태로 출력\n",
    "def rep_char(c,n) :\n",
    "    print(c*n)\n",
    "\n",
    "def draw_line_string(msg):\n",
    "    nstr = len(msg)\n",
    "    rep_char('-',nstr*2+4)\n",
    "    print(f'{msg}')\n",
    "    rep_char('-',nstr*2+4)\n",
    "\n",
    "draw_line_string('안녕하세요')\n",
    "draw_line_string('안녕')"
   ],
   "id": "29da0f1b8b343a26",
   "outputs": [
    {
     "name": "stdout",
     "output_type": "stream",
     "text": [
      "--------------\n",
      "안녕하세요\n",
      "--------------\n",
      "--------\n",
      "안녕\n",
      "--------\n"
     ]
    }
   ],
   "execution_count": 12
  },
  {
   "metadata": {
    "ExecuteTime": {
     "end_time": "2025-04-25T06:38:02.099502Z",
     "start_time": "2025-04-25T06:37:58.730018Z"
    }
   },
   "cell_type": "code",
   "source": [
    "#\n",
    "def rep_char(c,n) :\n",
    "    print(c*n)\n",
    "\n",
    "def draw_line_string(msg):\n",
    "    nstr = len(msg1) if (len(msg1) > len(msg2)) else len(msg2)\n",
    "    print('input his/her name : ',msg)\n",
    "    rep_char('-',nstr)\n",
    "    print(f'Hello, {msg}')\n",
    "    print(msg2)\n",
    "    rep_char('-',nstr)\n",
    "\n",
    "\n",
    "msg1 = input('input his/her name : ')\n",
    "msg2 = 'welcome to Seoul'\n",
    "draw_line_string(msg1)\n"
   ],
   "id": "6f1c8d3bb70c79c9",
   "outputs": [
    {
     "name": "stdout",
     "output_type": "stream",
     "text": [
      "input his/her name :  seyeon\n",
      "----------------\n",
      "Hello, seyeon\n",
      "welcome to Seoul\n",
      "----------------\n"
     ]
    }
   ],
   "execution_count": 15
  },
  {
   "metadata": {
    "ExecuteTime": {
     "end_time": "2025-04-25T06:35:11.283682Z",
     "start_time": "2025-04-25T06:34:59.039318Z"
    }
   },
   "cell_type": "code",
   "source": [
    "def rep_char(c, n):\n",
    "    print(c * n)\n",
    "\n",
    "def draw_line_string(msg1, msg2):\n",
    "    nstr = len(msg1) if (len(msg1) > len(msg2)) else len(msg2)\n",
    "    print('input his/her name :', msg1)\n",
    "    rep_char('-', nstr)\n",
    "    print(f'Hello, {msg1}')\n",
    "    print('Welcome to Seoul')\n",
    "    rep_char('-', nstr)\n",
    "\n",
    "# 사용자 입력\n",
    "m1 = input('input his/her name1 : ')\n",
    "m2 = input('input his/her name2 : ')\n",
    "\n",
    "# 두 이름을 함수에 전달\n",
    "draw_line_string(m1, m2)"
   ],
   "id": "3153523de267ab48",
   "outputs": [
    {
     "name": "stdout",
     "output_type": "stream",
     "text": [
      "input his/her name : seyeon\n",
      "----------\n",
      "Hello, seyeon\n",
      "Welcome to Seoul\n",
      "----------\n"
     ]
    }
   ],
   "execution_count": 14
  },
  {
   "metadata": {},
   "cell_type": "markdown",
   "source": "# ch07",
   "id": "e68174c70a69fcb0"
  },
  {
   "metadata": {
    "ExecuteTime": {
     "end_time": "2025-04-25T07:58:13.692240Z",
     "start_time": "2025-04-25T07:58:08.254448Z"
    }
   },
   "cell_type": "code",
   "source": [
    "# 두 수의 차 구하기\n",
    "def difference(x, y):\n",
    "    return abs(x - y)\n",
    "\n",
    "# 주 프로그램\n",
    "n1 = int(input(\"첫번째 수? \"))\n",
    "n2 = int(input(\"두번째 수? \"))\n",
    "\n",
    "result = difference(n1, n2)\n",
    "\n",
    "print(f\"{n1}와(과) {n2}의 차는 {result} 입니다.\")"
   ],
   "id": "ca375dd69ef1bdc7",
   "outputs": [
    {
     "name": "stdout",
     "output_type": "stream",
     "text": [
      "3와(과) 7의 차는 4 입니다.\n"
     ]
    }
   ],
   "execution_count": 38
  },
  {
   "metadata": {
    "ExecuteTime": {
     "end_time": "2025-04-25T07:58:21.959268Z",
     "start_time": "2025-04-25T07:58:17.170554Z"
    }
   },
   "cell_type": "code",
   "source": [
    "# 월 말 날짜 끝날 며칠\n",
    "# 사용자 정의 함수부\n",
    "def is_leap_year(year):\n",
    "    return (year % 4 == 0 and year % 100 != 0) or (year % 400 == 0)\n",
    "\n",
    "def month_days(y, m):\n",
    "    if m ==4 or m==6 or m==9 or m==11 :\n",
    "        return 30\n",
    "    elif m ==2 :\n",
    "        if is_leap_year(y):\n",
    "            return 29\n",
    "        else:\n",
    "            return 28\n",
    "    else:\n",
    "        return 31\n",
    "\n",
    "\n",
    "    # 2월이고 윤년이라면 29일\n",
    "    if month == 2 and is_leap_year(year):\n",
    "        return 29\n",
    "    return days_in_month[month - 1]\n",
    "\n",
    "# 주 프로그램 부분\n",
    "year = int(input(\"연도? \"))\n",
    "month = int(input(\"월? \"))\n",
    "\n",
    "days = month_days(year, month)\n",
    "print(f\"{year}년 {month}월은 {days}일까지 있습니다.\")\n"
   ],
   "id": "e9f7eba05aade031",
   "outputs": [
    {
     "name": "stdout",
     "output_type": "stream",
     "text": [
      "2020년 11월은 30일까지 있습니다.\n"
     ]
    }
   ],
   "execution_count": 39
  },
  {
   "metadata": {
    "ExecuteTime": {
     "end_time": "2025-04-25T07:58:32.174553Z",
     "start_time": "2025-04-25T07:58:25.393524Z"
    }
   },
   "cell_type": "code",
   "source": [
    "# 남 여 평균 키 비교\n",
    "def check_height():\n",
    "    male_avg = 175.5\n",
    "    female_avg = 163.2\n",
    "\n",
    "    gender = input(\"성별? \")\n",
    "    height = float(input(\"키? \"))\n",
    "\n",
    "    if gender == \"여자\" or gender == \"여\":\n",
    "        avg = female_avg\n",
    "        label = \"여성\"\n",
    "    elif gender == \"남자\" or gender == \"남\":\n",
    "        avg = male_avg\n",
    "        label = \"남성\"\n",
    "    else:\n",
    "        print(\"성별 입력이 올바르지 않습니다.\")\n",
    "        return\n",
    "\n",
    "    if height > avg:\n",
    "        print(f\"당신은 {label} 평균 키보다 큽니다.\")\n",
    "    elif height == avg:\n",
    "        print(f\"당신은 {label} 평균 키와 같습니다.\")\n",
    "    else:\n",
    "        print(f\"당신은 {label} 평균 키보다 작습니다.\")\n",
    "\n",
    "# 실행\n",
    "check_height()"
   ],
   "id": "c436d82a14037030",
   "outputs": [
    {
     "name": "stdout",
     "output_type": "stream",
     "text": [
      "당신은 여성 평균 키보다 큽니다.\n"
     ]
    }
   ],
   "execution_count": 40
  },
  {
   "metadata": {
    "ExecuteTime": {
     "end_time": "2025-04-25T07:58:41.028169Z",
     "start_time": "2025-04-25T07:58:35.343784Z"
    }
   },
   "cell_type": "code",
   "source": [
    "# 나이 성인 여부\n",
    "def input_age(age):\n",
    "    if age >=0 and age <=120 :\n",
    "        return age\n",
    "    else :\n",
    "        return -1\n",
    "\n",
    "def is_adult(age):\n",
    "    if age >= 19 :\n",
    "        return True\n",
    "    else:\n",
    "        return False\n",
    "\n",
    "age = int(input('나이? '))\n",
    "if age == -1:\n",
    "    print(\"나이 입력 오류입니다.\")\n",
    "else:\n",
    "    if is_adult(age):\n",
    "        print(\"성인입니다.\")\n",
    "    else:\n",
    "        print(\"성인이 아닙니다.\")"
   ],
   "id": "e37994bfea95f7b1",
   "outputs": [
    {
     "name": "stdout",
     "output_type": "stream",
     "text": [
      "성인이 아닙니다.\n"
     ]
    }
   ],
   "execution_count": 41
  },
  {
   "metadata": {
    "ExecuteTime": {
     "end_time": "2025-04-25T07:17:33.002070Z",
     "start_time": "2025-04-25T07:17:31.083720Z"
    }
   },
   "cell_type": "code",
   "source": [
    "def find_char_type(ch):\n",
    "    if '0' <= ch <= '9':\n",
    "        return \"숫자 문자\"\n",
    "    elif 'A' <= ch <= 'Z' or 'a' <= ch <= 'z':\n",
    "        return \"알파벳 문자\"\n",
    "    elif ch == ' ':\n",
    "        return \"공백 문자\"\n",
    "    else:\n",
    "        return \"기타 문자\"\n",
    "\n",
    "# 주 프로그램 부분\n",
    "ch = input(\"문자 1개를 입력하세요: \")\n",
    "\n",
    "if len(ch) != 1:\n",
    "    print(\"한 개의 문자만 입력하세요.\")\n",
    "else:\n",
    "    char_type = find_char_type(ch)\n",
    "    print(f\"입력한 문자는 {char_type}입니다.\")\n"
   ],
   "id": "83b748c055dd8025",
   "outputs": [
    {
     "name": "stdout",
     "output_type": "stream",
     "text": [
      "입력한 문자는 알파벳 문자입니다.\n"
     ]
    }
   ],
   "execution_count": 17
  },
  {
   "metadata": {},
   "cell_type": "markdown",
   "source": "# ch08",
   "id": "a81f805211bc1d61"
  },
  {
   "metadata": {
    "ExecuteTime": {
     "end_time": "2025-04-25T07:41:24.051616Z",
     "start_time": "2025-04-25T07:41:16.123659Z"
    }
   },
   "cell_type": "code",
   "source": [
    "# 유효한 나이 입력 받기 계속\n",
    "def input_age(prompt):\n",
    "    while True:\n",
    "        n = int(input(prompt))\n",
    "        if 0 <= n <= 120:\n",
    "            return n\n",
    "        else:\n",
    "            print(\"나이를 0에서 120 사이로 입력하세요.\")\n",
    "\n",
    "def is_adult(age):\n",
    "    if age >= 19:\n",
    "        return True\n",
    "    else:\n",
    "        return False\n",
    "\n",
    "# 유효한 나이 입력받기\n",
    "age = input_age('나이? ')\n",
    "\n",
    "# 성인 판별\n",
    "if is_adult(age):\n",
    "    print(\"성인입니다.\")\n",
    "else:\n",
    "    print(\"성인이 아닙니다.\")"
   ],
   "id": "ca4a70d9e95947e0",
   "outputs": [
    {
     "name": "stdout",
     "output_type": "stream",
     "text": [
      "나이를 0에서 120 사이로 입력하세요.\n",
      "나이를 0에서 120 사이로 입력하세요.\n",
      "성인입니다.\n"
     ]
    }
   ],
   "execution_count": 20
  },
  {
   "metadata": {
    "ExecuteTime": {
     "end_time": "2025-04-25T07:58:52.945226Z",
     "start_time": "2025-04-25T07:58:49.617874Z"
    }
   },
   "cell_type": "code",
   "source": [
    "# 세 자리수 이하의 10진 정수 하나를 입력받아\n",
    "# 다음과 같이 각 자릿수를 한글로 읽어주는 프로그램 작성\n",
    "# 임의의 한 자리 10진 정수에 대한 한글 문자열을 화면상에 출력하는\n",
    "# 함수 read_single_digit() 작성\n",
    "# ▪ 임의의 세 자리 10진 정수에 대한 한글 문자열 출력을\n",
    "# read_single_digit() 호출을 통해 처리하는 함수 read_number() 작성\n",
    "# ▪ 주 프로그램부에서는 위 두 함수를 이용해 입출력 처리 담당\n",
    "\n",
    "# 함수부\n",
    "def read_single_digit(num) :\n",
    "    if num == 0 :\n",
    "        print(\"영\", end=\" \")\n",
    "    elif num == 1 :\n",
    "        print(\"일\", end=\" \")\n",
    "    elif num == 2 :\n",
    "        print(\"이\", end=\" \")\n",
    "    elif num == 3 :\n",
    "        print(\"삼\", end=\" \")\n",
    "    elif num == 4 :\n",
    "        print(\"사\", end=\" \")\n",
    "    elif num == 5 :\n",
    "        print(\"오\", end=\" \")\n",
    "    elif num == 6 :\n",
    "        print(\"육\", end=\" \")\n",
    "    elif num == 7 :\n",
    "        print(\"칠\", end=\" \")\n",
    "    elif num == 8 :\n",
    "        print(\"팔\", end=\" \")\n",
    "    else :\n",
    "        print(\"구\", end=\" \")\n",
    "\n",
    "def read_number(num):\n",
    "    if num < 10:\n",
    "        print(read_single_digit(num))\n",
    "    elif num < 100:\n",
    "        tens = num // 10\n",
    "        ones = num % 10\n",
    "        read_single_digit(tens)\n",
    "        read_single_digit(ones)\n",
    "    else:\n",
    "        hundreds = num // 100\n",
    "        tens = (num % 100) // 10\n",
    "        ones = num % 10\n",
    "        read_single_digit(hundreds)\n",
    "        read_single_digit(tens)\n",
    "        read_single_digit(ones)\n",
    "\n",
    "# 주프로그램부\n",
    "num = int(input(\"세 자리 정수 입력 : \"))\n",
    "if num <= 999 :\n",
    "    read_number(num)\n",
    "else :\n",
    "    print(\"3자리수만 입력해주세요\")\n"
   ],
   "id": "ca2adf14c43cef01",
   "outputs": [
    {
     "name": "stdout",
     "output_type": "stream",
     "text": [
      "구 팔 칠 "
     ]
    }
   ],
   "execution_count": 42
  },
  {
   "metadata": {
    "ExecuteTime": {
     "end_time": "2025-04-25T07:46:05.329250Z",
     "start_time": "2025-04-25T07:46:05.319983Z"
    }
   },
   "cell_type": "code",
   "source": [
    "def find_odd(start, end, multiple):\n",
    "    count = 0\n",
    "    for n in range(start, end + 1):\n",
    "        if n % 2 == 1 and n % multiple != 0:\n",
    "            print(n, end='\\t')\n",
    "            count += 1\n",
    "            if count % 10 == 0:\n",
    "                print()\n",
    "    if count % 10 != 0:\n",
    "        print()  # 마지막 줄 개행 처리\n",
    "\n",
    "# 주 프로그램\n",
    "start = int(input(\"시작값을 입력하세요: \"))\n",
    "end = int(input(\"끝값을 입력하세요: \"))\n",
    "exclude = int(input(\"제외할 배수를 입력하세요: \"))\n",
    "\n",
    "find_odd(start, end, exclude)"
   ],
   "id": "860358a114f8971e",
   "outputs": [
    {
     "name": "stdout",
     "output_type": "stream",
     "text": [
      "1\t3\t7\t9\t11\t13\t17\t19\t21\t23\t\n",
      "27\t29\t31\t33\t37\t39\t41\t43\t47\t49\t\n",
      "51\t53\t57\t59\t61\t63\t67\t69\t71\t73\t\n",
      "77\t79\t81\t83\t87\t89\t91\t93\t97\t99\t\n",
      "\n"
     ]
    }
   ],
   "execution_count": 23
  },
  {
   "metadata": {
    "ExecuteTime": {
     "end_time": "2025-04-25T07:48:39.204928Z",
     "start_time": "2025-04-25T07:48:33.981488Z"
    }
   },
   "cell_type": "code",
   "source": [
    "def find_odd(start, end, multiple):\n",
    "    count = 0\n",
    "    for n in range(start, end + 1):\n",
    "        if n % 2 == 1 and n % multiple != 0:\n",
    "            print(n, end='\\t')\n",
    "            count += 1\n",
    "            if count % 5 == 0:\n",
    "                print()\n",
    "    if count % 5 != 0:\n",
    "        print()  # 마지막 줄 개행 처리\n",
    "\n",
    "# 주 프로그램\n",
    "start = int(input(\"시작값을 입력하세요: \"))\n",
    "end = int(input(\"끝값을 입력하세요: \"))\n",
    "exclude = int(input(\"제외할 배수를 입력하세요: \"))\n",
    "\n",
    "find_odd(start, end, exclude)"
   ],
   "id": "c9827cbbbd7f0c7c",
   "outputs": [
    {
     "name": "stdout",
     "output_type": "stream",
     "text": [
      "7\t9\t11\t13\t17\t\n",
      "19\t21\t23\t27\t29\t\n",
      "31\t33\t37\t39\t41\t\n",
      "43\t47\t49\t51\t53\t\n",
      "57\t59\t61\t63\t67\t\n",
      "69\t71\t73\t77\t79\t\n",
      "81\t83\t87\t89\t91\t\n",
      "93\t97\t99\t\n"
     ]
    }
   ],
   "execution_count": 26
  },
  {
   "metadata": {
    "ExecuteTime": {
     "end_time": "2025-04-25T07:51:40.432593Z",
     "start_time": "2025-04-25T07:51:28.027722Z"
    }
   },
   "cell_type": "code",
   "source": [
    "def get_year(year):\n",
    "    if year % 4 == 0 and year % 100 != 0 or year % 400 == 0:\n",
    "        return True\n",
    "    else:\n",
    "        return False\n",
    "\n",
    "while True:\n",
    "    y = int(input(\"윤년 여부를 확인할 연도는? \"))\n",
    "\n",
    "    # 윤년 여부 판별 및 출력\n",
    "    print(f'{y}년은 ', end='')\n",
    "    if get_year(y):\n",
    "        print('윤년입니다.')\n",
    "    else:\n",
    "        print('평년입니다.')\n",
    "\n",
    "    rep = input(\"다른 연도도 확인하시겠습니까? (Y/N) \")\n",
    "    if rep != 'y' and rep != 'Y':\n",
    "        break  # Y/y가 아니면 종료\n",
    "    print()  # 줄 바꿈"
   ],
   "id": "ec5e3cd372615e38",
   "outputs": [
    {
     "name": "stdout",
     "output_type": "stream",
     "text": [
      "2000년은 윤년입니다.\n",
      "\n",
      "200년은 평년입니다.\n"
     ]
    }
   ],
   "execution_count": 28
  },
  {
   "metadata": {
    "ExecuteTime": {
     "end_time": "2025-04-25T07:59:03.782655Z",
     "start_time": "2025-04-25T07:59:00.703514Z"
    }
   },
   "cell_type": "code",
   "source": [
    "def display_triangle(h):\n",
    "    for i in range(1, h + 1):\n",
    "        for j in range(1, i + 1):\n",
    "            print(j, end=' ')\n",
    "        print()\n",
    "\n",
    "height = int(input(\"높이?\"))\n",
    "display_triangle(height)"
   ],
   "id": "b4b2bd2ebb55282f",
   "outputs": [
    {
     "name": "stdout",
     "output_type": "stream",
     "text": [
      "1 \n",
      "1 2 \n",
      "1 2 3 \n",
      "1 2 3 4 \n",
      "1 2 3 4 5 \n",
      "1 2 3 4 5 6 \n",
      "1 2 3 4 5 6 7 \n"
     ]
    }
   ],
   "execution_count": 43
  },
  {
   "metadata": {
    "ExecuteTime": {
     "end_time": "2025-04-25T08:00:02.555607Z",
     "start_time": "2025-04-25T08:00:00.791781Z"
    }
   },
   "cell_type": "code",
   "source": [
    "def display_startriangle(h):\n",
    "    for i in range(1, h + 1):\n",
    "        print('  ' * (h - i), end='')  # 왼쪽에 공백 추가\n",
    "        for j in range(1, i + 1):\n",
    "            print(\"*\", end=' ')\n",
    "        print()\n",
    "\n",
    "h = int(input(\"높이?\"))\n",
    "display_startriangle(h)"
   ],
   "id": "af434b15f4d22863",
   "outputs": [
    {
     "name": "stdout",
     "output_type": "stream",
     "text": [
      "            * \n",
      "          * * \n",
      "        * * * \n",
      "      * * * * \n",
      "    * * * * * \n",
      "  * * * * * * \n",
      "* * * * * * * \n"
     ]
    }
   ],
   "execution_count": 47
  },
  {
   "metadata": {},
   "cell_type": "markdown",
   "source": "# 그냥",
   "id": "8521a150c84467ed"
  },
  {
   "metadata": {
    "ExecuteTime": {
     "end_time": "2025-04-25T08:09:54.859657Z",
     "start_time": "2025-04-25T08:09:54.851077Z"
    }
   },
   "cell_type": "code",
   "source": [
    "#동전을 10번 던졌을때 어느면이 나오는가\n",
    "import random\n",
    "\n",
    "def toss_coin():\n",
    "    return \"앞면\" if random.randint(0, 1) == 0 else \"뒷면\"\n",
    "\n",
    "# 주 프로그램\n",
    "print(\"동전을 10번 던진 결과:\")\n",
    "for i in range(10):\n",
    "    result = toss_coin()\n",
    "    print(f\"{i+1}번째: {result}\")"
   ],
   "id": "4190a30786a67bbd",
   "outputs": [
    {
     "name": "stdout",
     "output_type": "stream",
     "text": [
      "동전을 10번 던진 결과:\n",
      "1번째: 뒷면\n",
      "2번째: 앞면\n",
      "3번째: 앞면\n",
      "4번째: 앞면\n",
      "5번째: 뒷면\n",
      "6번째: 앞면\n",
      "7번째: 앞면\n",
      "8번째: 앞면\n",
      "9번째: 뒷면\n",
      "10번째: 앞면\n"
     ]
    }
   ],
   "execution_count": 50
  },
  {
   "metadata": {
    "ExecuteTime": {
     "end_time": "2025-04-25T08:09:50.631593Z",
     "start_time": "2025-04-25T08:09:42.550974Z"
    }
   },
   "cell_type": "code",
   "source": [
    "#4-25\n",
    "# 사용자 정의 함수부\n",
    "def show_change(amount) :\n",
    "    print('잔돈:', amount, '원')\n",
    "\n",
    "    n5000 = amount // 5000   # 잔돈 중 5000원권 지불 개수\n",
    "    amount %= 5000            # 5000원권을 지불하고 남은 잔돈\n",
    "\n",
    "    n1000 = amount // 1000   # 잔돈 중 1000원권 지불 개수\n",
    "\n",
    "    print('> 5000원권', n5000, '장')\n",
    "    print('> 1000원권', n1000, '장')\n",
    "\n",
    "# 주 프로그램\n",
    "# total_cost = 고객에게 요청할 총구매금액을 입력받음\n",
    "total_cost = int(input('구매한 물건의 총구매 금액은? '))\n",
    "\n",
    "# payment = 고객으로부터 지불받은 금액을 입력받음\n",
    "payment = int(input('고객으로부터 지불받은 금액은? '))\n",
    "\n",
    "# change = 고객에게 지불해야할 잔돈을 계산\n",
    "change = payment - total_cost\n",
    "\n",
    "# 잔돈 change를 가장 효율적으로 지불할 수 있는 지폐수 출력\n",
    "show_change(change)"
   ],
   "id": "bf2867b86653b938",
   "outputs": [
    {
     "name": "stdout",
     "output_type": "stream",
     "text": [
      "잔돈: -29197 원\n",
      "> 5000원권 -6 장\n",
      "> 1000원권 0 장\n"
     ]
    }
   ],
   "execution_count": 49
  },
  {
   "metadata": {
    "ExecuteTime": {
     "end_time": "2025-04-25T08:09:38.215188Z",
     "start_time": "2025-04-25T08:09:38.202570Z"
    }
   },
   "cell_type": "code",
   "source": [
    "# 구구단 가로로 출력\n",
    "def display_multiplication_table():\n",
    "    for n in range(1, 10):\n",
    "        for i in range(2, 6):\n",
    "            print(f\"{i} x {n} = {n * i:2d}\", end=\"\\t\")\n",
    "        print()\n",
    "    print()\n",
    "    for n in range(1, 10):\n",
    "        for i in range(6, 10):\n",
    "            print(f\"{i} x {n} = {n * i:2d}\", end=\"\\t\")\n",
    "        print()\n",
    "\n",
    "\n",
    "\n",
    "display_multiplication_table()"
   ],
   "id": "f7d676b9c583be69",
   "outputs": [
    {
     "name": "stdout",
     "output_type": "stream",
     "text": [
      "2 x 1 =  2\t3 x 1 =  3\t4 x 1 =  4\t5 x 1 =  5\t\n",
      "2 x 2 =  4\t3 x 2 =  6\t4 x 2 =  8\t5 x 2 = 10\t\n",
      "2 x 3 =  6\t3 x 3 =  9\t4 x 3 = 12\t5 x 3 = 15\t\n",
      "2 x 4 =  8\t3 x 4 = 12\t4 x 4 = 16\t5 x 4 = 20\t\n",
      "2 x 5 = 10\t3 x 5 = 15\t4 x 5 = 20\t5 x 5 = 25\t\n",
      "2 x 6 = 12\t3 x 6 = 18\t4 x 6 = 24\t5 x 6 = 30\t\n",
      "2 x 7 = 14\t3 x 7 = 21\t4 x 7 = 28\t5 x 7 = 35\t\n",
      "2 x 8 = 16\t3 x 8 = 24\t4 x 8 = 32\t5 x 8 = 40\t\n",
      "2 x 9 = 18\t3 x 9 = 27\t4 x 9 = 36\t5 x 9 = 45\t\n",
      "\n",
      "6 x 1 =  6\t7 x 1 =  7\t8 x 1 =  8\t9 x 1 =  9\t\n",
      "6 x 2 = 12\t7 x 2 = 14\t8 x 2 = 16\t9 x 2 = 18\t\n",
      "6 x 3 = 18\t7 x 3 = 21\t8 x 3 = 24\t9 x 3 = 27\t\n",
      "6 x 4 = 24\t7 x 4 = 28\t8 x 4 = 32\t9 x 4 = 36\t\n",
      "6 x 5 = 30\t7 x 5 = 35\t8 x 5 = 40\t9 x 5 = 45\t\n",
      "6 x 6 = 36\t7 x 6 = 42\t8 x 6 = 48\t9 x 6 = 54\t\n",
      "6 x 7 = 42\t7 x 7 = 49\t8 x 7 = 56\t9 x 7 = 63\t\n",
      "6 x 8 = 48\t7 x 8 = 56\t8 x 8 = 64\t9 x 8 = 72\t\n",
      "6 x 9 = 54\t7 x 9 = 63\t8 x 9 = 72\t9 x 9 = 81\t\n"
     ]
    }
   ],
   "execution_count": 48
  }
 ],
 "metadata": {
  "kernelspec": {
   "display_name": "Python 3",
   "language": "python",
   "name": "python3"
  },
  "language_info": {
   "codemirror_mode": {
    "name": "ipython",
    "version": 2
   },
   "file_extension": ".py",
   "mimetype": "text/x-python",
   "name": "python",
   "nbconvert_exporter": "python",
   "pygments_lexer": "ipython2",
   "version": "2.7.6"
  }
 },
 "nbformat": 4,
 "nbformat_minor": 5
}
