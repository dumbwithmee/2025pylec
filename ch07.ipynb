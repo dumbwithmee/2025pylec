{
 "cells": [
  {
   "cell_type": "code",
   "id": "initial_id",
   "metadata": {
    "collapsed": true,
    "ExecuteTime": {
     "end_time": "2025-04-11T06:20:38.760132Z",
     "start_time": "2025-04-11T06:20:35.433483Z"
    }
   },
   "source": [
    "n1 = int(input('첫 번재 정수는?'))\n",
    "n2 = int(input('두 번재 정수는?'))\n",
    "\n",
    "print(f'{n1}은/는 {n2} 보다 큽니까? {n1 > n2}')\n",
    "print(f'{n1}은/는 {n2} 보다 크거나 혹은 같습니까? {n1 > n2}')"
   ],
   "outputs": [
    {
     "name": "stdout",
     "output_type": "stream",
     "text": [
      "1은/는 3 보다 큽니까? False\n"
     ]
    }
   ],
   "execution_count": 2
  },
  {
   "metadata": {
    "ExecuteTime": {
     "end_time": "2025-04-11T06:34:38.020805Z",
     "start_time": "2025-04-11T06:34:34.802975Z"
    }
   },
   "cell_type": "code",
   "source": [
    "age = int(input('당신의 나이는?'))\n",
    "\n",
    "res = age >=0 and age <=120\n",
    "print(f'{age}은(는) 유효한 나이인가? {res}')\n",
    "\n",
    "res = age < 0 or age >120\n",
    "print(f'{age}은/는 유효한 나이가 아닌가? {res}')\n",
    "print(f'{age}은/는 유효한 나이인가? {not res}')\n",
    "\n",
    "# 1000은(는) 유효한 나이인가? False\n",
    "# 1000은/는 유효한 나이가 아닌가? True\n",
    "# 1000은/는 유효한 나이인가? False"
   ],
   "id": "542a3b90bcb7aa81",
   "outputs": [
    {
     "name": "stdout",
     "output_type": "stream",
     "text": [
      "1000은(는) 유효한 나이인가? False\n",
      "1000은/는 유효한 나이가 아닌가? True\n",
      "1000은/는 유효한 나이인가? False\n"
     ]
    }
   ],
   "execution_count": 4
  },
  {
   "metadata": {
    "ExecuteTime": {
     "end_time": "2025-04-25T06:43:02.259996Z",
     "start_time": "2025-04-25T06:42:56.834730Z"
    }
   },
   "cell_type": "code",
   "source": [
    "n1 = int(input('첫 번째 정수는?'))\n",
    "n2 = int(input('두 번째 정수는?'))\n",
    "\n",
    "if n1 > n2 : print(f'{n1} 은/는 {n2} 보다 크다')\n",
    "\n",
    "if n1 > n2 :\n",
    "    print(f'{n1} 은/는 {n2} 보다 크다')\n",
    "\n",
    "if n1 > n2 :\n",
    "    print(f'{n1} 은/는 {n2} 보다', end= (' '))\n",
    "else :\n",
    "    print(f'{n1} 은/는 {n2} 보다 크지 않다')\n",
    "\n",
    "# if n1 <= n2 :\n",
    "#     print(f'{n1} 은/는 {n2} 보다 크지 않다')\n",
    "\n",
    "print('끝')\n",
    "\n",
    "# 35 은/는 36 보다 크지 않다\n",
    "# 끝"
   ],
   "id": "6cc081d264bccebd",
   "outputs": [
    {
     "name": "stdout",
     "output_type": "stream",
     "text": [
      "35 은/는 36 보다 크지 않다\n",
      "끝\n"
     ]
    }
   ],
   "execution_count": 1
  },
  {
   "metadata": {
    "ExecuteTime": {
     "end_time": "2025-04-11T07:11:08.791943Z",
     "start_time": "2025-04-11T07:11:07.332098Z"
    }
   },
   "cell_type": "code",
   "source": [
    "num = int(input('정수를 입력하세요 : '))\n",
    "\n",
    "if num %2 == 0 :\n",
    "    print(f'{num}은(는) 짝수입니다.')\n",
    "else :\n",
    "    print(f'{num}은(는) 홀수입니다.')"
   ],
   "id": "893f53bb9cc5d224",
   "outputs": [
    {
     "name": "stdout",
     "output_type": "stream",
     "text": [
      "333은(는) 홀수입니다.\n"
     ]
    }
   ],
   "execution_count": 12
  },
  {
   "metadata": {
    "ExecuteTime": {
     "end_time": "2025-04-11T07:15:35.191529Z",
     "start_time": "2025-04-11T07:15:33.089581Z"
    }
   },
   "cell_type": "code",
   "source": [
    "num = int(input('정수를 입력하세요 : '))\n",
    "\n",
    "def is_even_number(n) :\n",
    "    if n % 2 == 0 :\n",
    "        return True\n",
    "    else :\n",
    "        return False\n",
    "\n",
    "print(f'{num}은(는)', end =\"\")\n",
    "if is_even_number(num):\n",
    "    print('짝수')\n",
    "else :\n",
    "    print('홀수')"
   ],
   "id": "6c3650e4b77f1a2b",
   "outputs": [
    {
     "name": "stdout",
     "output_type": "stream",
     "text": [
      "33은(는)홀수\n"
     ]
    }
   ],
   "execution_count": 14
  },
  {
   "metadata": {
    "ExecuteTime": {
     "end_time": "2025-04-25T06:46:31.581567Z",
     "start_time": "2025-04-25T06:46:28.923212Z"
    }
   },
   "cell_type": "code",
   "source": [
    "def is_even_number(n) :\n",
    "    if num ==0 :\n",
    "        print('0', end='')\n",
    "    else :\n",
    "        if num % 2 == 0 :\n",
    "            print('짝수', end='')\n",
    "        else :\n",
    "            print('홀수', end='')\n",
    "    print('입니다')\n",
    "\n",
    "num = int(input('정수를 입력하세요 : '))\n",
    "is_even_number(num)"
   ],
   "id": "cff93923613c67a9",
   "outputs": [
    {
     "name": "stdout",
     "output_type": "stream",
     "text": [
      "홀수입니다\n"
     ]
    }
   ],
   "execution_count": 2
  },
  {
   "metadata": {},
   "cell_type": "code",
   "outputs": [],
   "execution_count": null,
   "source": [
    "# num = 정수 하나를 입력받음\n",
    "num = int(input('정수를 입력하세요: '))\n",
    "\n",
    "if num == 0 :                  # if num이 0이면 :\n",
    "    print('0', end='')            # 0이라 출력\n",
    "else :                         # else :\n",
    "    if num > 0 :                   # if num이 양수이면 :\n",
    "        print('양수', end='')           # 양수라 출력\n",
    "    else :                         # else :\n",
    "        print('음수', end='')           # 양수라 출력\n",
    "print('입니다.')"
   ],
   "id": "c2db5186ad9755ff"
  },
  {
   "metadata": {
    "ExecuteTime": {
     "end_time": "2025-04-11T07:27:43.172062Z",
     "start_time": "2025-04-11T07:27:40.552450Z"
    }
   },
   "cell_type": "code",
   "source": [
    "def get_grade(score):\n",
    "    if score >= 90 :\n",
    "        return 'A'\n",
    "    elif score >= 80 :\n",
    "        return 'B'\n",
    "    elif score >= 70 :\n",
    "        return 'C'\n",
    "    elif score >= 60 :\n",
    "        return 'D'\n",
    "    else :\n",
    "        return 'F'\n",
    "\n",
    "score = int(input('점수는? '))\n",
    "grade = get_grade(score)\n",
    "print(f'{score}점이므로 학점은  {grade}입니다.')"
   ],
   "id": "4f567f133a3b3f41",
   "outputs": [
    {
     "name": "stdout",
     "output_type": "stream",
     "text": [
      "77점이므로 학점은  C입니다.\n"
     ]
    }
   ],
   "execution_count": 20
  },
  {
   "metadata": {
    "ExecuteTime": {
     "end_time": "2025-04-25T06:50:59.368376Z",
     "start_time": "2025-04-25T06:50:56.365701Z"
    }
   },
   "cell_type": "code",
   "source": [
    "# 윤년\n",
    "#사용자 정의 함수부\n",
    "def get_year(year):\n",
    "    if year % 4 == 0 and year % 100 != 0 or year % 400 == 0 :\n",
    "        return True\n",
    "    else :\n",
    "        return False\n",
    "\n",
    "#주프로그램부\n",
    "year = int(input(\"윤년 여부를 확인할 연도는? \"))\n",
    "print(f'{year}년은 ', end='')\n",
    "if get_year(year) == True :\n",
    "    print('윤년입니다.')\n",
    "else:\n",
    "    print('평년입니다.')"
   ],
   "id": "b4370e69400a7eed",
   "outputs": [
    {
     "name": "stdout",
     "output_type": "stream",
     "text": [
      "2000년은 윤년입니다.\n"
     ]
    }
   ],
   "execution_count": 3
  }
 ],
 "metadata": {
  "kernelspec": {
   "display_name": "Python 3",
   "language": "python",
   "name": "python3"
  },
  "language_info": {
   "codemirror_mode": {
    "name": "ipython",
    "version": 2
   },
   "file_extension": ".py",
   "mimetype": "text/x-python",
   "name": "python",
   "nbconvert_exporter": "python",
   "pygments_lexer": "ipython2",
   "version": "2.7.6"
  }
 },
 "nbformat": 4,
 "nbformat_minor": 5
}
