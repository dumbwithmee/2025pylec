{
 "cells": [
  {
   "cell_type": "code",
   "id": "initial_id",
   "metadata": {
    "collapsed": true,
    "ExecuteTime": {
     "end_time": "2025-04-18T06:22:31.382941Z",
     "start_time": "2025-04-18T06:22:28.556019Z"
    }
   },
   "source": "",
   "outputs": [
    {
     "name": "stdout",
     "output_type": "stream",
     "text": [
      "문이 열렸습니다.\n"
     ]
    }
   ],
   "execution_count": 2
  },
  {
   "metadata": {},
   "cell_type": "markdown",
   "source": "#while문",
   "id": "f2f2d5600105e457"
  },
  {
   "metadata": {
    "ExecuteTime": {
     "end_time": "2025-04-18T06:26:19.473846Z",
     "start_time": "2025-04-18T06:26:13.591175Z"
    }
   },
   "cell_type": "code",
   "source": [
    "from xml.sax.saxutils import prepare_input_source\n",
    "\n",
    "from PIL.Image import radial_gradient\n",
    "\n",
    "pwd =input('number?')\n",
    "\n",
    "while pwd != '1111' :\n",
    "    pwd = input('number?')\n",
    "print('어서오세요...')"
   ],
   "id": "35346d7f7cfc5d75",
   "outputs": [
    {
     "name": "stdout",
     "output_type": "stream",
     "text": [
      "어서오세요...\n"
     ]
    }
   ],
   "execution_count": 5
  },
  {
   "metadata": {},
   "cell_type": "markdown",
   "source": [
    "중복 구문을 줄이자\n",
    "주어진 조건이 만족되는 한 반복하려 할 때"
   ],
   "id": "6e899b59cd52695f"
  },
  {
   "metadata": {
    "ExecuteTime": {
     "end_time": "2025-04-18T06:31:03.800100Z",
     "start_time": "2025-04-18T06:31:01.340048Z"
    }
   },
   "cell_type": "code",
   "source": [
    "pwd = ''\n",
    "\n",
    "while pwd != '1111' :\n",
    "    pwd = input('number?')\n",
    "print('어서오세요...')"
   ],
   "id": "fd9ad953a59c427a",
   "outputs": [
    {
     "name": "stdout",
     "output_type": "stream",
     "text": [
      "어서오세요...\n"
     ]
    }
   ],
   "execution_count": 6
  },
  {
   "metadata": {},
   "cell_type": "markdown",
   "source": "while문을 사용하여 반복하기",
   "id": "407e48c2c96e9d4d"
  },
  {
   "metadata": {
    "ExecuteTime": {
     "end_time": "2025-04-18T06:33:14.990898Z",
     "start_time": "2025-04-18T06:33:14.980865Z"
    }
   },
   "cell_type": "code",
   "source": [
    "cnt = 0\n",
    "\n",
    "while cnt < 5:\n",
    "    cnt += 1\n",
    "    print(cnt)"
   ],
   "id": "4e1c2f09b517a44f",
   "outputs": [
    {
     "name": "stdout",
     "output_type": "stream",
     "text": [
      "1\n",
      "2\n",
      "3\n",
      "4\n",
      "5\n"
     ]
    }
   ],
   "execution_count": 7
  },
  {
   "metadata": {},
   "cell_type": "markdown",
   "source": [
    "## for문\n",
    "일정한 횟수를 반복하는 경우, 일정 범위를 반복하면 증감하는 경우\n",
    "for, in"
   ],
   "id": "fb088f957358f71f"
  },
  {
   "metadata": {
    "ExecuteTime": {
     "end_time": "2025-04-18T06:38:32.554463Z",
     "start_time": "2025-04-18T06:38:32.544721Z"
    }
   },
   "cell_type": "code",
   "source": [
    "msg = 'hello'\n",
    "for ch in msg :\n",
    "    print(f'{ch}/',end='')"
   ],
   "id": "c0b780f34b69f973",
   "outputs": [
    {
     "name": "stdout",
     "output_type": "stream",
     "text": [
      "h/e/l/l/o/"
     ]
    }
   ],
   "execution_count": 9
  },
  {
   "metadata": {},
   "cell_type": "markdown",
   "source": [
    "for 변수 in range(start,stop,step) :\n",
    "    수행할 문장"
   ],
   "id": "1052bd70194fec4b"
  },
  {
   "metadata": {
    "ExecuteTime": {
     "end_time": "2025-04-18T06:45:13.610511Z",
     "start_time": "2025-04-18T06:45:13.598669Z"
    }
   },
   "cell_type": "code",
   "source": [
    "print(\"3개 다 입력\")\n",
    "for i in range (0,10,1) :\n",
    "    print(i, end='')\n",
    "\n",
    "print(\"\")\n",
    "for i in range(0,10) :\n",
    "    print(i, end='')\n",
    "\n",
    "print(\"\")\n",
    "for i in range(0,10,2) :\n",
    "    print(i, end='')\n",
    "\n",
    "print(\"\")\n",
    "for i  in range(10):\n",
    "    print(i, end='')\n"
   ],
   "id": "71541402a42ef038",
   "outputs": [
    {
     "name": "stdout",
     "output_type": "stream",
     "text": [
      "3개 다 입력\n",
      "0123456789\n",
      "0123456789\n",
      "02468\n",
      "0123456789"
     ]
    }
   ],
   "execution_count": 12
  },
  {
   "metadata": {},
   "cell_type": "markdown",
   "source": "## 중첩된 for",
   "id": "68d558c938592804"
  },
  {
   "metadata": {
    "ExecuteTime": {
     "end_time": "2025-04-18T06:50:06.125494Z",
     "start_time": "2025-04-18T06:50:06.118665Z"
    }
   },
   "cell_type": "code",
   "source": [
    "n=15\n",
    "for i in range(3):\n",
    "    for cnt in range(1,n+1) :\n",
    "        print(cnt, end=' ')\n",
    "    print()\n"
   ],
   "id": "f9cefc474067258e",
   "outputs": [
    {
     "name": "stdout",
     "output_type": "stream",
     "text": [
      "1 2 3 4 5 6 7 8 9 10 11 12 13 14 15 \n",
      "1 2 3 4 5 6 7 8 9 10 11 12 13 14 15 \n",
      "1 2 3 4 5 6 7 8 9 10 11 12 13 14 15 \n"
     ]
    }
   ],
   "execution_count": 17
  },
  {
   "metadata": {},
   "cell_type": "markdown",
   "source": "구구단 출력",
   "id": "38d3d6db3f78d5a6"
  },
  {
   "metadata": {
    "ExecuteTime": {
     "end_time": "2025-04-18T06:57:46.057553Z",
     "start_time": "2025-04-18T06:57:44.474617Z"
    }
   },
   "cell_type": "code",
   "source": [
    "j = int(input(\"몇단?\"))\n",
    "for i in range(1, 10):\n",
    "    print(f\"{j} x {i} = {j * i}\")"
   ],
   "id": "f4959e17b2955c4d",
   "outputs": [
    {
     "name": "stdout",
     "output_type": "stream",
     "text": [
      "3 x 1 = 3\n",
      "3 x 2 = 6\n",
      "3 x 3 = 9\n",
      "3 x 4 = 12\n",
      "3 x 5 = 15\n",
      "3 x 6 = 18\n",
      "3 x 7 = 21\n",
      "3 x 8 = 24\n",
      "3 x 9 = 27\n"
     ]
    }
   ],
   "execution_count": 21
  },
  {
   "metadata": {
    "ExecuteTime": {
     "end_time": "2025-04-18T07:13:13.861094Z",
     "start_time": "2025-04-18T07:13:12.419671Z"
    }
   },
   "cell_type": "code",
   "source": [
    "def input_positive_number(prompt):\n",
    "    n=0\n",
    "    while n<=0:\n",
    "        n= int(input(prompt))\n",
    "    return n\n",
    "\n",
    "\n",
    "def display_multiplication_table(n):\n",
    "    for i in range(1,10):\n",
    "        print(f\"{n} x {i} = {n * i:2d}\")\n",
    "\n",
    "def display_multiplication_table(n):\n",
    "    i=1\n",
    "    while i<=9:\n",
    "        print(f\"{n} x {i} = {n * i:2d}\")\n",
    "        i+=1\n",
    "\n",
    "n = input_positive_number('출력할 구구단을 입력해주세요')\n",
    "\n",
    "display_multiplication_table(n)"
   ],
   "id": "6e959ccda1a1f0a6",
   "outputs": [
    {
     "name": "stdout",
     "output_type": "stream",
     "text": [
      "3 x 1 =  3\n",
      "3 x 2 =  6\n",
      "3 x 3 =  9\n",
      "3 x 4 = 12\n",
      "3 x 5 = 15\n",
      "3 x 6 = 18\n",
      "3 x 7 = 21\n",
      "3 x 8 = 24\n",
      "3 x 9 = 27\n"
     ]
    }
   ],
   "execution_count": 29
  },
  {
   "metadata": {},
   "cell_type": "markdown",
   "source": "break 문으로 더 가독성 있는 코드 구성",
   "id": "bd4e44832deae8d7"
  },
  {
   "metadata": {
    "ExecuteTime": {
     "end_time": "2025-04-18T07:25:25.523826Z",
     "start_time": "2025-04-18T07:25:19.929146Z"
    }
   },
   "cell_type": "code",
   "source": [
    "while True:\n",
    "    pwd= input('비밀번호')\n",
    "\n",
    "    if pwd == '1111' :\n",
    "        break\n",
    "print('어서오세요')"
   ],
   "id": "3eb9a5928391542f",
   "outputs": [
    {
     "ename": "KeyboardInterrupt",
     "evalue": "Interrupted by user",
     "output_type": "error",
     "traceback": [
      "\u001B[0;31m---------------------------------------------------------------------------\u001B[0m",
      "\u001B[0;31mKeyboardInterrupt\u001B[0m                         Traceback (most recent call last)",
      "Cell \u001B[0;32mIn[35], line 2\u001B[0m\n\u001B[1;32m      1\u001B[0m \u001B[38;5;28;01mwhile\u001B[39;00m \u001B[38;5;28;01mTrue\u001B[39;00m:\n\u001B[0;32m----> 2\u001B[0m     pwd\u001B[38;5;241m=\u001B[39m \u001B[38;5;28;43minput\u001B[39;49m\u001B[43m(\u001B[49m\u001B[38;5;124;43m'\u001B[39;49m\u001B[38;5;124;43m비밀번호\u001B[39;49m\u001B[38;5;124;43m'\u001B[39;49m\u001B[43m)\u001B[49m\n\u001B[1;32m      4\u001B[0m     \u001B[38;5;28;01mif\u001B[39;00m pwd \u001B[38;5;241m==\u001B[39m \u001B[38;5;124m'\u001B[39m\u001B[38;5;124m1111\u001B[39m\u001B[38;5;124m'\u001B[39m :\n\u001B[1;32m      5\u001B[0m         \u001B[38;5;28;01mbreak\u001B[39;00m\n",
      "File \u001B[0;32m~/Library/Python/3.9/lib/python/site-packages/ipykernel/kernelbase.py:1282\u001B[0m, in \u001B[0;36mKernel.raw_input\u001B[0;34m(self, prompt)\u001B[0m\n\u001B[1;32m   1280\u001B[0m     msg \u001B[38;5;241m=\u001B[39m \u001B[38;5;124m\"\u001B[39m\u001B[38;5;124mraw_input was called, but this frontend does not support input requests.\u001B[39m\u001B[38;5;124m\"\u001B[39m\n\u001B[1;32m   1281\u001B[0m     \u001B[38;5;28;01mraise\u001B[39;00m StdinNotImplementedError(msg)\n\u001B[0;32m-> 1282\u001B[0m \u001B[38;5;28;01mreturn\u001B[39;00m \u001B[38;5;28;43mself\u001B[39;49m\u001B[38;5;241;43m.\u001B[39;49m\u001B[43m_input_request\u001B[49m\u001B[43m(\u001B[49m\n\u001B[1;32m   1283\u001B[0m \u001B[43m    \u001B[49m\u001B[38;5;28;43mstr\u001B[39;49m\u001B[43m(\u001B[49m\u001B[43mprompt\u001B[49m\u001B[43m)\u001B[49m\u001B[43m,\u001B[49m\n\u001B[1;32m   1284\u001B[0m \u001B[43m    \u001B[49m\u001B[38;5;28;43mself\u001B[39;49m\u001B[38;5;241;43m.\u001B[39;49m\u001B[43m_parent_ident\u001B[49m\u001B[43m[\u001B[49m\u001B[38;5;124;43m\"\u001B[39;49m\u001B[38;5;124;43mshell\u001B[39;49m\u001B[38;5;124;43m\"\u001B[39;49m\u001B[43m]\u001B[49m\u001B[43m,\u001B[49m\n\u001B[1;32m   1285\u001B[0m \u001B[43m    \u001B[49m\u001B[38;5;28;43mself\u001B[39;49m\u001B[38;5;241;43m.\u001B[39;49m\u001B[43mget_parent\u001B[49m\u001B[43m(\u001B[49m\u001B[38;5;124;43m\"\u001B[39;49m\u001B[38;5;124;43mshell\u001B[39;49m\u001B[38;5;124;43m\"\u001B[39;49m\u001B[43m)\u001B[49m\u001B[43m,\u001B[49m\n\u001B[1;32m   1286\u001B[0m \u001B[43m    \u001B[49m\u001B[43mpassword\u001B[49m\u001B[38;5;241;43m=\u001B[39;49m\u001B[38;5;28;43;01mFalse\u001B[39;49;00m\u001B[43m,\u001B[49m\n\u001B[1;32m   1287\u001B[0m \u001B[43m\u001B[49m\u001B[43m)\u001B[49m\n",
      "File \u001B[0;32m~/Library/Python/3.9/lib/python/site-packages/ipykernel/kernelbase.py:1325\u001B[0m, in \u001B[0;36mKernel._input_request\u001B[0;34m(self, prompt, ident, parent, password)\u001B[0m\n\u001B[1;32m   1322\u001B[0m \u001B[38;5;28;01mexcept\u001B[39;00m \u001B[38;5;167;01mKeyboardInterrupt\u001B[39;00m:\n\u001B[1;32m   1323\u001B[0m     \u001B[38;5;66;03m# re-raise KeyboardInterrupt, to truncate traceback\u001B[39;00m\n\u001B[1;32m   1324\u001B[0m     msg \u001B[38;5;241m=\u001B[39m \u001B[38;5;124m\"\u001B[39m\u001B[38;5;124mInterrupted by user\u001B[39m\u001B[38;5;124m\"\u001B[39m\n\u001B[0;32m-> 1325\u001B[0m     \u001B[38;5;28;01mraise\u001B[39;00m \u001B[38;5;167;01mKeyboardInterrupt\u001B[39;00m(msg) \u001B[38;5;28;01mfrom\u001B[39;00m\u001B[38;5;250m \u001B[39m\u001B[38;5;28;01mNone\u001B[39;00m\n\u001B[1;32m   1326\u001B[0m \u001B[38;5;28;01mexcept\u001B[39;00m \u001B[38;5;167;01mException\u001B[39;00m:\n\u001B[1;32m   1327\u001B[0m     \u001B[38;5;28mself\u001B[39m\u001B[38;5;241m.\u001B[39mlog\u001B[38;5;241m.\u001B[39mwarning(\u001B[38;5;124m\"\u001B[39m\u001B[38;5;124mInvalid Message:\u001B[39m\u001B[38;5;124m\"\u001B[39m, exc_info\u001B[38;5;241m=\u001B[39m\u001B[38;5;28;01mTrue\u001B[39;00m)\n",
      "\u001B[0;31mKeyboardInterrupt\u001B[0m: Interrupted by user"
     ]
    }
   ],
   "execution_count": 35
  },
  {
   "metadata": {},
   "cell_type": "markdown",
   "source": "## 연습문제 8.1",
   "id": "6654f4026f7cbd11"
  },
  {
   "metadata": {
    "ExecuteTime": {
     "end_time": "2025-04-18T07:29:43.323733Z",
     "start_time": "2025-04-18T07:29:41.039002Z"
    }
   },
   "cell_type": "code",
   "source": [
    "def input_age(age):\n",
    "    while True:\n",
    "        n= int(input(age))\n",
    "        if 0 <= n <= 120 :\n",
    "            return n\n",
    "\n",
    "def is_adult(age):\n",
    "    if age >= 19 :\n",
    "        return True\n",
    "    else:\n",
    "        return False\n",
    "\n",
    "age = int(input('나이? '))\n",
    "if age == -1:\n",
    "    print(\"나이 입력 오류입니다.\")\n",
    "else:\n",
    "    if is_adult(age):\n",
    "        print(\"성인입니다.\")\n",
    "    else:\n",
    "        print(\"성인이 아닙니다..\")"
   ],
   "id": "7a739240490c1203",
   "outputs": [
    {
     "name": "stdout",
     "output_type": "stream",
     "text": [
      "성인이 아닙니다..\n"
     ]
    }
   ],
   "execution_count": 38
  },
  {
   "metadata": {},
   "cell_type": "markdown",
   "source": "## 연습문제 8.4",
   "id": "ca66f7c91acf936b"
  },
  {
   "metadata": {
    "ExecuteTime": {
     "end_time": "2025-04-18T07:42:39.743272Z",
     "start_time": "2025-04-18T07:42:31.263662Z"
    }
   },
   "cell_type": "code",
   "source": [
    "def get_year(year):\n",
    "    if year % 4 == 0 and year % 100 != 0 or year % 400 == 0 :\n",
    "        return True\n",
    "    else :\n",
    "        return False\n",
    "\n",
    "\n",
    "\n",
    "\n",
    "while True :\n",
    "    y= int(input(\"윤년 여부를 확인할 연도는? \"))\n",
    "\n",
    "    #윤년 여부 판별 및 출력\n",
    "    print(f'{y}년은 ', end='')\n",
    "    if get_year(y) == True :\n",
    "        print('윤년입니다.')\n",
    "    else:\n",
    "        print('평년입니다.')\n",
    "\n",
    "    rep = input(\"다른 연도도 확인하시겠습니까?\")\n",
    "    if rep != 'y' and rep != 'Y' :\n",
    "        break\n",
    "    print()\n",
    "\n",
    "    # rep = input('다른 연도도 확인하시겠습니까?')\n",
    "    # if rep!= 'y' and rep != 'Y' :\n",
    "    #     print()\n",
    "    # else\n",
    "    #\n",
    "\n",
    "    break"
   ],
   "id": "1ef04571945bc3cc",
   "outputs": [
    {
     "name": "stdout",
     "output_type": "stream",
     "text": [
      "2020년은 윤년입니다.\n",
      "\n",
      "\n"
     ]
    }
   ],
   "execution_count": 47
  },
  {
   "metadata": {},
   "cell_type": "markdown",
   "source": "## 연습문제 8.5",
   "id": "ee20c3cbb7975a14"
  },
  {
   "metadata": {
    "ExecuteTime": {
     "end_time": "2025-04-18T07:53:56.570096Z",
     "start_time": "2025-04-18T07:53:54.442118Z"
    }
   },
   "cell_type": "code",
   "source": [
    "def display_triangle(h):\n",
    "    for i in range(1, h + 1):\n",
    "        for j in range(1, i + 1):\n",
    "            print(j, end=' ')\n",
    "        print()\n",
    "\n",
    "height = int(input(\"높이?\"))\n",
    "display_triangle(height)"
   ],
   "id": "2aed2d3f3abba922",
   "outputs": [
    {
     "name": "stdout",
     "output_type": "stream",
     "text": [
      "1 \n",
      "1 2 \n",
      "1 2 3 \n",
      "1 2 3 4 \n",
      "1 2 3 4 5 \n"
     ]
    }
   ],
   "execution_count": 72
  },
  {
   "metadata": {
    "ExecuteTime": {
     "end_time": "2025-04-18T07:54:57.587353Z",
     "start_time": "2025-04-18T07:54:55.707650Z"
    }
   },
   "cell_type": "code",
   "source": [
    "def display_startriangle(h):\n",
    "    for i in range(1, h + 1):\n",
    "        print('  ' * (h - i), end='')  # 왼쪽에 공백 추가\n",
    "        for j in range(1, i + 1):\n",
    "            print(\"*\", end=' ')\n",
    "        print()\n",
    "\n",
    "height = int(input(\"높이?\"))\n",
    "display_startriangle(h)"
   ],
   "id": "4bf546a621072903",
   "outputs": [
    {
     "name": "stdout",
     "output_type": "stream",
     "text": [
      "        * \n",
      "      * * \n",
      "    * * * \n",
      "  * * * * \n",
      "* * * * * \n"
     ]
    }
   ],
   "execution_count": 74
  },
  {
   "metadata": {},
   "cell_type": "markdown",
   "source": "8.5 문제 - 교수님 ver",
   "id": "d040dedcd3fcce19"
  },
  {
   "metadata": {
    "ExecuteTime": {
     "end_time": "2025-04-18T08:03:27.935068Z",
     "start_time": "2025-04-18T08:03:25.987352Z"
    }
   },
   "cell_type": "code",
   "source": [
    "def display_startriangle(h, ch = \"*\"):\n",
    "    for i in range(1,height+1):\n",
    "        print(\" \" *height-i, end=' ')\n",
    "        print(ch*1)\n",
    "\n",
    "h = int(input('높이? '))\n",
    "\n",
    "display_triangle(h)"
   ],
   "id": "405ceb52301def19",
   "outputs": [
    {
     "name": "stdout",
     "output_type": "stream",
     "text": [
      "1 \n",
      "1 2 \n",
      "1 2 3 \n"
     ]
    }
   ],
   "execution_count": 75
  }
 ],
 "metadata": {
  "kernelspec": {
   "display_name": "Python 3",
   "language": "python",
   "name": "python3"
  },
  "language_info": {
   "codemirror_mode": {
    "name": "ipython",
    "version": 2
   },
   "file_extension": ".py",
   "mimetype": "text/x-python",
   "name": "python",
   "nbconvert_exporter": "python",
   "pygments_lexer": "ipython2",
   "version": "2.7.6"
  }
 },
 "nbformat": 4,
 "nbformat_minor": 5
}
