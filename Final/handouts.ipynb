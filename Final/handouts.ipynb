{
 "cells": [
  {
   "metadata": {},
   "cell_type": "markdown",
   "source": "리스트 슬라이스 : 앞에껀 포함, 뒤에껀 제외",
   "id": "31af93d21398d1ef"
  },
  {
   "metadata": {
    "collapsed": true,
    "ExecuteTime": {
     "end_time": "2025-06-12T03:52:06.125389Z",
     "start_time": "2025-06-12T03:52:06.118934Z"
    }
   },
   "cell_type": "code",
   "source": [
    "from pylearn.hw7 import shopping_bag\n",
    "\n",
    "list1 = [11, 22, 33, 44, 55]\n",
    "sub_list = list1[1:3]\n",
    "print(sub_list)       # [22, 33]이 출력\n",
    "print(sub_list[0])    # 22가 출력"
   ],
   "id": "initial_id",
   "outputs": [
    {
     "name": "stdout",
     "output_type": "stream",
     "text": [
      "[22, 33]\n",
      "22\n"
     ]
    }
   ],
   "execution_count": 1
  },
  {
   "metadata": {
    "ExecuteTime": {
     "end_time": "2025-06-12T04:00:02.106102Z",
     "start_time": "2025-06-12T04:00:02.097050Z"
    }
   },
   "cell_type": "code",
   "source": [
    "nums = [11, 22, 33, 44, 55]\n",
    "\n",
    "nums[0] = -1\n",
    "print(nums)    # [-1, 22, 33, 44, 55]\n",
    "\n",
    "# 여러개를 대체하고 싶으면 리스트 슬라이스 사용 -> 슬라이싱으로는 1:N 대체 가능\n",
    "nums[1:3] = [100, 200, 300]\n",
    "print(nums)    # [-1, 100, 200, 300, 44, 55]\n",
    "\n",
    "# 한 요소는 하나로 대체한다 -> 오류 가능\n",
    "nums[1] = [100, 200, 300]\n",
    "print(nums) # [-1, [100, 200, 300], 33, 44, 55]"
   ],
   "id": "39b31bf7f30cb44",
   "outputs": [
    {
     "name": "stdout",
     "output_type": "stream",
     "text": [
      "[-1, 22, 33, 44, 55]\n",
      "[-1, 100, 200, 300, 44, 55]\n",
      "[-1, [100, 200, 300], 200, 300, 44, 55]\n"
     ]
    }
   ],
   "execution_count": 2
  },
  {
   "metadata": {
    "ExecuteTime": {
     "end_time": "2025-06-12T04:15:26.367829Z",
     "start_time": "2025-06-12T04:15:26.354241Z"
    }
   },
   "cell_type": "code",
   "source": [
    "# 얕은 복사, 깊은복사\n",
    "nums1 = [11, 22, 33]\n",
    "nums2 = []\n",
    "\n",
    "nums2 = nums1[:]\n",
    "\n",
    "nums2[0] = 0\n",
    "print(nums1)\n",
    "print(nums2)"
   ],
   "id": "536a6d16919eb51e",
   "outputs": [
    {
     "name": "stdout",
     "output_type": "stream",
     "text": [
      "[11, 22, 33]\n",
      "[0, 22, 33]\n"
     ]
    }
   ],
   "execution_count": 3
  },
  {
   "metadata": {
    "ExecuteTime": {
     "end_time": "2025-06-12T04:21:30.962293Z",
     "start_time": "2025-06-12T04:21:30.951481Z"
    }
   },
   "cell_type": "code",
   "source": [
    "# 리스트 비교하기\n",
    "nums1 = [11, 22, 33]\n",
    "\n",
    "nums2 = nums1[:]\n",
    "print(nums1 == nums2)    # True\n",
    "\n",
    "nums2[1] = 0 #[11, 0, 33]\n",
    "print(nums1 == nums2)    # False 22 != 0\n",
    "print(nums1 < nums2)     # False 22 < 0\n",
    "print(nums1 > nums2)     # True 22 > 0"
   ],
   "id": "8ee13ceaac4adb64",
   "outputs": [
    {
     "name": "stdout",
     "output_type": "stream",
     "text": [
      "True\n",
      "False\n",
      "False\n",
      "True\n"
     ]
    }
   ],
   "execution_count": 4
  },
  {
   "metadata": {
    "ExecuteTime": {
     "end_time": "2025-06-12T04:21:32.368837Z",
     "start_time": "2025-06-12T04:21:32.364058Z"
    }
   },
   "cell_type": "code",
   "source": [
    "nums1 = [11, 22, 33]\n",
    "nums2 = [44, 55]\n",
    "\n",
    "nums3 = nums1 + nums2    # 리스트의 연결 연산\n",
    "print(nums3)\n",
    "\n",
    "nums4 = nums1 * 2    # 리스트의 반복 연산\n",
    "print(nums4)"
   ],
   "id": "25ba0d493e3c9991",
   "outputs": [
    {
     "name": "stdout",
     "output_type": "stream",
     "text": [
      "[11, 22, 33, 44, 55]\n",
      "[11, 22, 33, 11, 22, 33]\n"
     ]
    }
   ],
   "execution_count": 5
  },
  {
   "metadata": {
    "ExecuteTime": {
     "end_time": "2025-06-12T04:25:05.046097Z",
     "start_time": "2025-06-12T04:25:05.038615Z"
    }
   },
   "cell_type": "code",
   "source": [
    "nums = [11, 22, 33]\n",
    "\n",
    "n = len(nums)    # 리스트 num의 요소 개수가 저장됨\n",
    "print(n)\n",
    "\n",
    "nums.append(55)       # nums의 맨 마지막 요소로 55 추가\n",
    "print(nums)\n",
    "\n",
    "nums.insert(3, 44)    # nums의 3번 요소 자리에 44 삽입\n",
    "print(nums)\n",
    "\n",
    "nums.insert(-1, 50)   # nums의 마지막 요소 자리에 50 삽입\n",
    "print(nums)"
   ],
   "id": "40c84d034cc8575c",
   "outputs": [
    {
     "name": "stdout",
     "output_type": "stream",
     "text": [
      "3\n",
      "[11, 22, 33, 55]\n",
      "[11, 22, 33, 44, 55]\n",
      "[11, 22, 33, 44, 50, 55]\n"
     ]
    }
   ],
   "execution_count": 7
  },
  {
   "metadata": {
    "ExecuteTime": {
     "end_time": "2025-06-12T04:26:43.754657Z",
     "start_time": "2025-06-12T04:26:43.748883Z"
    }
   },
   "cell_type": "code",
   "source": [
    "nums = [11, 22, 33, 0, 11, 22, 33]\n",
    "\n",
    "del nums[1]         # nums의 1번 요소인 22 삭제\n",
    "print(nums)\n",
    "\n",
    "del nums[2:4]       # nums의 2번부터 4번 전까지의 요소 [0, 11] 삭제\n",
    "print(nums)\n",
    "\n",
    "nums.remove(33)     # nums의 시작에서 처음 만나는 33 삭제\n",
    "print(nums)\n"
   ],
   "id": "5e2e572692e6c6bf",
   "outputs": [
    {
     "name": "stdout",
     "output_type": "stream",
     "text": [
      "[11, 33, 0, 11, 22, 33]\n",
      "[11, 33, 22, 33]\n",
      "[11, 22, 33]\n"
     ]
    }
   ],
   "execution_count": 8
  },
  {
   "metadata": {
    "ExecuteTime": {
     "end_time": "2025-06-12T04:30:05.689252Z",
     "start_time": "2025-06-12T04:30:05.682824Z"
    }
   },
   "cell_type": "code",
   "source": [
    "nums = [11, 22, 33, 44, 55]\n",
    "\n",
    "nums[1:4] = []    # nums의 1번~3번 요소 삭제\n",
    "print(nums)       # [11, 55] 출력\n",
    "\n",
    "nums.clear()      # nums의 모든 요소 삭제\n",
    "print(nums)       # [] 출력\n"
   ],
   "id": "baa78945de337ea0",
   "outputs": [
    {
     "name": "stdout",
     "output_type": "stream",
     "text": [
      "[11, 55]\n",
      "[]\n"
     ]
    }
   ],
   "execution_count": 9
  },
  {
   "metadata": {
    "ExecuteTime": {
     "end_time": "2025-06-12T04:42:39.278082Z",
     "start_time": "2025-06-12T04:42:39.267528Z"
    }
   },
   "cell_type": "code",
   "source": [
    "nums = [11, 22, 33, 44, 33]\n",
    "#               index   count 까지\n",
    "print(nums.index(33))    # 첨자 2 출력\n",
    "print(nums.count(33))    # 개수 2 출력"
   ],
   "id": "3a31b059fe841b0d",
   "outputs": [
    {
     "name": "stdout",
     "output_type": "stream",
     "text": [
      "2\n",
      "2\n"
     ]
    }
   ],
   "execution_count": 10
  },
  {
   "metadata": {},
   "cell_type": "code",
   "outputs": [],
   "execution_count": null,
   "source": [
    "# 예외처리\n",
    "nums = [11, 22, 33, 44, 55]\n",
    "\n",
    "print(22 in nums)        # 22가 존재하는가?\n",
    "print(66 not in nums)    # 66이 존재하지 않는가?\n",
    "\n",
    "target = 66\n",
    "\n",
    "if target not in nums:\n",
    "    print(f\"{target}는 리스트에 없습니다.\")\n",
    "else:\n",
    "    idx = nums.index(target)\n",
    "    print(f\"{target}는 인덱스 {idx}에 있습니다.\")"
   ],
   "id": "10322f9a347ee4a6"
  },
  {
   "metadata": {},
   "cell_type": "code",
   "outputs": [],
   "execution_count": null,
   "source": [
    "# 단일요소만 갖는 튜플 단점\n",
    "t1 = (11, 22, 33)\n",
    "t2 = 11, 22, 33\n",
    "\n",
    "t3 = (11)\n",
    "t4 = 11\n",
    "\n",
    "t5 = (11,)\n",
    "t6 = 11,"
   ],
   "id": "a272d75886819a84"
  },
  {
   "metadata": {
    "ExecuteTime": {
     "end_time": "2025-06-12T06:09:29.039321Z",
     "start_time": "2025-06-12T06:09:29.031477Z"
    }
   },
   "cell_type": "code",
   "source": [
    "d = { 'python':'파이썬', 'basic':'기초', 'programming':'프로그래밍' }\n",
    "print(d['python'])      # 'python'이란 키로 저장된 데이터 '파이썬' 출력\n",
    "\n",
    "#print(d[0])             # 0이란 키로 저장된 데이터는 없으므로 오류 발생\n",
    "\n",
    "# 메서드) 키값으로 get\n",
    "print(d.get('python'))      # '파이썬' 출력\n",
    "\n",
    "# 메서드) 인덱스로 get\n",
    "res = d.get(0)              # 반환되는 값이 없음\n",
    "print(res)                  # None 출력\n",
    "\n",
    "# 예외처리\n",
    "key = 0\n",
    "if key in d :\n",
    "    print(d[key])\n",
    "else :\n",
    "    print(f'오류: 유효하지 않은 키 {key}')\n",
    "\n",
    "# 딕셔너리 추가\n",
    "d['PYTHON'] = '파이썬'\n",
    "print(d)\n",
    "\n",
    "# 딕셔너리 수정\n",
    "d['python'] = 'PYTHON'\n",
    "print(d)\n",
    "\n",
    "# 딕셔너리 삭제\n",
    "del d['basic']\n",
    "print(d)\n",
    "\n",
    "# 딕셔너리 통쨰로 삭제\n",
    "d.clear()\n",
    "print(d)"
   ],
   "id": "2b54ba292771641",
   "outputs": [
    {
     "name": "stdout",
     "output_type": "stream",
     "text": [
      "파이썬\n",
      "파이썬\n",
      "None\n",
      "오류: 유효하지 않은 키 0\n",
      "{'python': '파이썬', 'basic': '기초', 'programming': '프로그래밍', 'PYTHON': '파이썬'}\n",
      "{'python': 'PYTHON', 'basic': '기초', 'programming': '프로그래밍', 'PYTHON': '파이썬'}\n",
      "{'python': 'PYTHON', 'programming': '프로그래밍', 'PYTHON': '파이썬'}\n",
      "{}\n"
     ]
    }
   ],
   "execution_count": 17
  },
  {
   "metadata": {},
   "cell_type": "markdown",
   "source": "## 9.복합자료형 연습문제",
   "id": "6dca665bf8fae847"
  },
  {
   "metadata": {
    "ExecuteTime": {
     "end_time": "2025-06-12T06:19:59.406844Z",
     "start_time": "2025-06-12T06:19:52.495899Z"
    }
   },
   "cell_type": "code",
   "source": [
    "#9-1\n",
    "scores = []\n",
    "\n",
    "print('[점수입력]')\n",
    "for i in range(3):\n",
    "    n = int(input(f'#{i+1}?'))\n",
    "    scores.append(n)\n",
    "\n",
    "print('\\n[점수출력]')\n",
    "\n",
    "print(f'입력 점수:{scores[0]},{scores[1]},{scores[2]}')\n",
    "avg = (scores[0]+scores[1]+scores[2]) / len(scores)\n",
    "print(f'평균: {avg:.1f}')\n"
   ],
   "id": "c6391e7d94a048ff",
   "outputs": [
    {
     "name": "stdout",
     "output_type": "stream",
     "text": [
      "[점수입력]\n",
      "\n",
      "[점수출력]\n",
      "입력 점수:90,80,100\n",
      "평균: 90.0\n"
     ]
    }
   ],
   "execution_count": 18
  },
  {
   "metadata": {},
   "cell_type": "code",
   "outputs": [],
   "execution_count": null,
   "source": [
    "#9-2\n",
    "scores = []\n",
    "\n",
    "print('[점수입력]')\n",
    "for i in range(3):\n",
    "    n = int(input(f'#{i+1}?'))\n",
    "    scores.append(n)\n",
    "\n",
    "print('\\n[점수출력]')\n",
    "print(f'입력 점수:{scores[0]},{scores[1]},{scores[2]}')\n",
    "avg = (scores[0]+scores[1]+scores[2]) / len(scores)\n",
    "print(f'평균: {avg:.1f}')\n",
    "\n",
    "print('\\n[검색]')\n",
    "s = int(input(f'찾고자 하는 점수는? : '))\n",
    "if s in scores :\n",
    "    idx = scores.index(s) #입력값의 index를 저장\n",
    "    print(f'{s}점은 {idx + 1}번 학생의 점수입니다.')\n",
    "else :\n",
    "    print(f'{s}점을 받은 학생은 없습니다.')\n"
   ],
   "id": "3059522f914b8484"
  },
  {
   "metadata": {
    "ExecuteTime": {
     "end_time": "2025-06-12T07:34:08.381295Z",
     "start_time": "2025-06-12T07:33:59.457172Z"
    }
   },
   "cell_type": "code",
   "source": [
    "shopping_bag = []\n",
    "while True:\n",
    "    item = input(f'상품명? :')\n",
    "    if item == '' :\n",
    "        break\n",
    "    shopping_bag.append(item)\n",
    "    print(f'장바구니에 {shopping_bag[-1]}가(이) 담겼습니다.')\n",
    "\n",
    "s = input(f'상품명? : ')\n",
    "print(f'\\n>>> 장바구니 보기 : {shopping_bag}')"
   ],
   "id": "94f9a978688cb474",
   "outputs": [
    {
     "name": "stdout",
     "output_type": "stream",
     "text": [
      "장바구니에 치약가(이) 담겼습니다.\n",
      "장바구니에 칫솔가(이) 담겼습니다.\n",
      "\n",
      ">>> 장바구니 보기 : ['치약', '칫솔']\n"
     ]
    }
   ],
   "execution_count": 20
  },
  {
   "metadata": {
    "ExecuteTime": {
     "end_time": "2025-06-12T07:54:24.370751Z",
     "start_time": "2025-06-12T07:54:12.263481Z"
    }
   },
   "cell_type": "code",
   "source": [
    "#9-4\n",
    "# 딕셔너리를 사용하여 수량을 저장\n",
    "# 장바구니 내 상품을 검색하여 해당 상품의 수량 출력\n",
    "\n",
    "shopping_bag = {}\n",
    "\n",
    "while True :\n",
    "    item = input('상품명? : ')\n",
    "    if item == '':\n",
    "        break\n",
    "    qty = int(input('수량은? : '))\n",
    "    shopping_bag[item] = qty\n",
    "    print(f'장바구니에 {item} {qty}개가 담겼습니다.')\n",
    "\n",
    "print(f'\\n>>> 장바구니 보기 : {shopping_bag}')\n",
    "\n",
    "print('\\n[검색]')\n",
    "search_item = input('\\n장바구니에서 확인하고자 하는 상품은? : ')\n",
    "qty = shopping_bag.get(search_item)\n",
    "if qty is not None:\n",
    "    print(f'{search_item}는(은) {qty}개 담겨있습니다.')\n",
    "else:\n",
    "    print(f'{search_item}는(은) 장바구니에 없습니다.')"
   ],
   "id": "46a7e9fee0667ca8",
   "outputs": [
    {
     "name": "stdout",
     "output_type": "stream",
     "text": [
      "장바구니에 바나나 3개가 담겼습니다.\n",
      "장바구니에 키위 4개가 담겼습니다.\n",
      "\n",
      ">>> 장바구니 보기 : {'바나나': 3, '키위': 4}\n",
      "\n",
      "[검색]\n",
      "바나나는(은) 3개 담겨있습니다.\n"
     ]
    }
   ],
   "execution_count": 24
  },
  {
   "metadata": {
    "ExecuteTime": {
     "end_time": "2025-06-12T08:14:51.433001Z",
     "start_time": "2025-06-12T08:14:44.640147Z"
    }
   },
   "cell_type": "code",
   "source": [
    "def get_date() :\n",
    "    y = int(input('연도? '))\n",
    "    m = int(input('월? '))\n",
    "    d = int(input('일? '))\n",
    "    return (y, m, d)\n",
    "# 주 프로그램부\n",
    "print('당신의 생일을 입력하세요:')\n",
    "bday = get_date()\n",
    "print(f'당신의 만 60번째 생일은 {bday[0]+60}년 {bday[1]}월 {bday[2]}일입니다.')"
   ],
   "id": "5cefa81e4cc99303",
   "outputs": [
    {
     "name": "stdout",
     "output_type": "stream",
     "text": [
      "당신의 생일을 입력하세요:\n",
      "당신의 만 60번째 생일은 2062년 11월 17일입니다.\n"
     ]
    }
   ],
   "execution_count": 25
  },
  {
   "metadata": {},
   "cell_type": "code",
   "outputs": [],
   "execution_count": null,
   "source": [
    "def input_list() :\n",
    "    name = input('이름? ')\n",
    "    num = input('번호? ')\n",
    "\n",
    "    lst = []\n",
    "    lst.append(name)\n",
    "    lst.append(num)\n",
    "    return lst\n",
    "\n",
    "# 주 프로그램부\n",
    "userinfo = input_list()\n",
    "print(f'{userinfo[1]}번 {userinfo[0]}')"
   ],
   "id": "b4585e699d79223"
  },
  {
   "metadata": {
    "ExecuteTime": {
     "end_time": "2025-06-12T08:36:04.936228Z",
     "start_time": "2025-06-12T08:36:04.931019Z"
    }
   },
   "cell_type": "code",
   "source": [
    "# 리스트 반복\n",
    "msgs = ['단출하게', '단아하게', '당당하게']\n",
    "\n",
    "#리스트 반복문\n",
    "for e in msgs :\n",
    "    print(f'{e}/', end='')\n",
    "\n",
    "print('\\n')\n",
    "\n",
    "#인덱스 활용한 리스트 출력 (역순)\n",
    "for i in range(len(msgs) - 1, -1, -1) :\n",
    "    print(f'{msgs[i]}/', end='')\n"
   ],
   "id": "949c1e4607e83600",
   "outputs": [
    {
     "name": "stdout",
     "output_type": "stream",
     "text": [
      "단출하게/단아하게/당당하게/\n",
      "\n",
      "당당하게/단아하게/단출하게/"
     ]
    }
   ],
   "execution_count": 29
  },
  {
   "metadata": {},
   "cell_type": "code",
   "outputs": [],
   "execution_count": null,
   "source": "",
   "id": "eef49f2cbb8a96d4"
  }
 ],
 "metadata": {
  "kernelspec": {
   "display_name": "Python 3",
   "language": "python",
   "name": "python3"
  },
  "language_info": {
   "codemirror_mode": {
    "name": "ipython",
    "version": 2
   },
   "file_extension": ".py",
   "mimetype": "text/x-python",
   "name": "python",
   "nbconvert_exporter": "python",
   "pygments_lexer": "ipython2",
   "version": "2.7.6"
  }
 },
 "nbformat": 4,
 "nbformat_minor": 5
}
