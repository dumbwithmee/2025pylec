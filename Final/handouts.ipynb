{
 "cells": [
  {
   "metadata": {},
   "cell_type": "markdown",
   "source": "리스트 슬라이스 : 앞에껀 포함, 뒤에껀 제외",
   "id": "31af93d21398d1ef"
  },
  {
   "metadata": {
    "collapsed": true,
    "ExecuteTime": {
     "end_time": "2025-06-12T03:52:06.125389Z",
     "start_time": "2025-06-12T03:52:06.118934Z"
    }
   },
   "cell_type": "code",
   "source": [
    "from pylearn.hw7 import shopping_bag\n",
    "\n",
    "list1 = [11, 22, 33, 44, 55]\n",
    "sub_list = list1[1:3]\n",
    "print(sub_list)       # [22, 33]이 출력\n",
    "print(sub_list[0])    # 22가 출력"
   ],
   "id": "initial_id",
   "outputs": [
    {
     "name": "stdout",
     "output_type": "stream",
     "text": [
      "[22, 33]\n",
      "22\n"
     ]
    }
   ],
   "execution_count": 1
  },
  {
   "metadata": {
    "ExecuteTime": {
     "end_time": "2025-06-12T04:00:02.106102Z",
     "start_time": "2025-06-12T04:00:02.097050Z"
    }
   },
   "cell_type": "code",
   "source": [
    "nums = [11, 22, 33, 44, 55]\n",
    "\n",
    "nums[0] = -1\n",
    "print(nums)    # [-1, 22, 33, 44, 55]\n",
    "\n",
    "# 여러개를 대체하고 싶으면 리스트 슬라이스 사용 -> 슬라이싱으로는 1:N 대체 가능\n",
    "nums[1:3] = [100, 200, 300]\n",
    "print(nums)    # [-1, 100, 200, 300, 44, 55]\n",
    "\n",
    "# 한 요소는 하나로 대체한다 -> 오류 가능\n",
    "nums[1] = [100, 200, 300]\n",
    "print(nums) # [-1, [100, 200, 300], 33, 44, 55]"
   ],
   "id": "39b31bf7f30cb44",
   "outputs": [
    {
     "name": "stdout",
     "output_type": "stream",
     "text": [
      "[-1, 22, 33, 44, 55]\n",
      "[-1, 100, 200, 300, 44, 55]\n",
      "[-1, [100, 200, 300], 200, 300, 44, 55]\n"
     ]
    }
   ],
   "execution_count": 2
  },
  {
   "metadata": {
    "ExecuteTime": {
     "end_time": "2025-06-12T04:15:26.367829Z",
     "start_time": "2025-06-12T04:15:26.354241Z"
    }
   },
   "cell_type": "code",
   "source": [
    "# 얕은 복사, 깊은복사\n",
    "nums1 = [11, 22, 33]\n",
    "nums2 = []\n",
    "\n",
    "nums2 = nums1[:]\n",
    "\n",
    "nums2[0] = 0\n",
    "print(nums1)\n",
    "print(nums2)"
   ],
   "id": "536a6d16919eb51e",
   "outputs": [
    {
     "name": "stdout",
     "output_type": "stream",
     "text": [
      "[11, 22, 33]\n",
      "[0, 22, 33]\n"
     ]
    }
   ],
   "execution_count": 3
  },
  {
   "metadata": {
    "ExecuteTime": {
     "end_time": "2025-06-12T04:21:30.962293Z",
     "start_time": "2025-06-12T04:21:30.951481Z"
    }
   },
   "cell_type": "code",
   "source": [
    "# 리스트 비교하기\n",
    "nums1 = [11, 22, 33]\n",
    "\n",
    "nums2 = nums1[:]\n",
    "print(nums1 == nums2)    # True\n",
    "\n",
    "nums2[1] = 0 #[11, 0, 33]\n",
    "print(nums1 == nums2)    # False 22 != 0\n",
    "print(nums1 < nums2)     # False 22 < 0\n",
    "print(nums1 > nums2)     # True 22 > 0"
   ],
   "id": "8ee13ceaac4adb64",
   "outputs": [
    {
     "name": "stdout",
     "output_type": "stream",
     "text": [
      "True\n",
      "False\n",
      "False\n",
      "True\n"
     ]
    }
   ],
   "execution_count": 4
  },
  {
   "metadata": {
    "ExecuteTime": {
     "end_time": "2025-06-12T04:21:32.368837Z",
     "start_time": "2025-06-12T04:21:32.364058Z"
    }
   },
   "cell_type": "code",
   "source": [
    "nums1 = [11, 22, 33]\n",
    "nums2 = [44, 55]\n",
    "\n",
    "nums3 = nums1 + nums2    # 리스트의 연결 연산\n",
    "print(nums3)\n",
    "\n",
    "nums4 = nums1 * 2    # 리스트의 반복 연산\n",
    "print(nums4)"
   ],
   "id": "25ba0d493e3c9991",
   "outputs": [
    {
     "name": "stdout",
     "output_type": "stream",
     "text": [
      "[11, 22, 33, 44, 55]\n",
      "[11, 22, 33, 11, 22, 33]\n"
     ]
    }
   ],
   "execution_count": 5
  },
  {
   "metadata": {
    "ExecuteTime": {
     "end_time": "2025-06-12T04:25:05.046097Z",
     "start_time": "2025-06-12T04:25:05.038615Z"
    }
   },
   "cell_type": "code",
   "source": [
    "nums = [11, 22, 33]\n",
    "\n",
    "n = len(nums)    # 리스트 num의 요소 개수가 저장됨\n",
    "print(n)\n",
    "\n",
    "nums.append(55)       # nums의 맨 마지막 요소로 55 추가\n",
    "print(nums)\n",
    "\n",
    "nums.insert(3, 44)    # nums의 3번 요소 자리에 44 삽입\n",
    "print(nums)\n",
    "\n",
    "nums.insert(-1, 50)   # nums의 마지막 요소 자리에 50 삽입\n",
    "print(nums)"
   ],
   "id": "40c84d034cc8575c",
   "outputs": [
    {
     "name": "stdout",
     "output_type": "stream",
     "text": [
      "3\n",
      "[11, 22, 33, 55]\n",
      "[11, 22, 33, 44, 55]\n",
      "[11, 22, 33, 44, 50, 55]\n"
     ]
    }
   ],
   "execution_count": 7
  },
  {
   "metadata": {
    "ExecuteTime": {
     "end_time": "2025-06-12T04:26:43.754657Z",
     "start_time": "2025-06-12T04:26:43.748883Z"
    }
   },
   "cell_type": "code",
   "source": [
    "nums = [11, 22, 33, 0, 11, 22, 33]\n",
    "\n",
    "del nums[1]         # nums의 1번 요소인 22 삭제\n",
    "print(nums)\n",
    "\n",
    "del nums[2:4]       # nums의 2번부터 4번 전까지의 요소 [0, 11] 삭제\n",
    "print(nums)\n",
    "\n",
    "nums.remove(33)     # nums의 시작에서 처음 만나는 33 삭제\n",
    "print(nums)\n"
   ],
   "id": "5e2e572692e6c6bf",
   "outputs": [
    {
     "name": "stdout",
     "output_type": "stream",
     "text": [
      "[11, 33, 0, 11, 22, 33]\n",
      "[11, 33, 22, 33]\n",
      "[11, 22, 33]\n"
     ]
    }
   ],
   "execution_count": 8
  },
  {
   "metadata": {
    "ExecuteTime": {
     "end_time": "2025-06-12T04:30:05.689252Z",
     "start_time": "2025-06-12T04:30:05.682824Z"
    }
   },
   "cell_type": "code",
   "source": [
    "nums = [11, 22, 33, 44, 55]\n",
    "\n",
    "nums[1:4] = []    # nums의 1번~3번 요소 삭제\n",
    "print(nums)       # [11, 55] 출력\n",
    "\n",
    "nums.clear()      # nums의 모든 요소 삭제\n",
    "print(nums)       # [] 출력\n"
   ],
   "id": "baa78945de337ea0",
   "outputs": [
    {
     "name": "stdout",
     "output_type": "stream",
     "text": [
      "[11, 55]\n",
      "[]\n"
     ]
    }
   ],
   "execution_count": 9
  },
  {
   "metadata": {
    "ExecuteTime": {
     "end_time": "2025-06-12T04:42:39.278082Z",
     "start_time": "2025-06-12T04:42:39.267528Z"
    }
   },
   "cell_type": "code",
   "source": [
    "nums = [11, 22, 33, 44, 33]\n",
    "#               index   count 까지\n",
    "print(nums.index(33))    # 첨자 2 출력\n",
    "print(nums.count(33))    # 개수 2 출력"
   ],
   "id": "3a31b059fe841b0d",
   "outputs": [
    {
     "name": "stdout",
     "output_type": "stream",
     "text": [
      "2\n",
      "2\n"
     ]
    }
   ],
   "execution_count": 10
  },
  {
   "metadata": {},
   "cell_type": "code",
   "outputs": [],
   "execution_count": null,
   "source": [
    "# 예외처리\n",
    "nums = [11, 22, 33, 44, 55]\n",
    "\n",
    "print(22 in nums)        # 22가 존재하는가?\n",
    "print(66 not in nums)    # 66이 존재하지 않는가?\n",
    "\n",
    "target = 66\n",
    "\n",
    "if target not in nums:\n",
    "    print(f\"{target}는 리스트에 없습니다.\")\n",
    "else:\n",
    "    idx = nums.index(target)\n",
    "    print(f\"{target}는 인덱스 {idx}에 있습니다.\")"
   ],
   "id": "10322f9a347ee4a6"
  },
  {
   "metadata": {},
   "cell_type": "code",
   "outputs": [],
   "execution_count": null,
   "source": [
    "# 단일요소만 갖는 튜플 단점\n",
    "t1 = (11, 22, 33)\n",
    "t2 = 11, 22, 33\n",
    "\n",
    "t3 = (11)\n",
    "t4 = 11\n",
    "\n",
    "t5 = (11,)\n",
    "t6 = 11,"
   ],
   "id": "a272d75886819a84"
  },
  {
   "metadata": {
    "ExecuteTime": {
     "end_time": "2025-06-12T06:09:29.039321Z",
     "start_time": "2025-06-12T06:09:29.031477Z"
    }
   },
   "cell_type": "code",
   "source": [
    "d = { 'python':'파이썬', 'basic':'기초', 'programming':'프로그래밍' }\n",
    "print(d['python'])      # 'python'이란 키로 저장된 데이터 '파이썬' 출력\n",
    "\n",
    "#print(d[0])             # 0이란 키로 저장된 데이터는 없으므로 오류 발생\n",
    "\n",
    "# 메서드) 키값으로 get\n",
    "print(d.get('python'))      # '파이썬' 출력\n",
    "\n",
    "# 메서드) 인덱스로 get\n",
    "res = d.get(0)              # 반환되는 값이 없음\n",
    "print(res)                  # None 출력\n",
    "\n",
    "# 예외처리\n",
    "key = 0\n",
    "if key in d :\n",
    "    print(d[key])\n",
    "else :\n",
    "    print(f'오류: 유효하지 않은 키 {key}')\n",
    "\n",
    "# 딕셔너리 추가\n",
    "d['PYTHON'] = '파이썬'\n",
    "print(d)\n",
    "\n",
    "# 딕셔너리 수정\n",
    "d['python'] = 'PYTHON'\n",
    "print(d)\n",
    "\n",
    "# 딕셔너리 삭제\n",
    "del d['basic']\n",
    "print(d)\n",
    "\n",
    "# 딕셔너리 통쨰로 삭제\n",
    "d.clear()\n",
    "print(d)"
   ],
   "id": "2b54ba292771641",
   "outputs": [
    {
     "name": "stdout",
     "output_type": "stream",
     "text": [
      "파이썬\n",
      "파이썬\n",
      "None\n",
      "오류: 유효하지 않은 키 0\n",
      "{'python': '파이썬', 'basic': '기초', 'programming': '프로그래밍', 'PYTHON': '파이썬'}\n",
      "{'python': 'PYTHON', 'basic': '기초', 'programming': '프로그래밍', 'PYTHON': '파이썬'}\n",
      "{'python': 'PYTHON', 'programming': '프로그래밍', 'PYTHON': '파이썬'}\n",
      "{}\n"
     ]
    }
   ],
   "execution_count": 17
  },
  {
   "metadata": {},
   "cell_type": "markdown",
   "source": "## 9.복합자료형 연습문제",
   "id": "6dca665bf8fae847"
  },
  {
   "metadata": {
    "ExecuteTime": {
     "end_time": "2025-06-12T06:19:59.406844Z",
     "start_time": "2025-06-12T06:19:52.495899Z"
    }
   },
   "cell_type": "code",
   "source": [
    "#9-1\n",
    "scores = []\n",
    "\n",
    "print('[점수입력]')\n",
    "for i in range(3):\n",
    "    n = int(input(f'#{i+1}?'))\n",
    "    scores.append(n)\n",
    "\n",
    "print('\\n[점수출력]')\n",
    "\n",
    "print(f'입력 점수:{scores[0]},{scores[1]},{scores[2]}')\n",
    "avg = (scores[0]+scores[1]+scores[2]) / len(scores)\n",
    "print(f'평균: {avg:.1f}')\n"
   ],
   "id": "c6391e7d94a048ff",
   "outputs": [
    {
     "name": "stdout",
     "output_type": "stream",
     "text": [
      "[점수입력]\n",
      "\n",
      "[점수출력]\n",
      "입력 점수:90,80,100\n",
      "평균: 90.0\n"
     ]
    }
   ],
   "execution_count": 18
  },
  {
   "metadata": {},
   "cell_type": "code",
   "outputs": [],
   "execution_count": null,
   "source": [
    "#9-2\n",
    "scores = []\n",
    "\n",
    "print('[점수입력]')\n",
    "for i in range(3):\n",
    "    n = int(input(f'#{i+1}?'))\n",
    "    scores.append(n)\n",
    "\n",
    "print('\\n[점수출력]')\n",
    "print(f'입력 점수:{scores[0]},{scores[1]},{scores[2]}')\n",
    "avg = (scores[0]+scores[1]+scores[2]) / len(scores)\n",
    "print(f'평균: {avg:.1f}')\n",
    "\n",
    "print('\\n[검색]')\n",
    "s = int(input(f'찾고자 하는 점수는? : '))\n",
    "if s in scores :\n",
    "    idx = scores.index(s) #입력값의 index를 저장\n",
    "    print(f'{s}점은 {idx + 1}번 학생의 점수입니다.')\n",
    "else :\n",
    "    print(f'{s}점을 받은 학생은 없습니다.')\n"
   ],
   "id": "3059522f914b8484"
  },
  {
   "metadata": {
    "ExecuteTime": {
     "end_time": "2025-06-12T07:34:08.381295Z",
     "start_time": "2025-06-12T07:33:59.457172Z"
    }
   },
   "cell_type": "code",
   "source": [
    "shopping_bag = []\n",
    "while True:\n",
    "    item = input(f'상품명? :')\n",
    "    if item == '' :\n",
    "        break\n",
    "    shopping_bag.append(item)\n",
    "    print(f'장바구니에 {shopping_bag[-1]}가(이) 담겼습니다.')\n",
    "\n",
    "s = input(f'상품명? : ')\n",
    "print(f'\\n>>> 장바구니 보기 : {shopping_bag}')"
   ],
   "id": "94f9a978688cb474",
   "outputs": [
    {
     "name": "stdout",
     "output_type": "stream",
     "text": [
      "장바구니에 치약가(이) 담겼습니다.\n",
      "장바구니에 칫솔가(이) 담겼습니다.\n",
      "\n",
      ">>> 장바구니 보기 : ['치약', '칫솔']\n"
     ]
    }
   ],
   "execution_count": 20
  },
  {
   "metadata": {
    "ExecuteTime": {
     "end_time": "2025-06-12T07:54:24.370751Z",
     "start_time": "2025-06-12T07:54:12.263481Z"
    }
   },
   "cell_type": "code",
   "source": [
    "#9-4\n",
    "# 딕셔너리를 사용하여 수량을 저장\n",
    "# 장바구니 내 상품을 검색하여 해당 상품의 수량 출력\n",
    "\n",
    "shopping_bag = {}\n",
    "\n",
    "while True :\n",
    "    item = input('상품명? : ')\n",
    "    if item == '':\n",
    "        break\n",
    "    qty = int(input('수량은? : '))\n",
    "    shopping_bag[item] = qty\n",
    "    print(f'장바구니에 {item} {qty}개가 담겼습니다.')\n",
    "\n",
    "print(f'\\n>>> 장바구니 보기 : {shopping_bag}')\n",
    "\n",
    "print('\\n[검색]')\n",
    "search_item = input('\\n장바구니에서 확인하고자 하는 상품은? : ')\n",
    "qty = shopping_bag.get(search_item)\n",
    "if qty is not None:\n",
    "    print(f'{search_item}는(은) {qty}개 담겨있습니다.')\n",
    "else:\n",
    "    print(f'{search_item}는(은) 장바구니에 없습니다.')"
   ],
   "id": "46a7e9fee0667ca8",
   "outputs": [
    {
     "name": "stdout",
     "output_type": "stream",
     "text": [
      "장바구니에 바나나 3개가 담겼습니다.\n",
      "장바구니에 키위 4개가 담겼습니다.\n",
      "\n",
      ">>> 장바구니 보기 : {'바나나': 3, '키위': 4}\n",
      "\n",
      "[검색]\n",
      "바나나는(은) 3개 담겨있습니다.\n"
     ]
    }
   ],
   "execution_count": 24
  },
  {
   "metadata": {
    "ExecuteTime": {
     "end_time": "2025-06-12T08:14:51.433001Z",
     "start_time": "2025-06-12T08:14:44.640147Z"
    }
   },
   "cell_type": "code",
   "source": [
    "#만 60번째 생일을 출력\n",
    "def get_date() :\n",
    "    y = int(input('연도? '))\n",
    "    m = int(input('월? '))\n",
    "    d = int(input('일? '))\n",
    "    return (y, m, d)\n",
    "# 주 프로그램부\n",
    "print('당신의 생일을 입력하세요:')\n",
    "bday = get_date()\n",
    "print(f'당신의 만 60번째 생일은 {bday[0]+60}년 {bday[1]}월 {bday[2]}일입니다.')"
   ],
   "id": "5cefa81e4cc99303",
   "outputs": [
    {
     "name": "stdout",
     "output_type": "stream",
     "text": [
      "당신의 생일을 입력하세요:\n",
      "당신의 만 60번째 생일은 2062년 11월 17일입니다.\n"
     ]
    }
   ],
   "execution_count": 25
  },
  {
   "metadata": {
    "ExecuteTime": {
     "end_time": "2025-06-13T02:25:22.211198Z",
     "start_time": "2025-06-13T02:25:16.258336Z"
    }
   },
   "cell_type": "code",
   "source": [
    "def input_list() :\n",
    "    name = input('이름? ')\n",
    "    num = input('번호? ')\n",
    "\n",
    "    lst = []\n",
    "    lst.append(name)\n",
    "    lst.append(num)\n",
    "    return lst\n",
    "\n",
    "# 주 프로그램부\n",
    "userinfo = input_list()\n",
    "print(userinfo)\n",
    "print(f'{userinfo[1]}번 {userinfo[0]}')"
   ],
   "id": "b4585e699d79223",
   "outputs": [
    {
     "name": "stdout",
     "output_type": "stream",
     "text": [
      "['박세연', '3']\n",
      "3번 박세연\n"
     ]
    }
   ],
   "execution_count": 30
  },
  {
   "metadata": {
    "ExecuteTime": {
     "end_time": "2025-06-12T08:36:04.936228Z",
     "start_time": "2025-06-12T08:36:04.931019Z"
    }
   },
   "cell_type": "code",
   "source": [
    "# 리스트 반복\n",
    "msgs = ['단출하게', '단아하게', '당당하게']\n",
    "\n",
    "#리스트 반복문\n",
    "for e in msgs :\n",
    "    print(f'{e}/', end='')\n",
    "\n",
    "print('\\n')\n",
    "\n",
    "#인덱스 활용한 리스트 출력 (역순)\n",
    "for i in range(len(msgs) - 1, -1, -1) :\n",
    "    print(f'{msgs[i]}/', end='')\n"
   ],
   "id": "949c1e4607e83600",
   "outputs": [
    {
     "name": "stdout",
     "output_type": "stream",
     "text": [
      "단출하게/단아하게/당당하게/\n",
      "\n",
      "당당하게/단아하게/단출하게/"
     ]
    }
   ],
   "execution_count": 29
  },
  {
   "metadata": {
    "ExecuteTime": {
     "end_time": "2025-06-13T02:39:29.163400Z",
     "start_time": "2025-06-13T02:39:24.604066Z"
    }
   },
   "cell_type": "code",
   "source": [
    "# 사용자 정의 함수 부\n",
    "# 코드 10-13\n",
    "def input_num_of_population() :\n",
    "    nPeople = []\n",
    "    for f in range(4) :\n",
    "        n = int(input(f'{f + 1}층의 거주인원수는? '))\n",
    "        nPeople.append(n)\n",
    "    # 입력받은 거주인원수를 호출측으로 반환\n",
    "    return nPeople\n",
    "\n",
    "# 코드 10-14\n",
    "def show_num_of_population(p) :\n",
    "    cnt = len(p)\n",
    "    for i in range(cnt) :\n",
    "        print(f'{i + 1}층의 거주인원수는 {p[i]}명입니다.')\n",
    "\n",
    "# 코드 10-20\n",
    "def get_total(lst) :\n",
    "    total = 0\n",
    "    for n in lst :\n",
    "        total += n\n",
    "\n",
    "    return total\n",
    "\n",
    "# 주 프로그램 부 : 코드 10-7\n",
    "# 1~4층의 거주인원수를 입력받음\n",
    "population = input_num_of_population()\n",
    "\n",
    "# 입력받은 1~4층의 거주인원수를 출력\n",
    "show_num_of_population(population)\n",
    "\n",
    "# total = 입력받은 1~4층의 거주인원수의 총합을 구함\n",
    "total = get_total(population)\n",
    "\n",
    "# 총 거주 인원수(total) 출력\n",
    "print(f'총 거주인원수는 {total}명입니다.')\n"
   ],
   "id": "eef49f2cbb8a96d4",
   "outputs": [
    {
     "name": "stdout",
     "output_type": "stream",
     "text": [
      "1층의 거주인원수는 1명입니다.\n",
      "2층의 거주인원수는 2명입니다.\n",
      "3층의 거주인원수는 3명입니다.\n",
      "4층의 거주인원수는 4명입니다.\n",
      "총 거주인원수는 10명입니다.\n"
     ]
    }
   ],
   "execution_count": 31
  },
  {
   "metadata": {
    "ExecuteTime": {
     "end_time": "2025-06-13T02:39:38.889395Z",
     "start_time": "2025-06-13T02:39:38.884384Z"
    }
   },
   "cell_type": "code",
   "source": [
    "# 이중리스트 반복문\n",
    "scores = [\n",
    "    [ '이찬수', 95, 85 ],\n",
    "    [ '홍길동', 90, 80 ]\n",
    "]\n",
    "\n",
    "for gi in range(len(scores)):\n",
    "    for ei in range(len(scores[gi])):\n",
    "        print(scores[gi][ei], end='/')\n",
    "    print()\n"
   ],
   "id": "ecb7be254fb5bfdf",
   "outputs": [
    {
     "name": "stdout",
     "output_type": "stream",
     "text": [
      "이찬수/95/85/\n",
      "홍길동/90/80/\n"
     ]
    }
   ],
   "execution_count": 32
  },
  {
   "metadata": {
    "ExecuteTime": {
     "end_time": "2025-06-13T02:40:54.546857Z",
     "start_time": "2025-06-13T02:40:54.538225Z"
    }
   },
   "cell_type": "code",
   "source": [
    "#딕셔너리의 루핑\n",
    "d = {\n",
    "    'python':'파이썬',\n",
    "    'basic':'기초',\n",
    "    'programming':'프로그래밍'\n",
    "}\n",
    "\n",
    "for key in d.keys():\n",
    "    print(key, d[key])\n"
   ],
   "id": "579747a259f60eb9",
   "outputs": [
    {
     "name": "stdout",
     "output_type": "stream",
     "text": [
      "python 파이썬\n",
      "basic 기초\n",
      "programming 프로그래밍\n"
     ]
    }
   ],
   "execution_count": 33
  },
  {
   "metadata": {
    "ExecuteTime": {
     "end_time": "2025-06-13T02:53:03.023162Z",
     "start_time": "2025-06-13T02:53:03.006223Z"
    }
   },
   "cell_type": "code",
   "source": [
    "# 딕셔너리의 요소 접근 함수\n",
    "def dict_get(dic, key) :\n",
    "    if key in dic :\n",
    "        return dic[key]\n",
    "    else :\n",
    "        return None\n",
    "\n",
    "d = { 'python':'파이썬', 'basic':'기초', 'programming':'프로그래밍' }\n",
    "\n",
    "res = dict_get(d, 'python')\n",
    "if res != None :\n",
    "    print(res)\n",
    "else :\n",
    "    print('오류: 잘못된 키')\n",
    "\n",
    "res = dict_get(d, 0)    # res = d.get(0)\n",
    "if res != None :\n",
    "    print(res)\n",
    "else :\n",
    "    print('오류: 잘못된 키')\n"
   ],
   "id": "557aee67fd2b23bf",
   "outputs": [
    {
     "name": "stdout",
     "output_type": "stream",
     "text": [
      "파이썬\n",
      "오류: 잘못된 키\n"
     ]
    }
   ],
   "execution_count": 34
  },
  {
   "metadata": {},
   "cell_type": "code",
   "outputs": [],
   "execution_count": null,
   "source": [
    "#딕셔너리에 요소 추가 함수 -=> 중복되지 않은 키인 경우에만 추가하도록 작성한다\n",
    "def dict_append(dic, key, value) :\n",
    "    if key in dic :\n",
    "        return False\n",
    "    dic[key] = value\n",
    "    return True\n",
    "\n",
    "d = { 'python':'파이썬', 'basic':'기초', 'programming':'프로그래밍' }\n",
    "\n",
    "if dict_append(d, 'PYTHON', '파이썬') :\n",
    "    print('추가 성공')\n",
    "else :\n",
    "    print('추가 실패')\n",
    "\n",
    "if dict_append(d, 'basic', '베이직') :\n",
    "    print('두 번째 추가 성공')\n",
    "else :\n",
    "    print('두 번째 추가 실패')\n",
    "\n",
    "print(d)\n"
   ],
   "id": "849e0a16536567cc"
  },
  {
   "metadata": {
    "ExecuteTime": {
     "end_time": "2025-06-13T02:58:16.555249Z",
     "start_time": "2025-06-13T02:58:16.549378Z"
    }
   },
   "cell_type": "code",
   "source": [
    "#딕셔너리 요소 삭제 함수 -> 유효한 키의 경우에만 값을 삭제한다\n",
    "def dict_delete(dic, key) :\n",
    "    if key in dic :\n",
    "        del dic[key]\n",
    "        return True\n",
    "    else :\n",
    "        return False\n",
    "\n",
    "d = { 'python':'파이썬', 'basic':'기초', 'programming':'프로그래밍' }\n",
    "if dict_delete(d, 'basic') :\n",
    "    print('삭제 성공')\n",
    "else :\n",
    "    print('삭제 실패')\n",
    "\n",
    "print(d)\n"
   ],
   "id": "9333da332cc4ef38",
   "outputs": [
    {
     "name": "stdout",
     "output_type": "stream",
     "text": [
      "삭제 성공\n",
      "{'python': '파이썬', 'programming': '프로그래밍'}\n"
     ]
    }
   ],
   "execution_count": 35
  },
  {
   "metadata": {
    "ExecuteTime": {
     "end_time": "2025-06-13T02:59:56.773694Z",
     "start_time": "2025-06-13T02:59:47.352070Z"
    }
   },
   "cell_type": "code",
   "source": [
    "# 연습문제10.2 ) 사용자로부터 입력 받은 수 중에 가장 큰 수 찾기\n",
    "def find_max(numbers):\n",
    "    max_value = numbers[0]\n",
    "    for i in range(1, len(numbers)):\n",
    "        if numbers[i] > max_value:\n",
    "            max_value = numbers[i]\n",
    "    return max_value\n",
    "\n",
    "# 사용자로부터 5개의 정수를 입력받아 리스트에 저장\n",
    "nums = []\n",
    "for _ in range(5):\n",
    "    num = int(input(\"정수 입력: \"))\n",
    "    nums.append(num)\n",
    "\n",
    "# find_max 함수를 이용해 최대값 찾기\n",
    "maximum = find_max(nums)\n",
    "print(f\"가장 큰 정수는 {maximum}입니다.\")"
   ],
   "id": "5fd34d8eb6fe9d03",
   "outputs": [
    {
     "name": "stdout",
     "output_type": "stream",
     "text": [
      "가장 큰 정수는 205입니다.\n"
     ]
    }
   ],
   "execution_count": 37
  },
  {
   "metadata": {
    "ExecuteTime": {
     "end_time": "2025-06-13T03:07:53.419489Z",
     "start_time": "2025-06-13T03:07:41.380457Z"
    }
   },
   "cell_type": "code",
   "source": [
    "# 학생 수를 유연하게 처리 가능하도록 수정\n",
    "def input_scores():\n",
    "    scores = []\n",
    "    i = 1\n",
    "    while True:\n",
    "        score = int(input(f\"# {i}? \"))\n",
    "        if score < 0:\n",
    "            break\n",
    "        scores.append(score)\n",
    "        i += 1\n",
    "    return scores\n",
    "\n",
    "def get_average(scores):\n",
    "    if len(scores) == 0:\n",
    "        return 0\n",
    "    return round(sum(scores) / len(scores), 1)\n",
    "\n",
    "def show_scores(scores):\n",
    "    print(\"[점수 출력]\")\n",
    "    print(\"개인점수:\", end=\" \")\n",
    "    for score in scores:\n",
    "        print(score, end=\" \")\n",
    "    print()\n",
    "\n",
    "# 메인 프로그램\n",
    "scores = input_scores()\n",
    "\n",
    "show_scores(scores)\n",
    "\n",
    "avg = get_average(scores)\n",
    "print(\"평균:\", avg)"
   ],
   "id": "7d2c53974302963",
   "outputs": [
    {
     "name": "stdout",
     "output_type": "stream",
     "text": [
      "[점수 출력]\n",
      "개인점수: 95 100 24 72 1 \n",
      "평균: 58.4\n"
     ]
    }
   ],
   "execution_count": 38
  },
  {
   "metadata": {
    "ExecuteTime": {
     "end_time": "2025-06-13T03:11:18.208342Z",
     "start_time": "2025-06-13T03:11:00.136675Z"
    }
   },
   "cell_type": "code",
   "source": [
    "def input_scores():\n",
    "    scores = []\n",
    "    i = 1\n",
    "    while True:\n",
    "        score = int(input(f\"# {i}? \"))\n",
    "        if score < 0:\n",
    "            break\n",
    "        scores.append(score)\n",
    "        i += 1\n",
    "    return scores\n",
    "\n",
    "def get_average(scores):\n",
    "    return round(sum(scores) / len(scores), 1)\n",
    "\n",
    "def show_scores(scores):\n",
    "    print(\"[점수 출력]\")\n",
    "    print(\"개인점수:\", end=\" \")\n",
    "    for score in scores:\n",
    "        print(score, end=\" \")\n",
    "    print()\n",
    "    print(\"평균:\", get_average(scores))\n",
    "\n",
    "def search(scores, target):\n",
    "    for i in range(len(scores)):\n",
    "        if scores[i] == target:\n",
    "            return i  # 인덱스 반환\n",
    "    return None\n",
    "\n",
    "# 메인 프로그램\n",
    "scores = input_scores()\n",
    "show_scores(scores)\n",
    "\n",
    "print(\"[검색]\")\n",
    "target = int(input(\"찾고자 하는 점수는? \"))\n",
    "idx = search(scores, target)\n",
    "\n",
    "if idx is not None:\n",
    "    print(f\"{target}점은 {idx+1}번 학생의 점수입니다.\")\n",
    "else:\n",
    "    print(f\"{target}점을 받은 학생은 없습니다.\")"
   ],
   "id": "d2e5b47c078eb158",
   "outputs": [
    {
     "name": "stdout",
     "output_type": "stream",
     "text": [
      "[점수 출력]\n",
      "개인점수: 11 22 33 44 55 66 \n",
      "평균: 38.5\n",
      "[검색]\n",
      "11점은 1번 학생의 점수입니다.\n"
     ]
    }
   ],
   "execution_count": 41
  },
  {
   "metadata": {
    "ExecuteTime": {
     "end_time": "2025-06-13T03:13:03.414558Z",
     "start_time": "2025-06-13T03:12:45.603916Z"
    }
   },
   "cell_type": "code",
   "source": [
    "# 10.6\n",
    "# 호출 시마다 인수로 전달된 디셔너리에 사용자로부터 입력받은 상품며오가 수량을 저장하는...함수를 머시기\n",
    "def buy(shopping_bag):\n",
    "    item = input(\"상품명? : \")\n",
    "    if item == \"\":\n",
    "        return False\n",
    "    qty = int(input(\"수량은? : \"))\n",
    "    shopping_bag[item] = qty\n",
    "    print(f\"장바구니에 {item} {qty}개가 담겼습니다.\")\n",
    "    return True\n",
    "\n",
    "def show(shopping_bag):\n",
    "    print(\"\\n>>> 장바구니 보기\")\n",
    "    for item, qty in shopping_bag.items():\n",
    "        print(f\"{item} {qty}개\")\n",
    "\n",
    "def find(shopping_bag):\n",
    "    print(\"\\n[검색]\")\n",
    "    item = input(\"장바구니에서 확인하고자 하는 상품은? : \")\n",
    "    if item in shopping_bag:\n",
    "        print(f\"{item}는(은) {shopping_bag[item]}개 담겨있습니다.\")\n",
    "    else:\n",
    "        print(f\"{item}는(은) 장바구니에 없습니다.\")\n",
    "\n",
    "# 주 프로그램\n",
    "shopping_bag = {}\n",
    "\n",
    "while True:\n",
    "    if not buy(shopping_bag):\n",
    "        break\n",
    "\n",
    "show(shopping_bag)\n",
    "find(shopping_bag)"
   ],
   "id": "f3c4834750a87267",
   "outputs": [
    {
     "name": "stdout",
     "output_type": "stream",
     "text": [
      "장바구니에 샌드위치 10개가 담겼습니다.\n",
      "장바구니에 주스 5개가 담겼습니다.\n",
      "\n",
      ">>> 장바구니 보기\n",
      "샌드위치 10개\n",
      "주스 5개\n",
      "\n",
      "[검색]\n",
      "과자는(은) 장바구니에 없습니다.\n"
     ]
    }
   ],
   "execution_count": 42
  },
  {
   "metadata": {
    "ExecuteTime": {
     "end_time": "2025-06-13T03:36:04.532496Z",
     "start_time": "2025-06-13T03:36:04.520366Z"
    }
   },
   "cell_type": "code",
   "source": [
    "# 절차 지향적으로 원의 둘레와 넓이 구하기\n",
    "# 원 클래스 정의부\n",
    "class Circle :\n",
    "    def getCircumference(self) :\n",
    "        result = 2 * 3.14159265 * self.radius\n",
    "        return result\n",
    "\n",
    "    def getArea(self) :\n",
    "        result = 3.14159265 * self.radius ** 2\n",
    "        return result\n",
    "\n",
    "# 주프로그램 부\n",
    "small = Circle()\n",
    "big = Circle()\n",
    "\n",
    "small.radius = 1    # 객체 small의 반지름 속성을 1로 설정\n",
    "big.radius = 10     # 객체 big의 반지름 속성을 10으로 설정\n",
    "\n",
    "print(f'반지름 {small.radius}인 원의 ', end='')\n",
    "print(f'둘레는 {small.getCircumference():.2f}이고, ', end='')\n",
    "print(f'넓이는 {small.getArea():.2f}이다.')\n",
    "\n",
    "print(f'반지름 {big.radius}인 원의 ', end='')\n",
    "print(f'둘레는 {big.getCircumference():.2f}이고, ', end='')\n",
    "print(f'넓이는 {big.getArea():.2f}이다.')\n"
   ],
   "id": "caaeb6f408c917ab",
   "outputs": [
    {
     "name": "stdout",
     "output_type": "stream",
     "text": [
      "반지름 1인 원의 둘레는 6.28이고, 넓이는 3.14이다.\n",
      "반지름 10인 원의 둘레는 62.83이고, 넓이는 314.16이다.\n"
     ]
    }
   ],
   "execution_count": 43
  },
  {
   "metadata": {
    "ExecuteTime": {
     "end_time": "2025-06-13T03:46:56.537922Z",
     "start_time": "2025-06-13T03:46:56.526513Z"
    }
   },
   "cell_type": "code",
   "source": [
    "# 원 클래스의 정의\n",
    "class Circle :\n",
    "    def __init__(self, radius) :\n",
    "        self.__radius = radius\n",
    "\n",
    "    def getCircumference(self) :\n",
    "        result = 2 * 3.14159265 * self.__radius\n",
    "        return result\n",
    "\n",
    "    def getArea(self) :\n",
    "        result = 3.14159265 * self.__radius ** 2\n",
    "        return result\n",
    "\n",
    "    def setRadius(self, radius) : #설정된 값을 얻어와주는 메서드\n",
    "        if radius <= 0 :\n",
    "            return False\n",
    "\n",
    "        self.__radius = radius\n",
    "        return True #반환값의 예외처리를 통해서 오류 상황 분별 가능\n",
    "\n",
    "    def getRadius(self) : # 지정된 속성에 새로운 값을 설정하는 메서드\n",
    "        return self.__radius\n",
    "\n",
    "# 주 프로그램부\n",
    "big = Circle(10)\n",
    "big.setRadius(100)\n",
    "print(big.getRadius())\n"
   ],
   "id": "12469cbfeec048fe",
   "outputs": [
    {
     "name": "stdout",
     "output_type": "stream",
     "text": [
      "100\n"
     ]
    }
   ],
   "execution_count": 44
  },
  {
   "metadata": {
    "ExecuteTime": {
     "end_time": "2025-06-13T04:08:20.518985Z",
     "start_time": "2025-06-13T04:08:20.503835Z"
    }
   },
   "cell_type": "code",
   "source": [
    "# 원 클래스의 정의\n",
    "class Circle :\n",
    "    def __init__(self, radius) :\n",
    "        self.__radius = radius\n",
    "\n",
    "    def getCircumference(self) :\n",
    "        result = 2 * 3.14159265 * self.__radius\n",
    "        return result\n",
    "\n",
    "    def getArea(self) :\n",
    "        result = 3.14159265 * self.__radius ** 2\n",
    "        return result\n",
    "\n",
    "    def setRadius(self, radius) :\n",
    "        if radius <= 0 :\n",
    "            return False\n",
    "\n",
    "        self.__radius = radius\n",
    "        return True\n",
    "\n",
    "    def getRadius(self) :\n",
    "        return self.__radius\n",
    "\n",
    "# 주 프로그램부\n",
    "big = Circle(10)\n",
    "big.setRadius(100)\n",
    "print(big.getRadius())\n"
   ],
   "id": "1a50031dcbc01a9c",
   "outputs": [
    {
     "name": "stdout",
     "output_type": "stream",
     "text": [
      "100\n"
     ]
    }
   ],
   "execution_count": 45
  },
  {
   "metadata": {
    "ExecuteTime": {
     "end_time": "2025-06-13T04:17:49.954831Z",
     "start_time": "2025-06-13T04:17:49.943816Z"
    }
   },
   "cell_type": "code",
   "source": [
    "# 연관된 정보로 2차원 상의 한 좌표점을 객체로 표현\n",
    "class Point:\n",
    "    def __init__(self, x=0, y=0):\n",
    "        self.x = x\n",
    "        self.y = y\n",
    "\n",
    "    def show(self): #현재 객체의 좌표값을 문자열로 출력\n",
    "        print(f'({self.x}, {self.y})')\n",
    "\n",
    "    def set(self, x, y): #point 객체에 새로운 좌표값 설정\n",
    "        self.x = x\n",
    "        self.y = y\n",
    "\n",
    "    def get(self): # 객체가 갖고있는 좌표값을 튜플로 변환\n",
    "        return (self.x, self.y)\n",
    "\n",
    "# 사용자 정의 함수부\n",
    "def test():\n",
    "    p1 = Point()\n",
    "    p2 = Point(2, 3)\n",
    "    p1.show()\n",
    "    p1.set(10, 20)\n",
    "    p1.show()\n",
    "    p2.show()\n",
    "    x, y = p2.get()\n",
    "    print(f'x={x}, y={y}')\n",
    "\n",
    "# 주 프로그램부\n",
    "if __name__ == '__main__':\n",
    "    test()\n"
   ],
   "id": "f2db1df6cde04939",
   "outputs": [
    {
     "name": "stdout",
     "output_type": "stream",
     "text": [
      "(0, 0)\n",
      "(10, 20)\n",
      "(2, 3)\n",
      "x=2, y=3\n"
     ]
    }
   ],
   "execution_count": 46
  },
  {
   "metadata": {
    "ExecuteTime": {
     "end_time": "2025-06-13T04:22:50.131467Z",
     "start_time": "2025-06-13T04:22:50.117084Z"
    }
   },
   "cell_type": "code",
   "source": [
    "class Time:\n",
    "    def __init__(self, hour=0, minute=0):\n",
    "        #객체 생성시 설정할 시분을 인수로 전달받는 생성자 정의\n",
    "        self.hour = hour\n",
    "        self.minute = minute\n",
    "\n",
    "    def display(self):\n",
    "        # time객체 시각 출력 - 시각을 \"HH:MM\" 형식으로 출력\n",
    "        print(f'{self.hour:02}:{self.minute:02}')\n",
    "\n",
    "    def add(self, other):\n",
    "        # 입력받은 시각을 현재 시각에 더한 결과를 반환 - 시간과 분을 합산\n",
    "        total_hours = self.hour + other.hour\n",
    "        total_minutes = self.minute + other.minute\n",
    "\n",
    "        # 60분을 초과하면 시간으로 변환\n",
    "        if total_minutes >= 60:\n",
    "            total_hours += total_minutes // 60\n",
    "            total_minutes %= 60\n",
    "\n",
    "        # 24시를 넘지 않도록 조정\n",
    "        total_hours %= 24\n",
    "\n",
    "        # 결과를 새 Time 객체로 반환\n",
    "        return Time(total_hours, total_minutes)\n",
    "\n",
    "    @staticmethod\n",
    "    def is_valid(hour, minute):\n",
    "        # 유효한 시각인지 확인\n",
    "        return 0 <= hour <= 23 and 0 <= minute <= 59\n",
    "\n",
    "# 사용자 정의 함수부\n",
    "def main():\n",
    "    t1 = Time(9)\n",
    "    t2 = Time(9, 30)\n",
    "    t1.display()\n",
    "    t2.display()\n",
    "\n",
    "    later = t1.add(Time(1, 15))\n",
    "    later.display()\n",
    "\n",
    "    if Time.is_valid(25, 0):\n",
    "        print('유효한 시각')\n",
    "    else:\n",
    "        print('유효하지 않은 시각')\n",
    "\n",
    "# 주 프로그램부\n",
    "if __name__ == '__main__':\n",
    "    main()\n"
   ],
   "id": "c37531467bdc60dc",
   "outputs": [
    {
     "name": "stdout",
     "output_type": "stream",
     "text": [
      "09:00\n",
      "09:30\n",
      "10:15\n",
      "유효하지 않은 시각\n"
     ]
    }
   ],
   "execution_count": 47
  },
  {
   "metadata": {
    "ExecuteTime": {
     "end_time": "2025-06-13T04:33:10.920830Z",
     "start_time": "2025-06-13T04:33:10.905447Z"
    }
   },
   "cell_type": "code",
   "source": [
    "class Point:\n",
    "    def __init__(self, x=0, y=0):\n",
    "        self.x = x\n",
    "        self.y = y\n",
    "\n",
    "    def show(self):\n",
    "        print(f'({self.x}, {self.y})')\n",
    "\n",
    "\n",
    "class Rectangle:\n",
    "    def __init__(self, x1, y1, x2, y2):\n",
    "        self.lt = Point(x1, y1)\n",
    "        self.rb = Point(x2, y2)\n",
    "\n",
    "    def show(self):\n",
    "        print(f'좌측 상단 꼭짓점이 ({self.lt.x}, {self.lt.y})이고 '\n",
    "              f'우측 하단 꼭짓점이 ({self.rb.x}, {self.rb.y})인 사각형입니다.')\n",
    "\n",
    "    def getWidth(self):\n",
    "        return self.rb.x - self.lt.x\n",
    "\n",
    "    def getHeight(self):\n",
    "        return self.rb.y - self.lt.y\n",
    "\n",
    "    def getArea(self):\n",
    "        return self.getWidth() * self.getHeight()\n",
    "\n",
    "    def getPerimeter(self):\n",
    "        return 2 * (self.getWidth() + self.getHeight())\n",
    "\n",
    "\n",
    "# 주 프로그램부\n",
    "r1 = Rectangle(5, 5, 20, 10)\n",
    "a = r1.getArea()\n",
    "p = r1.getPerimeter()\n",
    "\n",
    "r1.show()\n",
    "print(f'\\n넓이는 {a}, 둘레는 {p}')\n"
   ],
   "id": "97f71df0a3286b76",
   "outputs": [
    {
     "name": "stdout",
     "output_type": "stream",
     "text": [
      "좌측 상단 꼭짓점이 (5, 5)이고 우측 하단 꼭짓점이 (20, 10)인 사각형입니다.\n",
      "\n",
      "넓이는 75, 둘레는 40\n"
     ]
    }
   ],
   "execution_count": 48
  },
  {
   "metadata": {
    "ExecuteTime": {
     "end_time": "2025-06-13T04:43:14.044815Z",
     "start_time": "2025-06-13T04:43:13.931326Z"
    }
   },
   "cell_type": "code",
   "source": [
    "file = open('example.txt', 'r')    # 존재하지 않는 파일을 읽기모드로 열기 -> FileNotFoundError 발생\n",
    "file.close()\n",
    "print('파일 열고 닫기 완료')\n"
   ],
   "id": "f6685853e3836cc1",
   "outputs": [
    {
     "ename": "FileNotFoundError",
     "evalue": "[Errno 2] No such file or directory: 'example.txt'",
     "output_type": "error",
     "traceback": [
      "\u001B[0;31m---------------------------------------------------------------------------\u001B[0m",
      "\u001B[0;31mFileNotFoundError\u001B[0m                         Traceback (most recent call last)",
      "Cell \u001B[0;32mIn[49], line 1\u001B[0m\n\u001B[0;32m----> 1\u001B[0m file \u001B[38;5;241m=\u001B[39m \u001B[38;5;28;43mopen\u001B[39;49m\u001B[43m(\u001B[49m\u001B[38;5;124;43m'\u001B[39;49m\u001B[38;5;124;43mexample.txt\u001B[39;49m\u001B[38;5;124;43m'\u001B[39;49m\u001B[43m,\u001B[49m\u001B[43m \u001B[49m\u001B[38;5;124;43m'\u001B[39;49m\u001B[38;5;124;43mr\u001B[39;49m\u001B[38;5;124;43m'\u001B[39;49m\u001B[43m)\u001B[49m    \u001B[38;5;66;03m# 읽기모드로 텍스트파일 열기\u001B[39;00m\n\u001B[1;32m      2\u001B[0m file\u001B[38;5;241m.\u001B[39mclose()\n\u001B[1;32m      3\u001B[0m \u001B[38;5;28mprint\u001B[39m(\u001B[38;5;124m'\u001B[39m\u001B[38;5;124m파일 열고 닫기 완료\u001B[39m\u001B[38;5;124m'\u001B[39m)\n",
      "File \u001B[0;32m~/Library/Python/3.9/lib/python/site-packages/IPython/core/interactiveshell.py:310\u001B[0m, in \u001B[0;36m_modified_open\u001B[0;34m(file, *args, **kwargs)\u001B[0m\n\u001B[1;32m    303\u001B[0m \u001B[38;5;28;01mif\u001B[39;00m file \u001B[38;5;129;01min\u001B[39;00m {\u001B[38;5;241m0\u001B[39m, \u001B[38;5;241m1\u001B[39m, \u001B[38;5;241m2\u001B[39m}:\n\u001B[1;32m    304\u001B[0m     \u001B[38;5;28;01mraise\u001B[39;00m \u001B[38;5;167;01mValueError\u001B[39;00m(\n\u001B[1;32m    305\u001B[0m         \u001B[38;5;124mf\u001B[39m\u001B[38;5;124m\"\u001B[39m\u001B[38;5;124mIPython won\u001B[39m\u001B[38;5;124m'\u001B[39m\u001B[38;5;124mt let you open fd=\u001B[39m\u001B[38;5;132;01m{\u001B[39;00mfile\u001B[38;5;132;01m}\u001B[39;00m\u001B[38;5;124m by default \u001B[39m\u001B[38;5;124m\"\u001B[39m\n\u001B[1;32m    306\u001B[0m         \u001B[38;5;124m\"\u001B[39m\u001B[38;5;124mas it is likely to crash IPython. If you know what you are doing, \u001B[39m\u001B[38;5;124m\"\u001B[39m\n\u001B[1;32m    307\u001B[0m         \u001B[38;5;124m\"\u001B[39m\u001B[38;5;124myou can use builtins\u001B[39m\u001B[38;5;124m'\u001B[39m\u001B[38;5;124m open.\u001B[39m\u001B[38;5;124m\"\u001B[39m\n\u001B[1;32m    308\u001B[0m     )\n\u001B[0;32m--> 310\u001B[0m \u001B[38;5;28;01mreturn\u001B[39;00m \u001B[43mio_open\u001B[49m\u001B[43m(\u001B[49m\u001B[43mfile\u001B[49m\u001B[43m,\u001B[49m\u001B[43m \u001B[49m\u001B[38;5;241;43m*\u001B[39;49m\u001B[43margs\u001B[49m\u001B[43m,\u001B[49m\u001B[43m \u001B[49m\u001B[38;5;241;43m*\u001B[39;49m\u001B[38;5;241;43m*\u001B[39;49m\u001B[43mkwargs\u001B[49m\u001B[43m)\u001B[49m\n",
      "\u001B[0;31mFileNotFoundError\u001B[0m: [Errno 2] No such file or directory: 'example.txt'"
     ]
    }
   ],
   "execution_count": 49
  },
  {
   "metadata": {
    "ExecuteTime": {
     "end_time": "2025-06-13T04:52:00.771535Z",
     "start_time": "2025-06-13T04:52:00.765638Z"
    }
   },
   "cell_type": "code",
   "source": [
    "import os\n",
    "\n",
    "filename = 'example.txt'\n",
    "if os.path.exists(filename):    # 파일이 존재하는지 검사\n",
    "    file = open(filename, 'r')      # 텍스트 파일읽기모드로 열기\n",
    "    file.close()                    # 파일 닫기\n",
    "    print('파일 열고 닫기 완료')\n",
    "else:\n",
    "    print(f'ERROR: {filename}이 존재하지 않습니다!')\n",
    "\n",
    "print('끝')\n",
    "\n",
    "if not(os.path.isdir('data')):\n",
    "        os.makedirs('data')"
   ],
   "id": "947c92c60fea2ebf",
   "outputs": [
    {
     "name": "stdout",
     "output_type": "stream",
     "text": [
      "ERROR: example.txt이 존재하지 않습니다!\n",
      "끝\n"
     ]
    }
   ],
   "execution_count": 51
  },
  {
   "metadata": {
    "ExecuteTime": {
     "end_time": "2025-06-13T04:57:46.058125Z",
     "start_time": "2025-06-13T04:57:46.047503Z"
    }
   },
   "cell_type": "code",
   "source": [
    "num = 2\n",
    "name = '홍길동'\n",
    "\n",
    "with open('data/example.txt', 'w') as file:\n",
    "    file.write('1 이찬수\\n')    # 하나의 문자열을 저장\n",
    "    file.write(f'{num} {name}\\n')\n",
    "\n",
    "print('끝')\n",
    "\n",
    "with open('data/example.txt', 'r') as file:\n",
    "    all = file.read()    # 전체 내용을 하나의 문자열로 반환\n",
    "\n",
    "print(all)\n",
    "\n",
    "lines = []\n",
    "with open('data/example.txt', 'r') as file:\n",
    "    lines = file.readlines()    # 전체를 하나의 리스트로 반환\n",
    "\n",
    "print(lines)\n"
   ],
   "id": "3d6287d597a40f1a",
   "outputs": [
    {
     "name": "stdout",
     "output_type": "stream",
     "text": [
      "끝\n",
      "1 이찬수\n",
      "2 홍길동\n",
      "\n"
     ]
    }
   ],
   "execution_count": 53
  },
  {
   "metadata": {
    "ExecuteTime": {
     "end_time": "2025-06-13T05:00:08.856932Z",
     "start_time": "2025-06-13T05:00:08.848512Z"
    }
   },
   "cell_type": "code",
   "source": [
    "lines = []\n",
    "with open('data/example.txt', 'r') as file:\n",
    "    while True:\n",
    "        line = file.readline()    # 한 줄을 읽어 반환\n",
    "\n",
    "        if line == '': # 파일 끝에 도착하면 빈 문자열 '' 반환\n",
    "            break\n",
    "\n",
    "        lines.append(line.strip())\n",
    "        #문자열 line앞뒤의 공백 문자를 제거해서 리스트 lines에 추가\n",
    "\n",
    "print(lines)\n"
   ],
   "id": "c67fe07c3e2ba7fb",
   "outputs": [
    {
     "name": "stdout",
     "output_type": "stream",
     "text": [
      "['1 이찬수', '2 홍길동']\n"
     ]
    }
   ],
   "execution_count": 54
  },
  {
   "metadata": {
    "ExecuteTime": {
     "end_time": "2025-06-13T05:06:09.737268Z",
     "start_time": "2025-06-13T05:06:09.722958Z"
    }
   },
   "cell_type": "code",
   "source": [
    "import pickle\n",
    "\n",
    "filepath = 'data/example.bin'    # 데이터파일에 대한 파일경로명\n",
    "\n",
    "# 사용자 정의 함수부\n",
    "def save_data(num, name, height, scores):  # 피클링하여 저장\n",
    "    with open(filepath, 'wb') as file:\n",
    "        pickle.dump(num, file)\n",
    "        pickle.dump(name, file)\n",
    "        pickle.dump(height, file)\n",
    "        pickle.dump(scores, file)\n",
    "\n",
    "def load_data():    # 언피클링해 반환\n",
    "    with open(filepath, 'rb') as file:\n",
    "        num = pickle.load(file)\n",
    "        name = pickle.load(file)\n",
    "        height = pickle.load(file)\n",
    "        scores = pickle.load(file)\n",
    "\n",
    "    return num, name, height, scores    # 튜플로 반환\n",
    "\n",
    "# 주 프로그램부\n",
    "num, name, height = 123, '홍길동', 180.5\n",
    "scores = {'mid': 90, 'fin': 95, 'rep': 10, 'att': 10}\n",
    "\n",
    "# 저장하기\n",
    "save_data(num, name, height, scores)\n",
    "\n",
    "# 불러오기\n",
    "r_num, r_name, r_height, r_scores = load_data()\n",
    "\n",
    "# 불러온 값 출력\n",
    "print(r_num)\n",
    "print(r_name)\n",
    "print(r_height)\n",
    "print(r_scores)\n"
   ],
   "id": "f08bf628a04a319f",
   "outputs": [
    {
     "name": "stdout",
     "output_type": "stream",
     "text": [
      "123\n",
      "홍길동\n",
      "180.5\n",
      "{'mid': 90, 'fin': 95, 'rep': 10, 'att': 10}\n"
     ]
    }
   ],
   "execution_count": 55
  },
  {
   "metadata": {
    "ExecuteTime": {
     "end_time": "2025-06-13T05:15:28.670898Z",
     "start_time": "2025-06-13T05:15:28.659933Z"
    }
   },
   "cell_type": "code",
   "source": [
    "# 텍스트 파일을 행 번호와 함께 출력하는 프로그램\n",
    "\n",
    "filename = \"readme.txt\"\n",
    "\n",
    "try:\n",
    "    with open(filename, encoding='utf-8') as f:\n",
    "        print(f\"파일명: {filename}\")\n",
    "        for i, line in enumerate(f, start=1):\n",
    "            print(f\"{i}: {line.strip()}\")\n",
    "except FileNotFoundError:\n",
    "    print(f\"{filename} 파일을 찾을 수 없습니다.\")\n",
    "except UnicodeDecodeError:\n",
    "    print(\"인코딩 문제 발생: 'utf-8' 대신 'cp949' 또는 다른 인코딩을 시도해보세요.\")"
   ],
   "id": "4a5c9123cbb69f18",
   "outputs": [
    {
     "name": "stdout",
     "output_type": "stream",
     "text": [
      "readme.txt 파일을 찾을 수 없습니다.\n"
     ]
    }
   ],
   "execution_count": 56
  },
  {
   "metadata": {
    "ExecuteTime": {
     "end_time": "2025-06-13T05:17:35.046561Z",
     "start_time": "2025-06-13T05:17:26.389826Z"
    }
   },
   "cell_type": "code",
   "source": [
    "import os\n",
    "import pickle\n",
    "\n",
    "FILENAME = \"shoppingbag.txt\"\n",
    "\n",
    "def load_data():\n",
    "    if os.path.exists(FILENAME):\n",
    "        with open(FILENAME, \"rb\") as f:\n",
    "            print(\">>> [파일 읽기]\")\n",
    "            return pickle.load(f)\n",
    "    return {}\n",
    "\n",
    "def save_data(data):\n",
    "    with open(FILENAME, \"wb\") as f:\n",
    "        pickle.dump(data, f)\n",
    "\n",
    "def buy(shopping_bag):\n",
    "    print(\"\\n[구입]\")\n",
    "    item = input(\"상품명? \")\n",
    "    if item == \"\":\n",
    "        return False\n",
    "    qty = int(input(\"수량은? \"))\n",
    "    shopping_bag[item] = shopping_bag.get(item, 0) + qty\n",
    "    print(f\"장바구니에 {item}가(이) {qty}개 담겼습니다.\")\n",
    "    return True\n",
    "\n",
    "def show(shopping_bag):\n",
    "    print(\"\\n>>> 장바구니 보기:\")\n",
    "    for item, qty in shopping_bag.items():\n",
    "        print(f\"{item} {qty}개\")\n",
    "\n",
    "def find(shopping_bag):\n",
    "    print(\"\\n[검색]\")\n",
    "    item = input(\"장바구니에서 확인하고자 하는 상품은? : \")\n",
    "    if item in shopping_bag:\n",
    "        print(f\"{item}는(은) {shopping_bag[item]}개 담겨있습니다.\")\n",
    "    else:\n",
    "        print(f\"{item}는(은) 장바구니에 없습니다.\")\n",
    "\n",
    "# ▶ 주 프로그램\n",
    "shopping_bag = load_data()\n",
    "\n",
    "while True:\n",
    "    if not buy(shopping_bag):\n",
    "        break\n",
    "\n",
    "show(shopping_bag)\n",
    "find(shopping_bag)\n",
    "save_data(shopping_bag)"
   ],
   "id": "3554cf69c6350d60",
   "outputs": [
    {
     "name": "stdout",
     "output_type": "stream",
     "text": [
      ">>> [파일 읽기]\n",
      "\n",
      "[구입]\n",
      "장바구니에 바나나가(이) 3개 담겼습니다.\n",
      "\n",
      "[구입]\n",
      "장바구니에 키위가(이) 4개 담겼습니다.\n",
      "\n",
      "[구입]\n",
      "\n",
      ">>> 장바구니 보기:\n",
      "바나나 6개\n",
      "키위 8개\n",
      "\n",
      "[검색]\n",
      "바나나는(은) 6개 담겨있습니다.\n"
     ]
    }
   ],
   "execution_count": 59
  },
  {
   "metadata": {
    "ExecuteTime": {
     "end_time": "2025-06-13T05:26:13.934892Z",
     "start_time": "2025-06-13T05:26:13.914178Z"
    }
   },
   "cell_type": "code",
   "source": [
    "from datetime import datetime\n",
    "import os\n",
    "\n",
    "class Time:\n",
    "    def __init__(self, hour=0, minute=0):\n",
    "        self.hour = hour\n",
    "        self.minute = minute\n",
    "\n",
    "    def display(self):\n",
    "        print(f'{self.hour:02}:{self.minute:02}')\n",
    "\n",
    "    def __str__(self):\n",
    "        return f'{self.hour:02}:{self.minute:02}'\n",
    "\n",
    "    def add(self, other):\n",
    "        total_hours = self.hour + other.hour\n",
    "        total_minutes = self.minute + other.minute\n",
    "\n",
    "        if total_minutes >= 60:\n",
    "            total_hours += total_minutes // 60\n",
    "            total_minutes %= 60\n",
    "\n",
    "        total_hours %= 24\n",
    "        return Time(total_hours, total_minutes)\n",
    "\n",
    "    @staticmethod\n",
    "    def is_valid(hour, minute):\n",
    "        return 0 <= hour <= 23 and 0 <= minute <= 59\n",
    "\n",
    "# -------- 사용자 정의 함수들 --------\n",
    "\n",
    "def get_current_time():\n",
    "    now = datetime.now()\n",
    "    return Time(now.hour, now.minute)\n",
    "\n",
    "def save_time(time):\n",
    "    with open(\"last.dat\", \"w\") as f:\n",
    "        f.write(f\"{time.hour} {time.minute}\")\n",
    "\n",
    "def load_time():\n",
    "    if not os.path.exists(\"last.dat\"):\n",
    "        return None\n",
    "    with open(\"last.dat\", \"r\") as f:\n",
    "        hour, minute = map(int, f.read().split())\n",
    "        return Time(hour, minute)\n",
    "\n",
    "# -------- 실행 부분 --------\n",
    "\n",
    "def main():\n",
    "    current = get_current_time()\n",
    "    last_time = load_time()\n",
    "\n",
    "    if last_time is None:\n",
    "        print(\"안녕하세요, 처음 실행되었습니다.\")\n",
    "    else:\n",
    "        print(f\"안녕하세요, 마지막으로 {last_time}에 실행되었습니다.\")\n",
    "\n",
    "    print(f\"지금은 {current} 입니다.\")\n",
    "\n",
    "    save_time(current)\n",
    "\n",
    "if __name__ == \"__main__\":\n",
    "    main()"
   ],
   "id": "f8659511244dbc17",
   "outputs": [
    {
     "name": "stdout",
     "output_type": "stream",
     "text": [
      "안녕하세요, 처음 실행되었습니다.\n",
      "지금은 14:26 입니다.\n"
     ]
    }
   ],
   "execution_count": 60
  },
  {
   "metadata": {
    "ExecuteTime": {
     "end_time": "2025-06-13T05:30:14.095721Z",
     "start_time": "2025-06-13T05:30:14.085634Z"
    }
   },
   "cell_type": "code",
   "source": [
    "import os\n",
    "\n",
    "def input_scores():\n",
    "    scores = []\n",
    "    i = 1\n",
    "    while True:\n",
    "        score = int(input(f\"# {i}? \"))\n",
    "        if score < 0:\n",
    "            break\n",
    "        scores.append(score)\n",
    "        i += 1\n",
    "    return scores\n",
    "\n",
    "def get_average(scores):\n",
    "    if len(scores) == 0:\n",
    "        return 0\n",
    "    return round(sum(scores) / len(scores), 1)\n",
    "\n",
    "def show_scores(scores):\n",
    "    print(\"[점수 출력]\")\n",
    "    print(\"개인점수:\", end=\" \")\n",
    "    for score in scores:\n",
    "        print(score, end=\" \")\n",
    "    print()\n",
    "\n",
    "def save_scores(scores, filename=\"score.txt\"):\n",
    "    with open(filename, \"w\") as f:\n",
    "        for score in scores:\n",
    "            f.write(f\"{score}\\n\")\n",
    "\n",
    "def load_scores(filename=\"score.txt\"):\n",
    "    if not os.path.exists(filename):\n",
    "        return None\n",
    "    with open(filename, \"r\") as f:\n",
    "        return [int(line.strip()) for line in f if line.strip().isdigit()]\n",
    "\n",
    "# 메인 프로그램\n",
    "filename = \"score.txt\"\n",
    "scores = load_scores(filename)\n",
    "\n",
    "if scores is None:\n",
    "    print(\"[점수 입력]\")\n",
    "    scores = input_scores()\n",
    "    save_scores(scores, filename)\n",
    "else:\n",
    "    print(\"[파일 읽기]\")\n",
    "\n",
    "show_scores(scores)\n",
    "avg = get_average(scores)\n",
    "print(\"평균:\", avg)"
   ],
   "id": "fab989d305ce83a7",
   "outputs": [
    {
     "name": "stdout",
     "output_type": "stream",
     "text": [
      "[파일 읽기]\n",
      "[점수 출력]\n",
      "개인점수: 30 5 \n",
      "평균: 17.5\n"
     ]
    }
   ],
   "execution_count": 62
  },
  {
   "metadata": {},
   "cell_type": "code",
   "outputs": [],
   "execution_count": null,
   "source": [
    "#섭씨 화씨\n",
    "import tkinter as tk\n",
    "\n",
    "def fahrenheit_to_celsius():\n",
    "    try:\n",
    "        f = float(f_entry.get())\n",
    "        c = (f - 32) / 1.8\n",
    "        c_var.set(f\"{c:.2f}\")\n",
    "    except ValueError:\n",
    "        c_var.set(\"입력 오류\")\n",
    "\n",
    "def celsius_to_fahrenheit():\n",
    "    try:\n",
    "        c = float(c_entry.get())\n",
    "        f = (c * 1.8) + 32\n",
    "        f_var.set(f\"{f:.2f}\")\n",
    "    except ValueError:\n",
    "        f_var.set(\"입력 오류\")\n",
    "\n",
    "def reset():\n",
    "    f_var.set(\"\")\n",
    "    c_var.set(\"\")\n",
    "\n",
    "def quit_app():\n",
    "    win.destroy()\n",
    "\n",
    "# 윈도우 생성\n",
    "win = tk.Tk()\n",
    "win.title(\"온도변환기-1단계\")\n",
    "\n",
    "# 변수 생성\n",
    "f_var = tk.StringVar()\n",
    "c_var = tk.StringVar()\n",
    "\n",
    "# 위젯 생성\n",
    "tk.Label(win, text=\"화씨\").pack()\n",
    "f_entry = tk.Entry(win, textvariable=f_var)\n",
    "f_entry.pack()\n",
    "\n",
    "tk.Label(win, text=\"섭씨\").pack()\n",
    "c_entry = tk.Entry(win, textvariable=c_var)\n",
    "c_entry.pack()\n",
    "\n",
    "tk.Button(win, text=\"화씨->섭씨\", command=fahrenheit_to_celsius).pack()\n",
    "tk.Button(win, text=\"섭씨->화씨\", command=celsius_to_fahrenheit).pack()\n",
    "tk.Button(win, text=\"초기화\", command=reset).pack()\n",
    "tk.Button(win, text=\"종료\", command=quit_app).pack()\n",
    "\n",
    "# GUI 실행\n",
    "win.mainloop()\n"
   ],
   "id": "c82bdcf2634fa9cc"
  },
  {
   "metadata": {},
   "cell_type": "code",
   "outputs": [],
   "execution_count": null,
   "source": [
    "단어장 프로그램\n",
    "#사용자 정보 입력을 처리하는 프로그램\n",
    "import tkinter as tk\n",
    "from tkinter import ttk\n",
    "\n",
    "def show_info():\n",
    "    print(name_var.get())               # 이름 출력\n",
    "    print(grade_var.get())              # 학년 출력 (1, 2, 3, 4)\n",
    "\n",
    "    # 선택된 취미만 출력\n",
    "    hobbies = []\n",
    "    for hobby, var in hobby_vars.items():\n",
    "        if var.get():\n",
    "            hobbies.append(hobby)\n",
    "    for h in hobbies:\n",
    "        print(h)\n",
    "\n",
    "def quit_app():\n",
    "    win.destroy()\n",
    "\n",
    "# 윈도우 생성\n",
    "win = tk.Tk()\n",
    "win.title(\"회원 가입\")\n",
    "\n",
    "# 이름\n",
    "tk.Label(win, text=\"이름:\").grid(row=0, column=0, sticky='e')\n",
    "name_var = tk.StringVar()\n",
    "tk.Entry(win, textvariable=name_var, width=20).grid(row=0, column=1, columnspan=4, sticky='w')\n",
    "\n",
    "# 학년 (라디오버튼)\n",
    "tk.Label(win, text=\"학년:\").grid(row=1, column=0, sticky='e')\n",
    "grade_var = tk.StringVar()\n",
    "grade_var.set(\"1\")  # 기본값\n",
    "\n",
    "grades = ['1학년', '2학년', '3학년', '4학년']\n",
    "for idx, label in enumerate(grades):\n",
    "    tk.Radiobutton(win, text=label, variable=grade_var, value=label[0]).grid(row=1, column=idx+1, sticky='w')\n",
    "\n",
    "# 취미 (체크박스)\n",
    "tk.Label(win, text=\"취미:\").grid(row=2, column=0, sticky='ne')\n",
    "hobby_names = ['영화시청', '음악감상', '사진찍기', '운동']\n",
    "hobby_vars = {}\n",
    "for idx, hobby in enumerate(hobby_names):\n",
    "    var = tk.BooleanVar()\n",
    "    tk.Checkbutton(win, text=hobby, variable=var).grid(row=2, column=idx+1, sticky='w')\n",
    "    hobby_vars[hobby] = var\n",
    "\n",
    "# 버튼\n",
    "tk.Button(win, text=\"입력\", command=show_info).grid(row=3, column=1, pady=5)\n",
    "tk.Button(win, text=\"종료\", command=quit_app).grid(row=3, column=2, pady=5)\n",
    "\n",
    "# GUI 실행\n",
    "win.mainloop()\n"
   ],
   "id": "4d8477805d8355dc"
  },
  {
   "metadata": {},
   "cell_type": "code",
   "outputs": [],
   "execution_count": null,
   "source": "",
   "id": "8110aab4d8e23cd5"
  }
 ],
 "metadata": {
  "kernelspec": {
   "display_name": "Python 3",
   "language": "python",
   "name": "python3"
  },
  "language_info": {
   "codemirror_mode": {
    "name": "ipython",
    "version": 2
   },
   "file_extension": ".py",
   "mimetype": "text/x-python",
   "name": "python",
   "nbconvert_exporter": "python",
   "pygments_lexer": "ipython2",
   "version": "2.7.6"
  }
 },
 "nbformat": 4,
 "nbformat_minor": 5
}
