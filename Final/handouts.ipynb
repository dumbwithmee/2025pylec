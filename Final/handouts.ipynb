{
 "cells": [
  {
   "metadata": {},
   "cell_type": "markdown",
   "source": "리스트 슬라이스 : 앞에껀 포함, 뒤에껀 제외",
   "id": "31af93d21398d1ef"
  },
  {
   "metadata": {
    "collapsed": true,
    "ExecuteTime": {
     "end_time": "2025-06-12T03:52:06.125389Z",
     "start_time": "2025-06-12T03:52:06.118934Z"
    }
   },
   "cell_type": "code",
   "source": [
    "list1 = [11, 22, 33, 44, 55]\n",
    "sub_list = list1[1:3]\n",
    "print(sub_list)       # [22, 33]이 출력\n",
    "print(sub_list[0])    # 22가 출력"
   ],
   "id": "initial_id",
   "outputs": [
    {
     "name": "stdout",
     "output_type": "stream",
     "text": [
      "[22, 33]\n",
      "22\n"
     ]
    }
   ],
   "execution_count": 1
  },
  {
   "metadata": {
    "ExecuteTime": {
     "end_time": "2025-06-12T04:00:02.106102Z",
     "start_time": "2025-06-12T04:00:02.097050Z"
    }
   },
   "cell_type": "code",
   "source": [
    "nums = [11, 22, 33, 44, 55]\n",
    "\n",
    "nums[0] = -1\n",
    "print(nums)    # [-1, 22, 33, 44, 55]\n",
    "\n",
    "# 여러개를 대체하고 싶으면 리스트 슬라이스 사 -> 슬라이싱으로는 1:N 대체 가능\n",
    "nums[1:3] = [100, 200, 300]\n",
    "print(nums)    # [-1, 100, 200, 300, 44, 55]\n",
    "\n",
    "# 한 요소는 하나로 대체한다 -> 오류 가능\n",
    "nums[1] = [100, 200, 300]\n",
    "print(nums) # [-1, [100, 200, 300], 33, 44, 55]"
   ],
   "id": "39b31bf7f30cb44",
   "outputs": [
    {
     "name": "stdout",
     "output_type": "stream",
     "text": [
      "[-1, 22, 33, 44, 55]\n",
      "[-1, 100, 200, 300, 44, 55]\n",
      "[-1, [100, 200, 300], 200, 300, 44, 55]\n"
     ]
    }
   ],
   "execution_count": 2
  }
 ],
 "metadata": {
  "kernelspec": {
   "display_name": "Python 3",
   "language": "python",
   "name": "python3"
  },
  "language_info": {
   "codemirror_mode": {
    "name": "ipython",
    "version": 2
   },
   "file_extension": ".py",
   "mimetype": "text/x-python",
   "name": "python",
   "nbconvert_exporter": "python",
   "pygments_lexer": "ipython2",
   "version": "2.7.6"
  }
 },
 "nbformat": 4,
 "nbformat_minor": 5
}
