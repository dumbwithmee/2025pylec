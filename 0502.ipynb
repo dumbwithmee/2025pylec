{
 "cells": [
  {
   "cell_type": "code",
   "id": "initial_id",
   "metadata": {
    "collapsed": true,
    "ExecuteTime": {
     "end_time": "2025-05-02T06:32:03.077859Z",
     "start_time": "2025-05-02T06:32:03.071230Z"
    }
   },
   "source": [
    "list1 = [11,22,33,44,55]\n",
    "list2 = [\"aa\",\"bb\",\"cc\"]\n",
    "list3 = []\n",
    "\n",
    "print(list1)\n",
    "print(list2)\n",
    "print(list3)"
   ],
   "outputs": [
    {
     "name": "stdout",
     "output_type": "stream",
     "text": [
      "[11, 22, 33, 44, 55]\n",
      "['aa', 'bb', 'cc']\n",
      "[]\n"
     ]
    }
   ],
   "execution_count": 1
  },
  {
   "metadata": {
    "ExecuteTime": {
     "end_time": "2025-05-02T06:35:12.047470Z",
     "start_time": "2025-05-02T06:35:12.036997Z"
    }
   },
   "cell_type": "code",
   "source": [
    "list4 = [11,\"홍길동\",19,180.5]\n",
    "list5 = [11,\"홍길동\",[10,92,100]]\n",
    "\n",
    "print(list4)\n",
    "print(list5)"
   ],
   "id": "4b9fa52e6fd83d21",
   "outputs": [
    {
     "name": "stdout",
     "output_type": "stream",
     "text": [
      "[11, '홍길동', 19, 180.5]\n",
      "[11, '홍길동', [10, 92, 100]]\n"
     ]
    }
   ],
   "execution_count": 2
  },
  {
   "metadata": {
    "ExecuteTime": {
     "end_time": "2025-05-02T06:44:23.026581Z",
     "start_time": "2025-05-02T06:44:23.012246Z"
    }
   },
   "cell_type": "code",
   "source": [
    "#9-4\n",
    "list4 = [11,\"홍길동\",19,180.5]\n",
    "print(list4[1],\"님의 키는 \",list4[-1],\"cm 입니다.\")"
   ],
   "id": "d23a473f040dee4a",
   "outputs": [
    {
     "name": "stdout",
     "output_type": "stream",
     "text": [
      "홍길동 님의 키는  180.5 cm 입니다.\n"
     ]
    }
   ],
   "execution_count": 3
  },
  {
   "metadata": {
    "ExecuteTime": {
     "end_time": "2025-05-02T06:47:31.511436Z",
     "start_time": "2025-05-02T06:47:31.504772Z"
    }
   },
   "cell_type": "code",
   "source": [
    "#9-5\n",
    "list1 = [11,22,33,44,55]\n",
    "sublist1 = list1[1:3]\n",
    "print(sublist1) # list를 출력\n",
    "print(sublist1[1]) # l"
   ],
   "id": "739ee321fde6037d",
   "outputs": [
    {
     "name": "stdout",
     "output_type": "stream",
     "text": [
      "[22, 33]\n",
      "33\n"
     ]
    }
   ],
   "execution_count": 6
  },
  {
   "metadata": {
    "ExecuteTime": {
     "end_time": "2025-05-02T06:50:50.175129Z",
     "start_time": "2025-05-02T06:50:50.167798Z"
    }
   },
   "cell_type": "code",
   "source": [
    "nums = [11,22,33,44,55]\n",
    "\n",
    "nums[0] = 999\n",
    "print(nums)\n",
    "\n",
    "nums[1:3] = [100,200,300]\n",
    "print(nums)"
   ],
   "id": "b86d141ee2b89ce",
   "outputs": [
    {
     "name": "stdout",
     "output_type": "stream",
     "text": [
      "[999, 22, 33, 44, 55]\n",
      "[999, 100, 200, 300, 44, 55]\n"
     ]
    }
   ],
   "execution_count": 8
  },
  {
   "metadata": {
    "ExecuteTime": {
     "end_time": "2025-05-02T07:07:28.501145Z",
     "start_time": "2025-05-02T07:07:28.484476Z"
    }
   },
   "cell_type": "code",
   "source": [
    "nums1 = [11,22,33]\n",
    "nums2 = []\n",
    "\n",
    "nums2 = nums1 # 아이디를 넣은거임\n",
    "\n",
    "nums2[0]=0 # nums2에 0 아이디 값을 넣은 것이므로\n",
    "print(nums1) # nums1에 있는 11도 0으로 변경된다\n",
    "print(nums2)"
   ],
   "id": "df4c166dcfc4e614",
   "outputs": [
    {
     "name": "stdout",
     "output_type": "stream",
     "text": [
      "[0, 22, 33]\n",
      "[0, 22, 33]\n"
     ]
    }
   ],
   "execution_count": 9
  },
  {
   "metadata": {
    "ExecuteTime": {
     "end_time": "2025-05-02T07:14:01.159942Z",
     "start_time": "2025-05-02T07:14:01.141976Z"
    }
   },
   "cell_type": "code",
   "source": [
    "nums1 = [11,22,33]\n",
    "nums2 = [44,55]\n",
    "\n",
    "nums3 = nums1 + nums2\n",
    "print(nums3)\n",
    "\n",
    "nums4 = nums1 * 2\n",
    "print(nums4)"
   ],
   "id": "a86a63342f8673ff",
   "outputs": [
    {
     "name": "stdout",
     "output_type": "stream",
     "text": [
      "[11, 22, 33, 44, 55]\n",
      "[11, 22, 33, 11, 22, 33]\n"
     ]
    }
   ],
   "execution_count": 10
  },
  {
   "metadata": {
    "ExecuteTime": {
     "end_time": "2025-05-02T07:15:31.579918Z",
     "start_time": "2025-05-02T07:15:31.571988Z"
    }
   },
   "cell_type": "code",
   "source": [
    "nums1 = [11,22,33]\n",
    "n=len(nums1)\n",
    "print(n)"
   ],
   "id": "1858ccd3f0bc1e1e",
   "outputs": [
    {
     "name": "stdout",
     "output_type": "stream",
     "text": [
      "3\n"
     ]
    }
   ],
   "execution_count": 11
  },
  {
   "metadata": {
    "ExecuteTime": {
     "end_time": "2025-05-02T07:18:50.745970Z",
     "start_time": "2025-05-02T07:18:50.736261Z"
    }
   },
   "cell_type": "code",
   "source": [
    "nums1 = [11,22,33]\n",
    "\n",
    "nums1.append(44)\n",
    "print(nums1)\n",
    "\n",
    "nums1.insert(3,44)\n",
    "print(nums1)\n",
    "\n",
    "nums1.insert(-1,50)\n",
    "print(nums1)"
   ],
   "id": "83af58c73c5011cf",
   "outputs": [
    {
     "name": "stdout",
     "output_type": "stream",
     "text": [
      "[11, 22, 33, 44]\n",
      "[11, 22, 33, 44, 44]\n",
      "[11, 22, 33, 44, 50, 44]\n"
     ]
    }
   ],
   "execution_count": 14
  },
  {
   "metadata": {
    "ExecuteTime": {
     "end_time": "2025-05-02T07:21:24.148546Z",
     "start_time": "2025-05-02T07:21:24.135982Z"
    }
   },
   "cell_type": "code",
   "source": [
    "nums = [11,22,33,0,11,22,33]\n",
    "del nums[1]\n",
    "print(nums)\n",
    "\n",
    "del nums[2:4]\n",
    "print(nums)\n",
    "\n",
    "nums.remove(33)\n",
    "print(nums)"
   ],
   "id": "70ce4fe7643a729c",
   "outputs": [
    {
     "name": "stdout",
     "output_type": "stream",
     "text": [
      "[11, 33, 0, 11, 22, 33]\n",
      "[11, 33, 22, 33]\n",
      "[11, 22, 33]\n"
     ]
    }
   ],
   "execution_count": 20
  },
  {
   "metadata": {
    "ExecuteTime": {
     "end_time": "2025-05-02T07:23:20.170848Z",
     "start_time": "2025-05-02T07:23:20.157377Z"
    }
   },
   "cell_type": "code",
   "source": [
    "nums = [11,22,33,0,11,22,33]\n",
    "nums[1:3] = []\n",
    "print(nums)\n",
    "\n",
    "nums.clear()\n",
    "print(nums)"
   ],
   "id": "90d67a1b527a8e2e",
   "outputs": [
    {
     "name": "stdout",
     "output_type": "stream",
     "text": [
      "[11, 0, 11, 22, 33]\n",
      "[]\n"
     ]
    }
   ],
   "execution_count": 21
  },
  {
   "metadata": {
    "ExecuteTime": {
     "end_time": "2025-05-02T07:25:51.222087Z",
     "start_time": "2025-05-02T07:25:51.216570Z"
    }
   },
   "cell_type": "code",
   "source": [
    "nums = [11,22,33,0,11,22,33]\n",
    "\n",
    "print(nums.index(33))\n",
    "print(nums.count(0))"
   ],
   "id": "1eff5699cd09d85d",
   "outputs": [
    {
     "name": "stdout",
     "output_type": "stream",
     "text": [
      "2\n",
      "1\n"
     ]
    }
   ],
   "execution_count": 23
  },
  {
   "metadata": {
    "ExecuteTime": {
     "end_time": "2025-05-02T07:31:11.426134Z",
     "start_time": "2025-05-02T07:31:11.410728Z"
    }
   },
   "cell_type": "code",
   "source": [
    "t1 = (11,22,33,44,55)\n",
    "print(t1[0])\n",
    "print(t1[1:3])\n",
    "\n",
    "t2 = (66,77)\n",
    "t3 = t1 + t2\n",
    "print(t3)\n",
    "t4 = t2 * 3\n",
    "print(t4)"
   ],
   "id": "982503990a8e335b",
   "outputs": [
    {
     "name": "stdout",
     "output_type": "stream",
     "text": [
      "11\n",
      "(22, 33)\n",
      "(11, 22, 33, 44, 55, 66, 77)\n",
      "(66, 77, 66, 77, 66, 77)\n"
     ]
    }
   ],
   "execution_count": 24
  },
  {
   "metadata": {
    "ExecuteTime": {
     "end_time": "2025-05-02T07:45:24.102017Z",
     "start_time": "2025-05-02T07:45:24.094729Z"
    }
   },
   "cell_type": "code",
   "source": [
    "d = {'python':'파이썬', 'basic':'기초', 'programming':'프로그래밍'}\n",
    "print(d)\n",
    "print(d['python'])\n",
    "print(d['programming'])\n",
    "print(d['basic'])\n",
    "\n",
    "print(d.get('python'))\n",
    "res = d.get(0)\n",
    "print(res)"
   ],
   "id": "bbba9af9ddaa5ce4",
   "outputs": [
    {
     "name": "stdout",
     "output_type": "stream",
     "text": [
      "{'python': '파이썬', 'basic': '기초', 'programming': '프로그래밍'}\n",
      "파이썬\n",
      "프로그래밍\n",
      "기초\n",
      "파이썬\n",
      "None\n"
     ]
    }
   ],
   "execution_count": 30
  },
  {
   "metadata": {
    "ExecuteTime": {
     "end_time": "2025-05-02T07:51:42.723814Z",
     "start_time": "2025-05-02T07:51:42.711643Z"
    }
   },
   "cell_type": "code",
   "source": [
    "d = {'python':'파이썬', 'basic':'기초', 'programming':'프로그래밍','key':'유효한 키'}\n",
    "d ['PYTHON'] = '파이썬2'\n",
    "d ['python'] = 'PYTHON'\n",
    "\n",
    "print(d)\n",
    "\n",
    "key = 0\n",
    "if key in d:\n",
    "    print(d[key])\n",
    "else :\n",
    "    print(f'유효하지 않은 키{key}')"
   ],
   "id": "abdf559d0fa80bd0",
   "outputs": [
    {
     "name": "stdout",
     "output_type": "stream",
     "text": [
      "{'python': 'PYTHON', 'basic': '기초', 'programming': '프로그래밍', 'key': '유효한 키', 'PYTHON': '파이썬2'}\n",
      "유효하지 않은 키0\n"
     ]
    }
   ],
   "execution_count": 41
  }
 ],
 "metadata": {
  "kernelspec": {
   "display_name": "Python 3",
   "language": "python",
   "name": "python3"
  },
  "language_info": {
   "codemirror_mode": {
    "name": "ipython",
    "version": 2
   },
   "file_extension": ".py",
   "mimetype": "text/x-python",
   "name": "python",
   "nbconvert_exporter": "python",
   "pygments_lexer": "ipython2",
   "version": "2.7.6"
  }
 },
 "nbformat": 4,
 "nbformat_minor": 5
}
