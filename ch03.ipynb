{
 "cells": [
  {
   "metadata": {},
   "cell_type": "code",
   "outputs": [],
   "execution_count": null,
   "source": [
    "nStud, nProf = 9, 3\n",
    "\n",
    "print(nStud)\n",
    "print(nProf)\n",
    "\n",
    "#print (num)// 선언하지 않은 변수로 에러\n",
    "\n",
    "#무한히 참조 가능\n",
    "num = 1004\n",
    "print(num)\n",
    "print(num)\n",
    "\n",
    "#다시 선언하면 새로 참조\n",
    "num = '천사'\n",
    "print(num)\n",
    "\n",
    "#자료형 데이터 알기\n",
    "print(type(num))\n",
    "num = 1004\n",
    "print(type(num))\n",
    "\n",
    "#변수의 참조값 확인 // 값이 안나옴...\n",
    "id(123)\n",
    "n=123\n",
    "id(n)\n",
    "n='hi'\n",
    "id(n)\n",
    "id('hi')"
   ],
   "id": "35d40d25be9896c3"
  },
  {
   "metadata": {},
   "cell_type": "code",
   "outputs": [],
   "execution_count": null,
   "source": [
    "\n",
    "#매개변수 1개\n",
    "def show_message (name) :\n",
    "    print('hello', name, '님')\n",
    "\n",
    "print('시작')\n",
    "show_message('박세연')\n",
    "show_message('흥얼')\n",
    "print('끝')\n",
    "\n",
    "\n",
    "#3-3 매개변수 2개\n",
    "def show_message (msg, name) :\n",
    "    print(msg, name, '님')\n",
    "\n",
    "print('시작')\n",
    "show_message('하이','박세연')\n",
    "show_message('신나','흥얼')\n",
    "print('끝')\n",
    "\n",
    "#3-4 키워드 인수를 사용한\n",
    "def show_message (msg, name) :\n",
    "    print(msg, name, '님')\n",
    "\n",
    "print('시작')\n",
    "show_message(msg= \"안녕\",name= \"박세연\")\n",
    "show_message(msg= \"안녕\",name= \"박세연\")\n",
    "print('끝')\n",
    "\n",
    "\n",
    "#3-5 매개변수에 기본값을 갖는 함수\n",
    "def show_message (msg='안녕하세요', name='여러분') :\n",
    "    print(msg, name, '님')\n",
    "\n",
    "print('시작')\n",
    "show_message('안녕')\n",
    "show_message()\n",
    "show_message(msg= \"안녕\")\n",
    "show_message(name= \"박세연\")\n",
    "print('끝')\n"
   ],
   "id": "162c11a8ba808c30"
  },
  {
   "metadata": {},
   "cell_type": "code",
   "outputs": [],
   "execution_count": null,
   "source": [
    "#3-9 반환값만 갖는 함수의 올바른 호출 예\n",
    "def show_message() :\n",
    "    print('hello')\n",
    "    return 'good bye'\n",
    "\n",
    "print('시작')\n",
    "result = show_message()\n",
    "print(result)\n",
    "print('끝')\n"
   ],
   "id": "2a1f68b262cbe07d"
  },
  {
   "metadata": {
    "ExecuteTime": {
     "end_time": "2025-04-24T15:02:12.633773Z",
     "start_time": "2025-04-24T15:02:03.359034Z"
    }
   },
   "cell_type": "code",
   "source": [
    "#3-11 기본문의 기본 사용\n",
    "print('당신의 이름은? ', end='')\n",
    "name = input()\n",
    "print('반가워요', name )\n",
    "\n",
    "#3-12 입력문에서 인수사용 예\n",
    "name = input('당신의 이름은?')\n",
    "print('반가워요', name )"
   ],
   "id": "8d1338dfc43bed0f",
   "outputs": [
    {
     "name": "stdout",
     "output_type": "stream",
     "text": [
      "당신의 이름은? 반가워요 박세연\n",
      "반가워요 박세연\n"
     ]
    }
   ],
   "execution_count": 1
  },
  {
   "metadata": {},
   "cell_type": "code",
   "outputs": [],
   "execution_count": null,
   "source": [
    "#3-13\n",
    "def make_message() :\n",
    "    name = input('당신의 이름은?')\n",
    "    msg = '반가워요' + name\n",
    "    print(msg)\n",
    "\n",
    "print('시작')\n",
    "make_message()\n",
    "print('마침')\n",
    "\n",
    "#3-14 매개변수만 갖는 구조\n",
    "def make_message(name) :\n",
    "    msg = '반가워요' + name\n",
    "    print(msg)\n",
    "\n",
    "print('시작')\n",
    "input_name = input('당신의 이름은? ')\n",
    "make_message(input_name)\n",
    "print('마침')\n",
    "\n",
    "#3-15\n",
    "def make_message() :\n",
    "    name = input('당신의 이름은?')\n",
    "    msg = '반가워요' + name\n",
    "    return msg\n",
    "\n",
    "\n",
    "print('시작')\n",
    "make_message()\n",
    "print('마침')\n",
    "\n",
    "#3-16\n",
    "def make_message() :\n",
    "    name = input('당신의 이름은?')\n",
    "    msg = '반가워요' + name\n",
    "    return msg\n",
    "\n",
    "print('만나게 되어', result)\n",
    "print(result, '좋은 인연 만들어가요')\n",
    "\n",
    "#3-17\n",
    "def make_message() :\n",
    "    msg = '반가워요' + name\n",
    "    return msg\n",
    "\n",
    "print('시작')\n",
    "input_name = input('당신의 이름은?')\n",
    "result = make_message(input_name)\n",
    "print('마침')\n"
   ],
   "id": "191145303e85b8b6"
  },
  {
   "metadata": {},
   "cell_type": "code",
   "outputs": [],
   "execution_count": null,
   "source": [
    "print('helloworld')\n",
    "print('')\n",
    "print('goodjob')"
   ],
   "id": "8e11901253a11008"
  }
 ],
 "metadata": {
  "kernelspec": {
   "display_name": "Python 3",
   "language": "python",
   "name": "python3"
  },
  "language_info": {
   "codemirror_mode": {
    "name": "ipython",
    "version": 2
   },
   "file_extension": ".py",
   "mimetype": "text/x-python",
   "name": "python",
   "nbconvert_exporter": "python",
   "pygments_lexer": "ipython2",
   "version": "2.7.6"
  }
 },
 "nbformat": 4,
 "nbformat_minor": 5
}
