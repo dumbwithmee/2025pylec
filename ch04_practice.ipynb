{
 "cells": [
  {
   "metadata": {},
   "cell_type": "markdown",
   "source": [
    "# 01\n",
    "사용자로부터 임의의 정수 하나를 입력받는데 사용할 수 있는 함수 get_integer()를 작성해라.<br>\n",
    "이 함수는 프롬프트로 사용할 문자열을 매개변수로 전달받고, 복귀시 정수를 반환한다.<br>\n",
    "임의의 실수 하나를 입력받는 데 사용할 수 있는 함수 get_real()도 작성하고 그 동작을 확인해보자."
   ],
   "id": "d3fdf1a2e98e72ef"
  },
  {
   "metadata": {
    "collapsed": true,
    "ExecuteTime": {
     "end_time": "2025-04-24T17:11:59.756069Z",
     "start_time": "2025-04-24T17:11:54.705583Z"
    }
   },
   "cell_type": "code",
   "source": [
    "# 정수를 입력받는 함수\n",
    "def get_integer(prompt):\n",
    "    return int(input(prompt))\n",
    "\n",
    "# 실수를 입력받는 함수\n",
    "def get_real(prompt):\n",
    "    return float(input(prompt))\n",
    "\n",
    "# 사용 예\n",
    "i = get_integer('정수는? ')\n",
    "r = get_real('실수는? ')\n",
    "\n",
    "print(f\"입력된 정수: {i}\")\n",
    "print(f\"입력된 실수: {r}\")\n",
    "\n",
    "# 정수는? 42\n",
    "# 실수는? 3.14\n",
    "# 입력된 정수: 42\n",
    "# 입력된 실수: 3.14"
   ],
   "id": "initial_id",
   "outputs": [
    {
     "name": "stdout",
     "output_type": "stream",
     "text": [
      "입력된 정수: 333\n",
      "입력된 실수: 434.0\n"
     ]
    }
   ],
   "execution_count": 1
  },
  {
   "metadata": {},
   "cell_type": "markdown",
   "source": [
    "# 02\n",
    "사용자로부터 화씨온도(F)를 입력받아 섭씨온도(C)로 변환 <br>\n",
    "공식: C=5/9*(F-32)<br>\n",
    "사용자 정의함수 fahrenheit_to_celsius() 작성<br>\n",
    "▪ 임의의 화씨온도를 매개변수로 전달받아 섭씨온도를 계산하여 반환<br>\n",
    "◆ 사용자 정의함수 get_real() 작성\n",
    "▪ 프롬프트 메시지를 매개변수로 전달받음<br>\n",
    "▪ 이 메시지와 함께 임의의 실수 하나를 사용자로부터 입력 받아 이 값을 반환<br>\n",
    "◆ 위 두 함수를 호출, 아래와 같이 출력되는 프로그램 완성<br>"
   ],
   "id": "c2d421a6244c8766"
  },
  {
   "metadata": {},
   "cell_type": "code",
   "outputs": [],
   "execution_count": null,
   "source": "",
   "id": "d9c07dc43f069517"
  }
 ],
 "metadata": {
  "kernelspec": {
   "display_name": "Python 3",
   "language": "python",
   "name": "python3"
  },
  "language_info": {
   "codemirror_mode": {
    "name": "ipython",
    "version": 2
   },
   "file_extension": ".py",
   "mimetype": "text/x-python",
   "name": "python",
   "nbconvert_exporter": "python",
   "pygments_lexer": "ipython2",
   "version": "2.7.6"
  }
 },
 "nbformat": 4,
 "nbformat_minor": 5
}
